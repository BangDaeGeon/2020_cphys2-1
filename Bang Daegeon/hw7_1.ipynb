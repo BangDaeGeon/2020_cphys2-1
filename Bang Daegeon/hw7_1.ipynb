{
 "cells": [
  {
   "cell_type": "code",
   "execution_count": 1,
   "metadata": {},
   "outputs": [],
   "source": [
    "import numpy as np\n",
    "import matplotlib.pyplot as plt\n",
    "\n",
    "from keras.datasets import mnist\n",
    "from tensorflow import keras\n",
    "from keras import models \n",
    "from keras import layers\n",
    "from keras.utils import to_categorical"
   ]
  },
  {
   "cell_type": "code",
   "execution_count": 2,
   "metadata": {},
   "outputs": [],
   "source": [
    "(X, y), (Xtest, y_test) = mnist.load_data()\n",
    "y_train=to_categorical(y)\n",
    "y_test=to_categorical(y_test)"
   ]
  },
  {
   "cell_type": "code",
   "execution_count": 3,
   "metadata": {},
   "outputs": [],
   "source": [
    "net = models.Sequential()\n",
    "net.add(layers.Dense(10, activation='softmax', input_shape=(28*28,))) # 입력(input_dim) 1개, 출력(units) 1개인 레이어를 생성\n",
    "net.compile(optimizer='adam',loss='categorical_crossentropy',metrics=['accuracy'])"
   ]
  },
  {
   "cell_type": "code",
   "execution_count": 4,
   "metadata": {},
   "outputs": [],
   "source": [
    "X_train = X.reshape((60000, 28*28))\n",
    "X_train = X_train/255\n",
    "\n",
    "X_test = Xtest.reshape((10000, 28*28))\n",
    "X_test = X_test/255"
   ]
  },
  {
   "cell_type": "code",
   "execution_count": 5,
   "metadata": {},
   "outputs": [
    {
     "name": "stdout",
     "output_type": "stream",
     "text": [
      "Epoch 1/200\n",
      "1875/1875 [==============================] - 1s 513us/step - loss: 0.4704 - accuracy: 0.8766\n",
      "Epoch 2/200\n",
      "1875/1875 [==============================] - 1s 501us/step - loss: 0.3040 - accuracy: 0.9153\n",
      "Epoch 3/200\n",
      "1875/1875 [==============================] - 1s 504us/step - loss: 0.2833 - accuracy: 0.9210\n",
      "Epoch 4/200\n",
      "1875/1875 [==============================] - 1s 514us/step - loss: 0.2734 - accuracy: 0.9238\n",
      "Epoch 5/200\n",
      "1875/1875 [==============================] - 1s 494us/step - loss: 0.2664 - accuracy: 0.9262\n",
      "Epoch 6/200\n",
      "1875/1875 [==============================] - 1s 496us/step - loss: 0.2619 - accuracy: 0.9271\n",
      "Epoch 7/200\n",
      "1875/1875 [==============================] - 1s 489us/step - loss: 0.2582 - accuracy: 0.9279\n",
      "Epoch 8/200\n",
      "1875/1875 [==============================] - 1s 497us/step - loss: 0.2556 - accuracy: 0.9291\n",
      "Epoch 9/200\n",
      "1875/1875 [==============================] - 1s 520us/step - loss: 0.2532 - accuracy: 0.9309\n",
      "Epoch 10/200\n",
      "1875/1875 [==============================] - 1s 502us/step - loss: 0.2507 - accuracy: 0.9311\n",
      "Epoch 11/200\n",
      "1875/1875 [==============================] - 1s 495us/step - loss: 0.2492 - accuracy: 0.9311\n",
      "Epoch 12/200\n",
      "1875/1875 [==============================] - 1s 505us/step - loss: 0.2478 - accuracy: 0.9313\n",
      "Epoch 13/200\n",
      "1875/1875 [==============================] - 1s 502us/step - loss: 0.2462 - accuracy: 0.9323\n",
      "Epoch 14/200\n",
      "1875/1875 [==============================] - 1s 502us/step - loss: 0.2452 - accuracy: 0.9330\n",
      "Epoch 15/200\n",
      "1875/1875 [==============================] - 1s 514us/step - loss: 0.2439 - accuracy: 0.9328\n",
      "Epoch 16/200\n",
      "1875/1875 [==============================] - 1s 495us/step - loss: 0.2428 - accuracy: 0.9330\n",
      "Epoch 17/200\n",
      "1875/1875 [==============================] - 1s 511us/step - loss: 0.2418 - accuracy: 0.9333\n",
      "Epoch 18/200\n",
      "1875/1875 [==============================] - 1s 575us/step - loss: 0.2411 - accuracy: 0.9330\n",
      "Epoch 19/200\n",
      "1875/1875 [==============================] - 1s 626us/step - loss: 0.2407 - accuracy: 0.9344\n",
      "Epoch 20/200\n",
      "1875/1875 [==============================] - 1s 638us/step - loss: 0.2396 - accuracy: 0.9340\n",
      "Epoch 21/200\n",
      "1875/1875 [==============================] - 1s 632us/step - loss: 0.2387 - accuracy: 0.9348\n",
      "Epoch 22/200\n",
      "1875/1875 [==============================] - 1s 566us/step - loss: 0.2385 - accuracy: 0.9345\n",
      "Epoch 23/200\n",
      "1875/1875 [==============================] - 1s 527us/step - loss: 0.2376 - accuracy: 0.9346\n",
      "Epoch 24/200\n",
      "1875/1875 [==============================] - 1s 553us/step - loss: 0.2369 - accuracy: 0.9344\n",
      "Epoch 25/200\n",
      "1875/1875 [==============================] - 1s 534us/step - loss: 0.2371 - accuracy: 0.9344\n",
      "Epoch 26/200\n",
      "1875/1875 [==============================] - 1s 531us/step - loss: 0.2360 - accuracy: 0.9343\n",
      "Epoch 27/200\n",
      "1875/1875 [==============================] - 1s 529us/step - loss: 0.2356 - accuracy: 0.9349\n",
      "Epoch 28/200\n",
      "1875/1875 [==============================] - 1s 536us/step - loss: 0.2349 - accuracy: 0.9353\n",
      "Epoch 29/200\n",
      "1875/1875 [==============================] - 1s 576us/step - loss: 0.2350 - accuracy: 0.9352\n",
      "Epoch 30/200\n",
      "1875/1875 [==============================] - 1s 586us/step - loss: 0.2343 - accuracy: 0.9354\n",
      "Epoch 31/200\n",
      "1875/1875 [==============================] - 1s 644us/step - loss: 0.2337 - accuracy: 0.9356\n",
      "Epoch 32/200\n",
      "1875/1875 [==============================] - 1s 607us/step - loss: 0.2335 - accuracy: 0.9355\n",
      "Epoch 33/200\n",
      "1875/1875 [==============================] - 1s 603us/step - loss: 0.2330 - accuracy: 0.9358\n",
      "Epoch 34/200\n",
      "1875/1875 [==============================] - 1s 775us/step - loss: 0.2330 - accuracy: 0.9353\n",
      "Epoch 35/200\n",
      "1875/1875 [==============================] - 1s 583us/step - loss: 0.2323 - accuracy: 0.9354\n",
      "Epoch 36/200\n",
      "1875/1875 [==============================] - 1s 563us/step - loss: 0.2322 - accuracy: 0.9360\n",
      "Epoch 37/200\n",
      "1875/1875 [==============================] - 1s 555us/step - loss: 0.2316 - accuracy: 0.9358\n",
      "Epoch 38/200\n",
      "1875/1875 [==============================] - 1s 579us/step - loss: 0.2317 - accuracy: 0.9358\n",
      "Epoch 39/200\n",
      "1875/1875 [==============================] - 1s 575us/step - loss: 0.2313 - accuracy: 0.9363\n",
      "Epoch 40/200\n",
      "1875/1875 [==============================] - 1s 554us/step - loss: 0.2308 - accuracy: 0.9365\n",
      "Epoch 41/200\n",
      "1875/1875 [==============================] - 1s 553us/step - loss: 0.2306 - accuracy: 0.9359\n",
      "Epoch 42/200\n",
      "1875/1875 [==============================] - 1s 560us/step - loss: 0.2300 - accuracy: 0.9363\n",
      "Epoch 43/200\n",
      "1875/1875 [==============================] - 1s 565us/step - loss: 0.2302 - accuracy: 0.9368\n",
      "Epoch 44/200\n",
      "1875/1875 [==============================] - 1s 556us/step - loss: 0.2303 - accuracy: 0.9357\n",
      "Epoch 45/200\n",
      "1875/1875 [==============================] - 1s 564us/step - loss: 0.2297 - accuracy: 0.9367\n",
      "Epoch 46/200\n",
      "1875/1875 [==============================] - 1s 556us/step - loss: 0.2293 - accuracy: 0.9359\n",
      "Epoch 47/200\n",
      "1875/1875 [==============================] - 1s 560us/step - loss: 0.2292 - accuracy: 0.9364\n",
      "Epoch 48/200\n",
      "1875/1875 [==============================] - 1s 565us/step - loss: 0.2294 - accuracy: 0.9366\n",
      "Epoch 49/200\n",
      "1875/1875 [==============================] - 1s 555us/step - loss: 0.2286 - accuracy: 0.9362\n",
      "Epoch 50/200\n",
      "1875/1875 [==============================] - 1s 557us/step - loss: 0.2283 - accuracy: 0.9365\n",
      "Epoch 51/200\n",
      "1875/1875 [==============================] - 1s 574us/step - loss: 0.2281 - accuracy: 0.9371\n",
      "Epoch 52/200\n",
      "1875/1875 [==============================] - 1s 581us/step - loss: 0.2282 - accuracy: 0.9366\n",
      "Epoch 53/200\n",
      "1875/1875 [==============================] - 1s 562us/step - loss: 0.2278 - accuracy: 0.9372\n",
      "Epoch 54/200\n",
      "1875/1875 [==============================] - 1s 560us/step - loss: 0.2273 - accuracy: 0.9376\n",
      "Epoch 55/200\n",
      "1875/1875 [==============================] - 1s 568us/step - loss: 0.2273 - accuracy: 0.9362\n",
      "Epoch 56/200\n",
      "1875/1875 [==============================] - 1s 559us/step - loss: 0.2273 - accuracy: 0.9375\n",
      "Epoch 57/200\n",
      "1875/1875 [==============================] - 1s 583us/step - loss: 0.2271 - accuracy: 0.9371\n",
      "Epoch 58/200\n",
      "1875/1875 [==============================] - 1s 632us/step - loss: 0.2271 - accuracy: 0.9373\n",
      "Epoch 59/200\n",
      "1875/1875 [==============================] - 1s 556us/step - loss: 0.2266 - accuracy: 0.9368\n",
      "Epoch 60/200\n",
      "1875/1875 [==============================] - 1s 563us/step - loss: 0.2262 - accuracy: 0.9381\n",
      "Epoch 61/200\n",
      "1875/1875 [==============================] - 1s 569us/step - loss: 0.2268 - accuracy: 0.9366\n",
      "Epoch 62/200\n",
      "1875/1875 [==============================] - 1s 578us/step - loss: 0.2262 - accuracy: 0.9372\n",
      "Epoch 63/200\n",
      "1875/1875 [==============================] - 1s 559us/step - loss: 0.2261 - accuracy: 0.9380\n",
      "Epoch 64/200\n",
      "1875/1875 [==============================] - 1s 567us/step - loss: 0.2262 - accuracy: 0.9374\n",
      "Epoch 65/200\n",
      "1875/1875 [==============================] - 1s 586us/step - loss: 0.2259 - accuracy: 0.9374\n",
      "Epoch 66/200\n",
      "1875/1875 [==============================] - 1s 580us/step - loss: 0.2253 - accuracy: 0.9378\n",
      "Epoch 67/200\n",
      "1875/1875 [==============================] - 1s 572us/step - loss: 0.2251 - accuracy: 0.9376\n",
      "Epoch 68/200\n",
      "1875/1875 [==============================] - 1s 574us/step - loss: 0.2253 - accuracy: 0.9374\n",
      "Epoch 69/200\n",
      "1875/1875 [==============================] - 1s 571us/step - loss: 0.2249 - accuracy: 0.9370\n",
      "Epoch 70/200\n",
      "1875/1875 [==============================] - 1s 565us/step - loss: 0.2251 - accuracy: 0.9376\n",
      "Epoch 71/200\n",
      "1875/1875 [==============================] - 1s 584us/step - loss: 0.2252 - accuracy: 0.9378\n",
      "Epoch 72/200\n",
      "1875/1875 [==============================] - 1s 573us/step - loss: 0.2246 - accuracy: 0.9377\n",
      "Epoch 73/200\n",
      "1875/1875 [==============================] - 1s 563us/step - loss: 0.2247 - accuracy: 0.9372\n",
      "Epoch 74/200\n",
      "1875/1875 [==============================] - 1s 578us/step - loss: 0.2241 - accuracy: 0.9383\n",
      "Epoch 75/200\n",
      "1875/1875 [==============================] - 1s 578us/step - loss: 0.2246 - accuracy: 0.9373\n",
      "Epoch 76/200\n",
      "1875/1875 [==============================] - 1s 614us/step - loss: 0.2237 - accuracy: 0.9377\n",
      "Epoch 77/200\n",
      "1875/1875 [==============================] - 1s 596us/step - loss: 0.2241 - accuracy: 0.9383\n",
      "Epoch 78/200\n",
      "1875/1875 [==============================] - 1s 558us/step - loss: 0.2239 - accuracy: 0.9375\n",
      "Epoch 79/200\n",
      "1875/1875 [==============================] - 1s 571us/step - loss: 0.2241 - accuracy: 0.9374\n",
      "Epoch 80/200\n",
      "1875/1875 [==============================] - 1s 572us/step - loss: 0.2235 - accuracy: 0.9379\n",
      "Epoch 81/200\n",
      "1875/1875 [==============================] - 1s 557us/step - loss: 0.2237 - accuracy: 0.9379\n",
      "Epoch 82/200\n",
      "1875/1875 [==============================] - 1s 563us/step - loss: 0.2236 - accuracy: 0.9374\n",
      "Epoch 83/200\n",
      "1875/1875 [==============================] - 1s 557us/step - loss: 0.2234 - accuracy: 0.9374\n",
      "Epoch 84/200\n",
      "1875/1875 [==============================] - 1s 557us/step - loss: 0.2235 - accuracy: 0.9378\n",
      "Epoch 85/200\n",
      "1875/1875 [==============================] - 1s 590us/step - loss: 0.2234 - accuracy: 0.9369\n",
      "Epoch 86/200\n",
      "1875/1875 [==============================] - 1s 558us/step - loss: 0.2229 - accuracy: 0.9381\n",
      "Epoch 87/200\n",
      "1875/1875 [==============================] - 1s 560us/step - loss: 0.2232 - accuracy: 0.9378\n",
      "Epoch 88/200\n",
      "1875/1875 [==============================] - 1s 567us/step - loss: 0.2233 - accuracy: 0.9380\n",
      "Epoch 89/200\n",
      "1875/1875 [==============================] - 1s 565us/step - loss: 0.2226 - accuracy: 0.9379\n",
      "Epoch 90/200\n",
      "1875/1875 [==============================] - 1s 553us/step - loss: 0.2230 - accuracy: 0.9380\n",
      "Epoch 91/200\n",
      "1875/1875 [==============================] - 1s 574us/step - loss: 0.2232 - accuracy: 0.9382\n",
      "Epoch 92/200\n",
      "1875/1875 [==============================] - 1s 562us/step - loss: 0.2226 - accuracy: 0.9388\n",
      "Epoch 93/200\n",
      "1875/1875 [==============================] - 1s 563us/step - loss: 0.2223 - accuracy: 0.9383\n",
      "Epoch 94/200\n",
      "1875/1875 [==============================] - 1s 581us/step - loss: 0.2224 - accuracy: 0.9377\n",
      "Epoch 95/200\n",
      "1875/1875 [==============================] - 1s 576us/step - loss: 0.2221 - accuracy: 0.9382\n",
      "Epoch 96/200\n",
      "1875/1875 [==============================] - 1s 560us/step - loss: 0.2220 - accuracy: 0.9383\n",
      "Epoch 97/200\n",
      "1875/1875 [==============================] - 1s 564us/step - loss: 0.2221 - accuracy: 0.9378\n",
      "Epoch 98/200\n",
      "1875/1875 [==============================] - 1s 563us/step - loss: 0.2220 - accuracy: 0.9383\n",
      "Epoch 99/200\n",
      "1875/1875 [==============================] - 1s 579us/step - loss: 0.2219 - accuracy: 0.9381\n",
      "Epoch 100/200\n",
      "1875/1875 [==============================] - 1s 564us/step - loss: 0.2216 - accuracy: 0.9385\n",
      "Epoch 101/200\n",
      "1875/1875 [==============================] - 1s 565us/step - loss: 0.2215 - accuracy: 0.9385\n",
      "Epoch 102/200\n",
      "1875/1875 [==============================] - 1s 575us/step - loss: 0.2219 - accuracy: 0.9380\n",
      "Epoch 103/200\n",
      "1875/1875 [==============================] - 1s 578us/step - loss: 0.2215 - accuracy: 0.9383\n",
      "Epoch 104/200\n",
      "1875/1875 [==============================] - 1s 567us/step - loss: 0.2215 - accuracy: 0.9382\n",
      "Epoch 105/200\n",
      "1875/1875 [==============================] - 1s 565us/step - loss: 0.2211 - accuracy: 0.9380\n",
      "Epoch 106/200\n",
      "1875/1875 [==============================] - 1s 567us/step - loss: 0.2213 - accuracy: 0.9391\n",
      "Epoch 107/200\n",
      "1875/1875 [==============================] - 1s 565us/step - loss: 0.2211 - accuracy: 0.9381\n",
      "Epoch 108/200\n",
      "1875/1875 [==============================] - 1s 593us/step - loss: 0.2212 - accuracy: 0.9380\n",
      "Epoch 109/200\n",
      "1875/1875 [==============================] - 1s 565us/step - loss: 0.2212 - accuracy: 0.9382\n",
      "Epoch 110/200\n",
      "1875/1875 [==============================] - 1s 564us/step - loss: 0.2211 - accuracy: 0.9382\n",
      "Epoch 111/200\n",
      "1875/1875 [==============================] - 1s 576us/step - loss: 0.2209 - accuracy: 0.9384\n",
      "Epoch 112/200\n",
      "1875/1875 [==============================] - 1s 560us/step - loss: 0.2208 - accuracy: 0.9385\n",
      "Epoch 113/200\n",
      "1875/1875 [==============================] - 1s 583us/step - loss: 0.2209 - accuracy: 0.9385\n",
      "Epoch 114/200\n",
      "1875/1875 [==============================] - 1s 637us/step - loss: 0.2208 - accuracy: 0.9383\n",
      "Epoch 115/200\n",
      "1875/1875 [==============================] - 1s 567us/step - loss: 0.2208 - accuracy: 0.9385\n",
      "Epoch 116/200\n",
      "1875/1875 [==============================] - 1s 567us/step - loss: 0.2207 - accuracy: 0.9384\n",
      "Epoch 117/200\n",
      "1875/1875 [==============================] - 1s 586us/step - loss: 0.2207 - accuracy: 0.9384\n",
      "Epoch 118/200\n",
      "1875/1875 [==============================] - 1s 566us/step - loss: 0.2206 - accuracy: 0.9384\n",
      "Epoch 119/200\n",
      "1875/1875 [==============================] - 1s 572us/step - loss: 0.2199 - accuracy: 0.9384\n",
      "Epoch 120/200\n",
      "1875/1875 [==============================] - 1s 570us/step - loss: 0.2200 - accuracy: 0.9388\n",
      "Epoch 121/200\n",
      "1875/1875 [==============================] - 1s 568us/step - loss: 0.2206 - accuracy: 0.9385\n",
      "Epoch 122/200\n",
      "1875/1875 [==============================] - 1s 585us/step - loss: 0.2204 - accuracy: 0.9386\n",
      "Epoch 123/200\n",
      "1875/1875 [==============================] - 1s 573us/step - loss: 0.2203 - accuracy: 0.9384\n",
      "Epoch 124/200\n",
      "1875/1875 [==============================] - 1s 563us/step - loss: 0.2203 - accuracy: 0.9382\n",
      "Epoch 125/200\n",
      "1875/1875 [==============================] - 1s 580us/step - loss: 0.2196 - accuracy: 0.9394\n",
      "Epoch 126/200\n",
      "1875/1875 [==============================] - 1s 578us/step - loss: 0.2199 - accuracy: 0.9393\n",
      "Epoch 127/200\n",
      "1875/1875 [==============================] - 1s 581us/step - loss: 0.2199 - accuracy: 0.9387\n",
      "Epoch 128/200\n",
      "1875/1875 [==============================] - 1s 577us/step - loss: 0.2200 - accuracy: 0.9386\n",
      "Epoch 129/200\n",
      "1875/1875 [==============================] - 1s 576us/step - loss: 0.2200 - accuracy: 0.9388\n",
      "Epoch 130/200\n",
      "1875/1875 [==============================] - 1s 589us/step - loss: 0.2195 - accuracy: 0.9389\n",
      "Epoch 131/200\n",
      "1875/1875 [==============================] - 1s 599us/step - loss: 0.2196 - accuracy: 0.9387\n",
      "Epoch 132/200\n",
      "1875/1875 [==============================] - 1s 641us/step - loss: 0.2194 - accuracy: 0.9388\n",
      "Epoch 133/200\n",
      "1875/1875 [==============================] - 1s 577us/step - loss: 0.2194 - accuracy: 0.9386\n",
      "Epoch 134/200\n",
      "1875/1875 [==============================] - 1s 572us/step - loss: 0.2199 - accuracy: 0.9385\n",
      "Epoch 135/200\n",
      "1875/1875 [==============================] - 1s 575us/step - loss: 0.2196 - accuracy: 0.9394\n",
      "Epoch 136/200\n",
      "1875/1875 [==============================] - 1s 592us/step - loss: 0.2194 - accuracy: 0.9391\n",
      "Epoch 137/200\n",
      "1875/1875 [==============================] - 1s 577us/step - loss: 0.2191 - accuracy: 0.9390\n",
      "Epoch 138/200\n",
      "1875/1875 [==============================] - 1s 594us/step - loss: 0.2192 - accuracy: 0.9385\n",
      "Epoch 139/200\n",
      "1875/1875 [==============================] - 1s 578us/step - loss: 0.2193 - accuracy: 0.9392\n",
      "Epoch 140/200\n",
      "1875/1875 [==============================] - 1s 591us/step - loss: 0.2195 - accuracy: 0.9384\n",
      "Epoch 141/200\n",
      "1875/1875 [==============================] - 1s 587us/step - loss: 0.2190 - accuracy: 0.9384\n",
      "Epoch 142/200\n",
      "1875/1875 [==============================] - 1s 580us/step - loss: 0.2190 - accuracy: 0.9389\n",
      "Epoch 143/200\n",
      "1875/1875 [==============================] - 1s 576us/step - loss: 0.2190 - accuracy: 0.9384\n",
      "Epoch 144/200\n",
      "1875/1875 [==============================] - 1s 573us/step - loss: 0.2193 - accuracy: 0.9390\n",
      "Epoch 145/200\n",
      "1875/1875 [==============================] - 1s 589us/step - loss: 0.2192 - accuracy: 0.9387\n",
      "Epoch 146/200\n",
      "1875/1875 [==============================] - 1s 573us/step - loss: 0.2190 - accuracy: 0.9387\n",
      "Epoch 147/200\n",
      "1875/1875 [==============================] - 1s 582us/step - loss: 0.2187 - accuracy: 0.9388\n",
      "Epoch 148/200\n",
      "1875/1875 [==============================] - 1s 574us/step - loss: 0.2188 - accuracy: 0.9393\n",
      "Epoch 149/200\n",
      "1875/1875 [==============================] - 1s 584us/step - loss: 0.2189 - accuracy: 0.9390\n",
      "Epoch 150/200\n",
      "1875/1875 [==============================] - 1s 604us/step - loss: 0.2185 - accuracy: 0.9384\n",
      "Epoch 151/200\n",
      "1875/1875 [==============================] - 1s 579us/step - loss: 0.2186 - accuracy: 0.9389\n",
      "Epoch 152/200\n",
      "1875/1875 [==============================] - 1s 581us/step - loss: 0.2187 - accuracy: 0.9388\n",
      "Epoch 153/200\n",
      "1875/1875 [==============================] - 1s 582us/step - loss: 0.2187 - accuracy: 0.9387\n",
      "Epoch 154/200\n"
     ]
    },
    {
     "name": "stdout",
     "output_type": "stream",
     "text": [
      "1875/1875 [==============================] - 1s 580us/step - loss: 0.2188 - accuracy: 0.9386\n",
      "Epoch 155/200\n",
      "1875/1875 [==============================] - 1s 573us/step - loss: 0.2181 - accuracy: 0.9390\n",
      "Epoch 156/200\n",
      "1875/1875 [==============================] - 1s 569us/step - loss: 0.2185 - accuracy: 0.9390\n",
      "Epoch 157/200\n",
      "1875/1875 [==============================] - 1s 577us/step - loss: 0.2186 - accuracy: 0.9390\n",
      "Epoch 158/200\n",
      "1875/1875 [==============================] - 1s 586us/step - loss: 0.2183 - accuracy: 0.9384\n",
      "Epoch 159/200\n",
      "1875/1875 [==============================] - 1s 582us/step - loss: 0.2180 - accuracy: 0.9396\n",
      "Epoch 160/200\n",
      "1875/1875 [==============================] - 1s 567us/step - loss: 0.2184 - accuracy: 0.9389\n",
      "Epoch 161/200\n",
      "1875/1875 [==============================] - 1s 571us/step - loss: 0.2182 - accuracy: 0.9385\n",
      "Epoch 162/200\n",
      "1875/1875 [==============================] - 1s 658us/step - loss: 0.2183 - accuracy: 0.9394\n",
      "Epoch 163/200\n",
      "1875/1875 [==============================] - 1s 689us/step - loss: 0.2183 - accuracy: 0.9392\n",
      "Epoch 164/200\n",
      "1875/1875 [==============================] - 1s 595us/step - loss: 0.2179 - accuracy: 0.9391\n",
      "Epoch 165/200\n",
      "1875/1875 [==============================] - 1s 586us/step - loss: 0.2181 - accuracy: 0.9398\n",
      "Epoch 166/200\n",
      "1875/1875 [==============================] - 1s 629us/step - loss: 0.2182 - accuracy: 0.9385\n",
      "Epoch 167/200\n",
      "1875/1875 [==============================] - 1s 651us/step - loss: 0.2176 - accuracy: 0.9390\n",
      "Epoch 168/200\n",
      "1875/1875 [==============================] - 1s 649us/step - loss: 0.2178 - accuracy: 0.9391\n",
      "Epoch 169/200\n",
      "1875/1875 [==============================] - 1s 587us/step - loss: 0.2178 - accuracy: 0.9394\n",
      "Epoch 170/200\n",
      "1875/1875 [==============================] - 1s 578us/step - loss: 0.2178 - accuracy: 0.9391\n",
      "Epoch 171/200\n",
      "1875/1875 [==============================] - 1s 589us/step - loss: 0.2180 - accuracy: 0.9387\n",
      "Epoch 172/200\n",
      "1875/1875 [==============================] - 1s 594us/step - loss: 0.2179 - accuracy: 0.9393\n",
      "Epoch 173/200\n",
      "1875/1875 [==============================] - 1s 588us/step - loss: 0.2177 - accuracy: 0.9390\n",
      "Epoch 174/200\n",
      "1875/1875 [==============================] - 1s 587us/step - loss: 0.2181 - accuracy: 0.9389\n",
      "Epoch 175/200\n",
      "1875/1875 [==============================] - 1s 605us/step - loss: 0.2176 - accuracy: 0.9385\n",
      "Epoch 176/200\n",
      "1875/1875 [==============================] - 1s 592us/step - loss: 0.2177 - accuracy: 0.9391\n",
      "Epoch 177/200\n",
      "1875/1875 [==============================] - 1s 586us/step - loss: 0.2176 - accuracy: 0.9390\n",
      "Epoch 178/200\n",
      "1875/1875 [==============================] - 1s 588us/step - loss: 0.2177 - accuracy: 0.9386\n",
      "Epoch 179/200\n",
      "1875/1875 [==============================] - 1s 589us/step - loss: 0.2174 - accuracy: 0.9394\n",
      "Epoch 180/200\n",
      "1875/1875 [==============================] - 1s 590us/step - loss: 0.2173 - accuracy: 0.9395\n",
      "Epoch 181/200\n",
      "1875/1875 [==============================] - 1s 589us/step - loss: 0.2174 - accuracy: 0.9391\n",
      "Epoch 182/200\n",
      "1875/1875 [==============================] - 1s 610us/step - loss: 0.2176 - accuracy: 0.9390\n",
      "Epoch 183/200\n",
      "1875/1875 [==============================] - 1s 629us/step - loss: 0.2176 - accuracy: 0.9389\n",
      "Epoch 184/200\n",
      "1875/1875 [==============================] - 1s 594us/step - loss: 0.2176 - accuracy: 0.9393\n",
      "Epoch 185/200\n",
      "1875/1875 [==============================] - 1s 618us/step - loss: 0.2173 - accuracy: 0.9386\n",
      "Epoch 186/200\n",
      "1875/1875 [==============================] - 1s 660us/step - loss: 0.2170 - accuracy: 0.9393\n",
      "Epoch 187/200\n",
      "1875/1875 [==============================] - 1s 583us/step - loss: 0.2172 - accuracy: 0.9392\n",
      "Epoch 188/200\n",
      "1875/1875 [==============================] - 1s 597us/step - loss: 0.2170 - accuracy: 0.9385\n",
      "Epoch 189/200\n",
      "1875/1875 [==============================] - 1s 602us/step - loss: 0.2173 - accuracy: 0.9397\n",
      "Epoch 190/200\n",
      "1875/1875 [==============================] - 1s 583us/step - loss: 0.2173 - accuracy: 0.9386\n",
      "Epoch 191/200\n",
      "1875/1875 [==============================] - 1s 594us/step - loss: 0.2170 - accuracy: 0.9397\n",
      "Epoch 192/200\n",
      "1875/1875 [==============================] - 1s 582us/step - loss: 0.2169 - accuracy: 0.9390\n",
      "Epoch 193/200\n",
      "1875/1875 [==============================] - 1s 582us/step - loss: 0.2171 - accuracy: 0.9396\n",
      "Epoch 194/200\n",
      "1875/1875 [==============================] - 1s 613us/step - loss: 0.2176 - accuracy: 0.9391\n",
      "Epoch 195/200\n",
      "1875/1875 [==============================] - 1s 596us/step - loss: 0.2170 - accuracy: 0.9393\n",
      "Epoch 196/200\n",
      "1875/1875 [==============================] - 1s 580us/step - loss: 0.2174 - accuracy: 0.9388\n",
      "Epoch 197/200\n",
      "1875/1875 [==============================] - 1s 592us/step - loss: 0.2168 - accuracy: 0.9389\n",
      "Epoch 198/200\n",
      "1875/1875 [==============================] - 1s 605us/step - loss: 0.2168 - accuracy: 0.9394\n",
      "Epoch 199/200\n",
      "1875/1875 [==============================] - 1s 586us/step - loss: 0.2168 - accuracy: 0.9388\n",
      "Epoch 200/200\n",
      "1875/1875 [==============================] - 1s 588us/step - loss: 0.2167 - accuracy: 0.9396\n"
     ]
    },
    {
     "data": {
      "text/plain": [
       "<tensorflow.python.keras.callbacks.History at 0x1b1315a1388>"
      ]
     },
     "execution_count": 5,
     "metadata": {},
     "output_type": "execute_result"
    }
   ],
   "source": [
    "net.fit(X_train, y_train, epochs=200)"
   ]
  },
  {
   "cell_type": "code",
   "execution_count": 6,
   "metadata": {},
   "outputs": [
    {
     "data": {
      "text/plain": [
       "<matplotlib.image.AxesImage at 0x1b15dffdb88>"
      ]
     },
     "execution_count": 6,
     "metadata": {},
     "output_type": "execute_result"
    },
    {
     "data": {
      "image/png": "[encoded data removed]",
      "text/plain": [
       "<Figure size 432x288 with 1 Axes>"
      ]
     },
     "metadata": {
      "needs_background": "light"
     },
     "output_type": "display_data"
    }
   ],
   "source": [
    "plt.imshow(Xtest[8])"
   ]
  },
  {
   "cell_type": "code",
   "execution_count": 7,
   "metadata": {},
   "outputs": [
    {
     "data": {
      "text/plain": [
       "6"
      ]
     },
     "execution_count": 7,
     "metadata": {},
     "output_type": "execute_result"
    }
   ],
   "source": [
    "np.argmax(net.predict(X_test)[8])"
   ]
  },
  {
   "cell_type": "code",
   "execution_count": 8,
   "metadata": {},
   "outputs": [
    {
     "data": {
      "text/plain": [
       "array([0., 0., 0., 0., 0., 1., 0., 0., 0., 0.], dtype=float32)"
      ]
     },
     "execution_count": 8,
     "metadata": {},
     "output_type": "execute_result"
    }
   ],
   "source": [
    "y_test[8]"
   ]
  },
  {
   "cell_type": "code",
   "execution_count": 9,
   "metadata": {},
   "outputs": [
    {
     "data": {
      "text/plain": [
       "<matplotlib.image.AxesImage at 0x1b160267108>"
      ]
     },
     "execution_count": 9,
     "metadata": {},
     "output_type": "execute_result"
    },
    {
     "data": {
      "image/png": "[encoded data removed]",
      "text/plain": [
       "<Figure size 432x288 with 1 Axes>"
      ]
     },
     "metadata": {
      "needs_background": "light"
     },
     "output_type": "display_data"
    }
   ],
   "source": [
    "plt.imshow(Xtest[314])"
   ]
  },
  {
   "cell_type": "code",
   "execution_count": 10,
   "metadata": {},
   "outputs": [
    {
     "data": {
      "text/plain": [
       "1"
      ]
     },
     "execution_count": 10,
     "metadata": {},
     "output_type": "execute_result"
    }
   ],
   "source": [
    "np.argmax(net.predict(X_test)[314])"
   ]
  },
  {
   "cell_type": "code",
   "execution_count": 11,
   "metadata": {},
   "outputs": [
    {
     "data": {
      "text/plain": [
       "array([0., 1., 0., 0., 0., 0., 0., 0., 0., 0.], dtype=float32)"
      ]
     },
     "execution_count": 11,
     "metadata": {},
     "output_type": "execute_result"
    }
   ],
   "source": [
    "y_test[314]"
   ]
  },
  {
   "cell_type": "code",
   "execution_count": 12,
   "metadata": {},
   "outputs": [
    {
     "name": "stdout",
     "output_type": "stream",
     "text": [
      "313/313 [==============================] - 0s 451us/step - loss: 0.3219 - accuracy: 0.9247\n"
     ]
    },
    {
     "data": {
      "text/plain": [
       "[0.3219171464443207, 0.9247000217437744]"
      ]
     },
     "execution_count": 12,
     "metadata": {},
     "output_type": "execute_result"
    }
   ],
   "source": [
    "net.evaluate(X_test,y_test)"
   ]
  },
  {
   "cell_type": "markdown",
   "metadata": {},
   "source": [
    "# 비교는 hw7_03에서 하겠습니다."
   ]
  },
  {
   "cell_type": "code",
   "execution_count": null,
   "metadata": {},
   "outputs": [],
   "source": []
  }
 ],
 "metadata": {
  "kernelspec": {
   "display_name": "Python 3",
   "language": "python",
   "name": "python3"
  },
  "language_info": {
   "codemirror_mode": {
    "name": "ipython",
    "version": 3
   },
   "file_extension": ".py",
   "mimetype": "text/x-python",
   "name": "python",
   "nbconvert_exporter": "python",
   "pygments_lexer": "ipython3",
   "version": "3.7.3"
  }
 },
 "nbformat": 4,
 "nbformat_minor": 2
}
