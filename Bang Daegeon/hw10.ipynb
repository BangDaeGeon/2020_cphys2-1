{
 "cells": [
  {
   "cell_type": "markdown",
   "metadata": {},
   "source": [
    "# IMDB Datasets"
   ]
  },
  {
   "cell_type": "code",
   "execution_count": 1,
   "metadata": {},
   "outputs": [],
   "source": [
    "import numpy as np\n",
    "from tensorflow import keras\n",
    "from keras import models \n",
    "from keras import layers\n",
    "import matplotlib.pyplot as plt\n",
    "\n",
    "from keras.datasets import imdb\n",
    "# https://www.imdb.com/\n",
    "(X, y_train), (X_test, y_test) = imdb.load_data(num_words=10000)"
   ]
  },
  {
   "cell_type": "code",
   "execution_count": 2,
   "metadata": {},
   "outputs": [],
   "source": [
    "# text to vector\n",
    "def vect(seq, dim=10000):\n",
    "    x=np.zeros((len(seq),dim))\n",
    "    for n, i in enumerate(seq):\n",
    "        x[n, i] = 1\n",
    "    return x\n",
    "\n",
    "X_train=vect(X)\n",
    "X_test=vect(X_test)"
   ]
  },
  {
   "cell_type": "code",
   "execution_count": 3,
   "metadata": {},
   "outputs": [
    {
     "data": {
      "text/plain": [
       "array([0., 1., 1., ..., 0., 0., 0.])"
      ]
     },
     "execution_count": 3,
     "metadata": {},
     "output_type": "execute_result"
    }
   ],
   "source": [
    "X_train[0]"
   ]
  },
  {
   "cell_type": "code",
   "execution_count": 4,
   "metadata": {},
   "outputs": [
    {
     "name": "stdout",
     "output_type": "stream",
     "text": [
      "Epoch 1/7\n",
      "118/118 [==============================] - 12s 104ms/step - loss: 0.5789 - acc: 0.6908 - val_loss: 0.3884 - val_acc: 0.8715\n",
      "Epoch 2/7\n",
      "118/118 [==============================] - 1s 8ms/step - loss: 0.3753 - acc: 0.8576 - val_loss: 0.2935 - val_acc: 0.8874\n",
      "Epoch 3/7\n",
      "118/118 [==============================] - 1s 8ms/step - loss: 0.2809 - acc: 0.9023 - val_loss: 0.2792 - val_acc: 0.8850\n",
      "Epoch 4/7\n",
      "118/118 [==============================] - 1s 8ms/step - loss: 0.2253 - acc: 0.9203 - val_loss: 0.2797 - val_acc: 0.8870\n",
      "Epoch 5/7\n",
      "118/118 [==============================] - 1s 11ms/step - loss: 0.1932 - acc: 0.9339 - val_loss: 0.3022 - val_acc: 0.8870\n",
      "Epoch 6/7\n",
      "118/118 [==============================] - 1s 10ms/step - loss: 0.1574 - acc: 0.9471 - val_loss: 0.3308 - val_acc: 0.8869\n",
      "Epoch 7/7\n",
      "118/118 [==============================] - 1s 8ms/step - loss: 0.1348 - acc: 0.9543 - val_loss: 0.3701 - val_acc: 0.8829\n"
     ]
    }
   ],
   "source": [
    "net = models.Sequential()\n",
    "net.add(layers.Dense(16, activation='relu', input_shape=(10000,)))\n",
    "net.add(layers.Dropout(0.5))\n",
    "net.add(layers.Dense(16, activation='relu'))\n",
    "net.add(layers.Dropout(0.5))\n",
    "net.add(layers.Dense(1, activation='sigmoid'))\n",
    "net.compile(optimizer='nadam', loss='binary_crossentropy', metrics = ['acc'])\n",
    "\n",
    "X_val = X_train[:10000]\n",
    "partial_X_train = X_train[10000:]\n",
    "\n",
    "y_val = y_train[:10000]\n",
    "partial_y_train = y_train[10000:]\n",
    "\n",
    "val = net.fit(partial_X_train, partial_y_train, epochs=7, batch_size=128, validation_data=(X_val, y_val))"
   ]
  },
  {
   "cell_type": "code",
   "execution_count": 5,
   "metadata": {},
   "outputs": [
    {
     "data": {
      "text/plain": [
       "[<matplotlib.lines.Line2D at 0x199af1b1d48>]"
      ]
     },
     "execution_count": 5,
     "metadata": {},
     "output_type": "execute_result"
    },
    {
     "data": {
      "image/png": "[encoded data removed]",
      "text/plain": [
       "<Figure size 432x288 with 1 Axes>"
      ]
     },
     "metadata": {
      "needs_background": "light"
     },
     "output_type": "display_data"
    }
   ],
   "source": [
    "val_dict = val.history\n",
    "loss = val_dict['loss']\n",
    "val_loss = val_dict['val_loss']\n",
    "x = np.arange(0,len(loss))\n",
    "\n",
    "plt.plot(x,loss,'-')\n",
    "plt.plot(x,val_loss,'o')"
   ]
  },
  {
   "cell_type": "code",
   "execution_count": 6,
   "metadata": {},
   "outputs": [
    {
     "name": "stdout",
     "output_type": "stream",
     "text": [
      "782/782 [==============================] - 1s 1ms/step - loss: 0.3930 - acc: 0.8751\n"
     ]
    }
   ],
   "source": [
    "test_loss, test_acc = net.evaluate(X_test,y_test)"
   ]
  },
  {
   "cell_type": "markdown",
   "metadata": {},
   "source": [
    "# IMDB Classification using simple RNN"
   ]
  },
  {
   "cell_type": "code",
   "execution_count": 7,
   "metadata": {},
   "outputs": [],
   "source": [
    "from keras.preprocessing import sequence\n",
    "\n",
    "max_words=10000 \n",
    "(X_train_rnn, y_train_rnn), (X_test_rnn, y_test_rnn) = imdb.load_data(num_words=max_words)\n",
    "\n",
    "maxlen = 100 # sequence length\n",
    "X_train_rnn = sequence.pad_sequences(X_train_rnn, maxlen=maxlen)\n",
    "X_test_rnn = sequence.pad_sequences(X_test_rnn, maxlen=maxlen)"
   ]
  },
  {
   "cell_type": "code",
   "execution_count": 8,
   "metadata": {},
   "outputs": [
    {
     "data": {
      "text/plain": [
       "array([1415,   33,    6,   22,   12,  215,   28,   77,   52,    5,   14,\n",
       "        407,   16,   82,    2,    8,    4,  107,  117, 5952,   15,  256,\n",
       "          4,    2,    7, 3766,    5,  723,   36,   71,   43,  530,  476,\n",
       "         26,  400,  317,   46,    7,    4,    2, 1029,   13,  104,   88,\n",
       "          4,  381,   15,  297,   98,   32, 2071,   56,   26,  141,    6,\n",
       "        194, 7486,   18,    4,  226,   22,   21,  134,  476,   26,  480,\n",
       "          5,  144,   30, 5535,   18,   51,   36,   28,  224,   92,   25,\n",
       "        104,    4,  226,   65,   16,   38, 1334,   88,   12,   16,  283,\n",
       "          5,   16, 4472,  113,  103,   32,   15,   16, 5345,   19,  178,\n",
       "         32])"
      ]
     },
     "execution_count": 8,
     "metadata": {},
     "output_type": "execute_result"
    }
   ],
   "source": [
    "X_train_rnn[0]"
   ]
  },
  {
   "cell_type": "code",
   "execution_count": 9,
   "metadata": {},
   "outputs": [],
   "source": [
    "rnn = models.Sequential()\n",
    "rnn.add(layers.Embedding(max_words, 16)) # 각각의 단어를 n=16 차원 공간에 올리기\n",
    "rnn.add(layers.SimpleRNN(32,return_sequences='True')) \n",
    "# 다층 RNN를 하기 위해 return_sequences = True로 설정\n",
    "rnn.add(layers.Dropout(0.5))\n",
    "rnn.add(layers.SimpleRNN(32))\n",
    "rnn.add(layers.Dropout(0.5))\n",
    "rnn.add(layers.Dense(1, activation='sigmoid'))\n",
    "rnn.compile(optimizer='nadam',loss='binary_crossentropy',metrics=['acc'])"
   ]
  },
  {
   "cell_type": "code",
   "execution_count": 10,
   "metadata": {},
   "outputs": [
    {
     "name": "stdout",
     "output_type": "stream",
     "text": [
      "Model: \"sequential_1\"\n",
      "_________________________________________________________________\n",
      "Layer (type)                 Output Shape              Param #   \n",
      "=================================================================\n",
      "embedding (Embedding)        (None, None, 16)          160000    \n",
      "_________________________________________________________________\n",
      "simple_rnn (SimpleRNN)       (None, None, 32)          1568      \n",
      "_________________________________________________________________\n",
      "dropout_2 (Dropout)          (None, None, 32)          0         \n",
      "_________________________________________________________________\n",
      "simple_rnn_1 (SimpleRNN)     (None, 32)                2080      \n",
      "_________________________________________________________________\n",
      "dropout_3 (Dropout)          (None, 32)                0         \n",
      "_________________________________________________________________\n",
      "dense_3 (Dense)              (None, 1)                 33        \n",
      "=================================================================\n",
      "Total params: 163,681\n",
      "Trainable params: 163,681\n",
      "Non-trainable params: 0\n",
      "_________________________________________________________________\n"
     ]
    }
   ],
   "source": [
    "rnn.summary()"
   ]
  },
  {
   "cell_type": "code",
   "execution_count": 11,
   "metadata": {},
   "outputs": [
    {
     "name": "stdout",
     "output_type": "stream",
     "text": [
      "Epoch 1/7\n",
      "157/157 [==============================] - 5s 34ms/step - loss: 0.6391 - acc: 0.6270 - val_loss: 0.7300 - val_acc: 0.6202\n",
      "Epoch 2/7\n",
      "157/157 [==============================] - 5s 33ms/step - loss: 0.4140 - acc: 0.8255 - val_loss: 0.4074 - val_acc: 0.8188\n",
      "Epoch 3/7\n",
      "157/157 [==============================] - 5s 31ms/step - loss: 0.3155 - acc: 0.8791 - val_loss: 0.4579 - val_acc: 0.8270\n",
      "Epoch 4/7\n",
      "157/157 [==============================] - 5s 33ms/step - loss: 0.2608 - acc: 0.9044 - val_loss: 0.4151 - val_acc: 0.8418\n",
      "Epoch 5/7\n",
      "157/157 [==============================] - 5s 29ms/step - loss: 0.2126 - acc: 0.9248 - val_loss: 0.4057 - val_acc: 0.8304\n",
      "Epoch 6/7\n",
      "157/157 [==============================] - 5s 32ms/step - loss: 0.1826 - acc: 0.9355 - val_loss: 0.6373 - val_acc: 0.7822\n",
      "Epoch 7/7\n",
      "157/157 [==============================] - 5s 34ms/step - loss: 0.1208 - acc: 0.9613 - val_loss: 0.5636 - val_acc: 0.8136\n"
     ]
    }
   ],
   "source": [
    "history=rnn.fit(X_train_rnn, y_train_rnn, epochs=7, batch_size=128, validation_split=0.2)"
   ]
  },
  {
   "cell_type": "code",
   "execution_count": 12,
   "metadata": {},
   "outputs": [
    {
     "data": {
      "text/plain": [
       "[<matplotlib.lines.Line2D at 0x1999c397208>]"
      ]
     },
     "execution_count": 12,
     "metadata": {},
     "output_type": "execute_result"
    },
    {
     "data": {
      "image/png": "[encoded data removed]",
      "text/plain": [
       "<Figure size 432x288 with 1 Axes>"
      ]
     },
     "metadata": {
      "needs_background": "light"
     },
     "output_type": "display_data"
    }
   ],
   "source": [
    "loss=history.history['loss']\n",
    "val=history.history['val_loss']\n",
    "acc=history.history['acc']\n",
    "val_acc=history.history['val_acc']\n",
    "plt.plot(acc,'--', color='g')\n",
    "plt.plot(val_acc,'o')\n",
    "plt.plot(loss)\n",
    "plt.plot(val,'o',color='y')"
   ]
  },
  {
   "cell_type": "code",
   "execution_count": 14,
   "metadata": {},
   "outputs": [
    {
     "name": "stdout",
     "output_type": "stream",
     "text": [
      "782/782 [==============================] - 4s 5ms/step - loss: 0.5720 - acc: 0.8145\n"
     ]
    }
   ],
   "source": [
    "rnn_test_loss, rnn_test_acc = rnn.evaluate(X_test_rnn,y_test_rnn)"
   ]
  },
  {
   "cell_type": "markdown",
   "metadata": {},
   "source": [
    "### MLP를 통해 얻은 loss = 0.393, acc = 0.875이고, RNN을 통해 얻은 loss = 0.572, acc = 0.815으로 MLP을 통해 얻은 정확도 보다 더 낮고 손실률은 크다. 어떤 데이터가 RNN 활용에 적합한지 궁금하다."
   ]
  }
 ],
 "metadata": {
  "kernelspec": {
   "display_name": "Python 3",
   "language": "python",
   "name": "python3"
  },
  "language_info": {
   "codemirror_mode": {
    "name": "ipython",
    "version": 3
   },
   "file_extension": ".py",
   "mimetype": "text/x-python",
   "name": "python",
   "nbconvert_exporter": "python",
   "pygments_lexer": "ipython3",
   "version": "3.7.3"
  }
 },
 "nbformat": 4,
 "nbformat_minor": 2
}
