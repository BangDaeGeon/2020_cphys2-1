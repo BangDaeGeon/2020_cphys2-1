{
 "cells": [
  {
   "cell_type": "code",
   "execution_count": 1,
   "metadata": {},
   "outputs": [],
   "source": [
    "from tensorflow import keras\n",
    "from keras import models \n",
    "from keras import layers\n",
    "import numpy as np\n",
    "import matplotlib.pyplot as plt\n",
    "from keras.utils import to_categorical\n",
    "from keras.datasets import fashion_mnist"
   ]
  },
  {
   "cell_type": "markdown",
   "metadata": {},
   "source": [
    "### MLP"
   ]
  },
  {
   "cell_type": "code",
   "execution_count": 2,
   "metadata": {},
   "outputs": [],
   "source": [
    "(X_train, y_train), (X_test, y_test) = fashion_mnist.load_data()\n",
    "y_train=to_categorical(y_train)\n",
    "y_test=to_categorical(y_test)\n",
    "\n",
    "# preprocessing\n",
    "X_train = X_train.reshape((60000, 28*28))\n",
    "X_train = X_train/255\n",
    "\n",
    "X_test = X_test.reshape((10000, 28*28))\n",
    "X_test = X_test/255\n",
    "\n",
    "net = models.Sequential()\n",
    "net.add(layers.Dense(512, activation='relu', input_shape=(28*28,))) \n",
    "net.add(layers.Dense(512, activation='relu')) \n",
    "net.add(layers.Dropout(0.5))\n",
    "net.add(layers.Dense(512, activation='relu')) \n",
    "net.add(layers.Dropout(0.5))\n",
    "net.add(layers.Dense(10, activation='softmax')) \n",
    "net.compile(optimizer='nadam',loss='categorical_crossentropy',metrics=['acc'])"
   ]
  },
  {
   "cell_type": "code",
   "execution_count": 3,
   "metadata": {},
   "outputs": [],
   "source": [
    "X_val = X_train[:10000]\n",
    "partial_X_train = X_train[10000:]\n",
    "\n",
    "y_val = y_train[:10000]\n",
    "partial_y_train = y_train[10000:]"
   ]
  },
  {
   "cell_type": "code",
   "execution_count": 4,
   "metadata": {},
   "outputs": [
    {
     "name": "stdout",
     "output_type": "stream",
     "text": [
      "Epoch 1/10\n",
      "782/782 [==============================] - 18s 23ms/step - loss: 0.5589 - acc: 0.7993 - val_loss: 0.8059 - val_acc: 0.7553\n",
      "Epoch 2/10\n",
      "782/782 [==============================] - 17s 22ms/step - loss: 0.3964 - acc: 0.8560 - val_loss: 0.4173 - val_acc: 0.8522\n",
      "Epoch 3/10\n",
      "782/782 [==============================] - 17s 22ms/step - loss: 0.3561 - acc: 0.8708 - val_loss: 0.3703 - val_acc: 0.8633\n",
      "Epoch 4/10\n",
      "782/782 [==============================] - 17s 22ms/step - loss: 0.3279 - acc: 0.8810 - val_loss: 0.3168 - val_acc: 0.8838\n",
      "Epoch 5/10\n",
      "782/782 [==============================] - 17s 22ms/step - loss: 0.3100 - acc: 0.8858 - val_loss: 0.3174 - val_acc: 0.8808\n",
      "Epoch 6/10\n",
      "782/782 [==============================] - 17s 22ms/step - loss: 0.3001 - acc: 0.8909 - val_loss: 0.3191 - val_acc: 0.8844\n",
      "Epoch 7/10\n",
      "782/782 [==============================] - 17s 22ms/step - loss: 0.2861 - acc: 0.8944 - val_loss: 0.3322 - val_acc: 0.8795\n",
      "Epoch 8/10\n",
      "782/782 [==============================] - 17s 22ms/step - loss: 0.2759 - acc: 0.8996 - val_loss: 0.3098 - val_acc: 0.8875\n",
      "Epoch 9/10\n",
      "782/782 [==============================] - 18s 23ms/step - loss: 0.2656 - acc: 0.9021 - val_loss: 0.2974 - val_acc: 0.8920\n",
      "Epoch 10/10\n",
      "782/782 [==============================] - 18s 23ms/step - loss: 0.2564 - acc: 0.9054 - val_loss: 0.3335 - val_acc: 0.8808\n"
     ]
    }
   ],
   "source": [
    "val= net.fit(partial_X_train,partial_y_train,epochs=10, batch_size=64, validation_data=(X_val, y_val))"
   ]
  },
  {
   "cell_type": "code",
   "execution_count": 5,
   "metadata": {},
   "outputs": [
    {
     "name": "stdout",
     "output_type": "stream",
     "text": [
      "313/313 [==============================] - 0s 1ms/step - loss: 0.3704 - acc: 0.8717\n"
     ]
    }
   ],
   "source": [
    "test_loss, test_acc = net.evaluate(X_test,y_test)"
   ]
  },
  {
   "cell_type": "markdown",
   "metadata": {},
   "source": [
    "### CNN"
   ]
  },
  {
   "cell_type": "code",
   "execution_count": 6,
   "metadata": {},
   "outputs": [],
   "source": [
    "(X_cnn, y_cnn), (X_test_cnn, y_test_cnn) = fashion_mnist.load_data()"
   ]
  },
  {
   "cell_type": "code",
   "execution_count": 7,
   "metadata": {},
   "outputs": [],
   "source": [
    "y_cnn=to_categorical(y_cnn)\n",
    "y_train_cnn=y_cnn\n",
    "y_test_cnn=to_categorical(y_test_cnn)"
   ]
  },
  {
   "cell_type": "code",
   "execution_count": 8,
   "metadata": {},
   "outputs": [],
   "source": [
    "X_train_cnn = X_cnn.reshape((60000, 28,28,1))\n",
    "X_train_cnn = X_train_cnn/255\n",
    "\n",
    "X_test_cnn = X_test_cnn.reshape((10000, 28,28,1))\n",
    "X_test_cnn = X_test_cnn/255"
   ]
  },
  {
   "cell_type": "code",
   "execution_count": 9,
   "metadata": {},
   "outputs": [],
   "source": [
    "net = models.Sequential()\n",
    "net.add(layers.Conv2D(64,[3,3], activation='relu', input_shape=(28,28,1)))\n",
    "net.add(layers.MaxPooling2D((2,2)))\n",
    "net.add(layers.Conv2D(128,[3,3], activation='relu'))\n",
    "net.add(layers.MaxPooling2D((2,2)))\n",
    "net.add(layers.Conv2D(128,[3,3], activation='relu'))\n",
    "net.add(layers.Flatten())\n",
    "net.add(layers.Dense(512, activation='relu')) \n",
    "net.add(layers.Dense(10, activation='softmax')) \n",
    "net.compile(optimizer='nadam',loss='categorical_crossentropy',metrics=['acc'])"
   ]
  },
  {
   "cell_type": "code",
   "execution_count": 10,
   "metadata": {},
   "outputs": [
    {
     "name": "stdout",
     "output_type": "stream",
     "text": [
      "Model: \"sequential_1\"\n",
      "_________________________________________________________________\n",
      "Layer (type)                 Output Shape              Param #   \n",
      "=================================================================\n",
      "conv2d (Conv2D)              (None, 26, 26, 64)        640       \n",
      "_________________________________________________________________\n",
      "max_pooling2d (MaxPooling2D) (None, 13, 13, 64)        0         \n",
      "_________________________________________________________________\n",
      "conv2d_1 (Conv2D)            (None, 11, 11, 128)       73856     \n",
      "_________________________________________________________________\n",
      "max_pooling2d_1 (MaxPooling2 (None, 5, 5, 128)         0         \n",
      "_________________________________________________________________\n",
      "conv2d_2 (Conv2D)            (None, 3, 3, 128)         147584    \n",
      "_________________________________________________________________\n",
      "flatten (Flatten)            (None, 1152)              0         \n",
      "_________________________________________________________________\n",
      "dense_4 (Dense)              (None, 512)               590336    \n",
      "_________________________________________________________________\n",
      "dense_5 (Dense)              (None, 10)                5130      \n",
      "=================================================================\n",
      "Total params: 817,546\n",
      "Trainable params: 817,546\n",
      "Non-trainable params: 0\n",
      "_________________________________________________________________\n"
     ]
    }
   ],
   "source": [
    "net.summary()"
   ]
  },
  {
   "cell_type": "code",
   "execution_count": 11,
   "metadata": {},
   "outputs": [
    {
     "name": "stdout",
     "output_type": "stream",
     "text": [
      "Epoch 1/10\n",
      "469/469 [==============================] - 56s 118ms/step - loss: 0.5290 - acc: 0.8029\n",
      "Epoch 2/10\n",
      "469/469 [==============================] - 57s 122ms/step - loss: 0.3075 - acc: 0.8884\n",
      "Epoch 3/10\n",
      "469/469 [==============================] - 50s 106ms/step - loss: 0.2574 - acc: 0.9052\n",
      "Epoch 4/10\n",
      "469/469 [==============================] - 49s 105ms/step - loss: 0.2241 - acc: 0.9161\n",
      "Epoch 5/10\n",
      "469/469 [==============================] - 49s 105ms/step - loss: 0.1956 - acc: 0.9268\n",
      "Epoch 6/10\n",
      "469/469 [==============================] - ETA: 0s - loss: 0.1713 - acc: 0.936 - 51s 108ms/step - loss: 0.1713 - acc: 0.9361\n",
      "Epoch 7/10\n",
      "469/469 [==============================] - 54s 115ms/step - loss: 0.1498 - acc: 0.9436\n",
      "Epoch 8/10\n",
      "469/469 [==============================] - 57s 121ms/step - loss: 0.1283 - acc: 0.9521\n",
      "Epoch 9/10\n",
      "469/469 [==============================] - 78s 165ms/step - loss: 0.1117 - acc: 0.9587\n",
      "Epoch 10/10\n",
      "469/469 [==============================] - 69s 146ms/step - loss: 0.0935 - acc: 0.9646\n"
     ]
    },
    {
     "data": {
      "text/plain": [
       "<tensorflow.python.keras.callbacks.History at 0x223834970c8>"
      ]
     },
     "execution_count": 11,
     "metadata": {},
     "output_type": "execute_result"
    }
   ],
   "source": [
    "net.fit(X_train_cnn, y_train_cnn, epochs=10, batch_size=128)"
   ]
  },
  {
   "cell_type": "code",
   "execution_count": 12,
   "metadata": {},
   "outputs": [
    {
     "name": "stdout",
     "output_type": "stream",
     "text": [
      "313/313 [==============================] - 2s 8ms/step - loss: 0.2987 - acc: 0.9124\n"
     ]
    }
   ],
   "source": [
    "test_loss, test_acc = net.evaluate(X_test_cnn,y_test_cnn)"
   ]
  },
  {
   "cell_type": "code",
   "execution_count": 13,
   "metadata": {},
   "outputs": [
    {
     "name": "stdout",
     "output_type": "stream",
     "text": [
      "1875/1875 [==============================] - 15s 8ms/step - loss: 0.0834 - acc: 0.9683\n"
     ]
    }
   ],
   "source": [
    "test_loss, test_acc = net.evaluate(X_train_cnn,y_train_cnn)"
   ]
  },
  {
   "cell_type": "code",
   "execution_count": 14,
   "metadata": {},
   "outputs": [],
   "source": [
    "X_val_cnn = X_train_cnn[:10000]\n",
    "partial_X_train_cnn = X_train_cnn[10000:]"
   ]
  },
  {
   "cell_type": "code",
   "execution_count": 15,
   "metadata": {},
   "outputs": [],
   "source": [
    "y_val_cnn = y_train_cnn[:10000]\n",
    "partial_y_train_cnn = y_train_cnn[10000:]"
   ]
  },
  {
   "cell_type": "code",
   "execution_count": 16,
   "metadata": {},
   "outputs": [
    {
     "name": "stdout",
     "output_type": "stream",
     "text": [
      "Epoch 1/10\n",
      "391/391 [==============================] - 59s 151ms/step - loss: 0.0822 - acc: 0.9691 - val_loss: 0.0888 - val_acc: 0.9654\n",
      "Epoch 2/10\n",
      "391/391 [==============================] - 59s 151ms/step - loss: 0.0668 - acc: 0.9747 - val_loss: 0.0876 - val_acc: 0.9668\n",
      "Epoch 3/10\n",
      "391/391 [==============================] - 59s 152ms/step - loss: 0.0569 - acc: 0.9786 - val_loss: 0.0960 - val_acc: 0.9614\n",
      "Epoch 4/10\n",
      "391/391 [==============================] - 61s 156ms/step - loss: 0.0496 - acc: 0.9816 - val_loss: 0.1041 - val_acc: 0.9609\n",
      "Epoch 5/10\n",
      "391/391 [==============================] - 59s 151ms/step - loss: 0.0415 - acc: 0.9842 - val_loss: 0.1409 - val_acc: 0.9530\n",
      "Epoch 6/10\n",
      "391/391 [==============================] - 58s 149ms/step - loss: 0.0399 - acc: 0.9853 - val_loss: 0.1133 - val_acc: 0.9598\n",
      "Epoch 7/10\n",
      "391/391 [==============================] - 52s 133ms/step - loss: 0.0356 - acc: 0.9870 - val_loss: 0.1371 - val_acc: 0.9549\n",
      "Epoch 8/10\n",
      "391/391 [==============================] - 46s 118ms/step - loss: 0.0307 - acc: 0.9887 - val_loss: 0.1312 - val_acc: 0.9558\n",
      "Epoch 9/10\n",
      "391/391 [==============================] - 46s 117ms/step - loss: 0.0293 - acc: 0.9895 - val_loss: 0.1758 - val_acc: 0.9477\n",
      "Epoch 10/10\n",
      "391/391 [==============================] - 45s 116ms/step - loss: 0.0296 - acc: 0.9894 - val_loss: 0.1712 - val_acc: 0.9539\n"
     ]
    }
   ],
   "source": [
    "val_cnn = net.fit(partial_X_train_cnn,partial_y_train_cnn, epochs=10, batch_size=128,validation_data=(X_val_cnn, y_val_cnn))"
   ]
  },
  {
   "cell_type": "code",
   "execution_count": 17,
   "metadata": {},
   "outputs": [],
   "source": [
    "val_cnn_dict = val_cnn.history\n",
    "loss = val_cnn_dict['loss']\n",
    "val_loss = val_cnn_dict['val_loss']"
   ]
  },
  {
   "cell_type": "code",
   "execution_count": 18,
   "metadata": {},
   "outputs": [
    {
     "data": {
      "text/plain": [
       "<matplotlib.legend.Legend at 0x223839b93c8>"
      ]
     },
     "execution_count": 18,
     "metadata": {},
     "output_type": "execute_result"
    },
    {
     "data": {
      "image/png": "[encoded data removed]",
      "text/plain": [
       "<Figure size 432x288 with 1 Axes>"
      ]
     },
     "metadata": {
      "needs_background": "light"
     },
     "output_type": "display_data"
    }
   ],
   "source": [
    "x = np.arange(0, len(loss))\n",
    "plt.plot(x,loss,'bo',label='E')\n",
    "plt.plot(x,val_loss,'ro',label='$E_v$')\n",
    "plt.legend()"
   ]
  },
  {
   "cell_type": "markdown",
   "metadata": {},
   "source": [
    "## MLP와 CNN 비교\n",
    "### MLP의 경우 test accuracy 값이 0.8717 train 한 값이 0.88정도 된다. CNN은 test accuracy 값이 0.9124 train 한 값이 0.96정도이다. test 값은 4.07%, train 한 값은 8%정도로 크게 차이난다. 다만 train 할 때 소요되는 시간은 MLP는 약 17.3초 CNN은 52.8초 정도로 큰 차이를 보인다. 빠른 시간 덜 정확한 분석을 위해서는 MLP를 사용하고 시간이 다소 걸리더라도 높은 정확도를 위해서는 CNN을 사용하는 것이 좋다."
   ]
  },
  {
   "cell_type": "code",
   "execution_count": null,
   "metadata": {},
   "outputs": [],
   "source": []
  }
 ],
 "metadata": {
  "kernelspec": {
   "display_name": "Python 3",
   "language": "python",
   "name": "python3"
  },
  "language_info": {
   "codemirror_mode": {
    "name": "ipython",
    "version": 3
   },
   "file_extension": ".py",
   "mimetype": "text/x-python",
   "name": "python",
   "nbconvert_exporter": "python",
   "pygments_lexer": "ipython3",
   "version": "3.7.3"
  }
 },
 "nbformat": 4,
 "nbformat_minor": 2
}
