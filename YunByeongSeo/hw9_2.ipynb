{
 "cells": [
  {
   "cell_type": "code",
   "execution_count": 1,
   "metadata": {},
   "outputs": [],
   "source": [
    "import tensorflow as tf\n",
    "from tensorflow.keras import models \n",
    "from tensorflow.keras import layers\n",
    "import numpy as np\n",
    "import matplotlib.pyplot as plt\n",
    "from tensorflow.keras.utils import to_categorical\n",
    "from tensorflow.keras.datasets import fashion_mnist"
   ]
  },
  {
   "cell_type": "markdown",
   "metadata": {},
   "source": [
    "multi layer perceptron 은 hw9_1 에 있습니다. "
   ]
  },
  {
   "cell_type": "markdown",
   "metadata": {},
   "source": [
    "2. CNN"
   ]
  },
  {
   "cell_type": "code",
   "execution_count": 2,
   "metadata": {},
   "outputs": [],
   "source": [
    "(X1_train, y1_train), (X1_test, y1_test) = fashion_mnist.load_data()"
   ]
  },
  {
   "cell_type": "code",
   "execution_count": 3,
   "metadata": {},
   "outputs": [],
   "source": [
    "X1_train = X1_train.reshape((60000, 28, 28, 1))\n",
    "X1_train = X1_train/255\n",
    "X1_test = X1_test.reshape((10000, 28, 28, 1))\n",
    "X1_test = X1_test/255\n",
    "y1_train=to_categorical(y1_train)\n",
    "y1_test=to_categorical(y1_test)"
   ]
  },
  {
   "cell_type": "code",
   "execution_count": 4,
   "metadata": {},
   "outputs": [
    {
     "name": "stdout",
     "output_type": "stream",
     "text": [
      "WARNING:tensorflow:From C:\\Users\\kook\\Anaconda3\\lib\\site-packages\\tensorflow\\python\\ops\\init_ops.py:1251: calling VarianceScaling.__init__ (from tensorflow.python.ops.init_ops) with dtype is deprecated and will be removed in a future version.\n",
      "Instructions for updating:\n",
      "Call initializer instance with the dtype argument instead of passing it to the constructor\n"
     ]
    }
   ],
   "source": [
    "nn = models.Sequential()\n",
    "nn.add(layers.Conv2D(32,2,strides=1, activation='relu', input_shape=(28,28,1), padding='same'))\n",
    "nn.add(layers.MaxPooling2D((2,2)))\n",
    "nn.add(layers.Conv2D(64,(3,3), activation='relu')) \n",
    "nn.add(layers.MaxPooling2D(pool_size = 2, padding = 'same'))\n",
    "nn.add(layers.Dropout(0.4))\n",
    "nn.add(layers.Conv2D(64,(3,3), activation='relu'))\n",
    "nn.add(layers.Flatten())\n",
    "nn.add(layers.Dense(64, activation='relu')) \n",
    "nn.add(layers.Dropout(0.4))\n",
    "nn.add(layers.Dense(10, activation='softmax')) \n",
    "nn.compile(optimizer='nadam',loss='categorical_crossentropy',metrics=['acc'])"
   ]
  },
  {
   "cell_type": "code",
   "execution_count": 5,
   "metadata": {},
   "outputs": [],
   "source": [
    "X1_val = X1_train[:10000]\n",
    "partial_X1_train = X1_train[10000:]\n",
    "y1_val = y1_train[:10000]\n",
    "partial_y1_train = y1_train[10000:]"
   ]
  },
  {
   "cell_type": "code",
   "execution_count": 6,
   "metadata": {},
   "outputs": [
    {
     "name": "stdout",
     "output_type": "stream",
     "text": [
      "Train on 50000 samples, validate on 10000 samples\n",
      "Epoch 1/3\n",
      "50000/50000 [==============================] - 64s 1ms/sample - loss: 0.6582 - acc: 0.7626 - val_loss: 0.3772 - val_acc: 0.8559\n",
      "Epoch 2/3\n",
      "50000/50000 [==============================] - 54s 1ms/sample - loss: 0.4174 - acc: 0.8500 - val_loss: 0.3674 - val_acc: 0.8641\n",
      "Epoch 3/3\n",
      "50000/50000 [==============================] - 58s 1ms/sample - loss: 0.3634 - acc: 0.8698 - val_loss: 0.2914 - val_acc: 0.8921\n"
     ]
    }
   ],
   "source": [
    "val_1= nn.fit(partial_X1_train,partial_y1_train,epochs=3, batch_size=64, validation_data=(X1_val, y1_val))"
   ]
  },
  {
   "cell_type": "code",
   "execution_count": 7,
   "metadata": {},
   "outputs": [
    {
     "name": "stdout",
     "output_type": "stream",
     "text": [
      "10000/10000 [==============================] - 5s 481us/sample - loss: 0.3143 - acc: 0.8816\n"
     ]
    }
   ],
   "source": [
    "test_loss, test_acc = nn.evaluate(X1_test,y1_test)"
   ]
  },
  {
   "cell_type": "markdown",
   "metadata": {},
   "source": [
    "hw9_1에 있는 multi layer perceptron을 이용한 모델로 학습하여 테스트 데이터로 학습한 결과 0.8789가 나왔다. 이는 87.89%정도 성공률을 보였다.\n",
    "CNN을 이용한 결과 0.9139의 결과를 얻었다. 두 모델의 성능을 비교하기 위해 거의 동일한 조건 epochs =10, batc_size =64로 동일하게 맞춰줬고 \n",
    "Dropout 사이즈도 0.4로 맞추고 Dropout 층 또한 2개로 동일하게 맞춰주었다. test데이터로 평가한 것과 훈련한 정확도의 차이가 0.01 정도 나온것을 보아 과적합이 있는 것을 알 수 있다. 두 모델의 성능을 비교에 초점을 주어서 과적합을 제대로 제어하지 못했지만 동일한 환경에서 약 0.035 정도 정확도가 차이가 나며 CNN이 그림 분류 문제에서 더 나은 성능을 보인다는 것을 알 수 있다."
   ]
  },
  {
   "cell_type": "code",
   "execution_count": 8,
   "metadata": {},
   "outputs": [
    {
     "data": {
      "text/plain": [
       "0.8816"
      ]
     },
     "execution_count": 8,
     "metadata": {},
     "output_type": "execute_result"
    }
   ],
   "source": [
    "test_acc"
   ]
  },
  {
   "cell_type": "code",
   "execution_count": null,
   "metadata": {},
   "outputs": [],
   "source": []
  }
 ],
 "metadata": {
  "kernelspec": {
   "display_name": "Python 3",
   "language": "python",
   "name": "python3"
  },
  "language_info": {
   "codemirror_mode": {
    "name": "ipython",
    "version": 3
   },
   "file_extension": ".py",
   "mimetype": "text/x-python",
   "name": "python",
   "nbconvert_exporter": "python",
   "pygments_lexer": "ipython3",
   "version": "3.7.3"
  }
 },
 "nbformat": 4,
 "nbformat_minor": 4
}
