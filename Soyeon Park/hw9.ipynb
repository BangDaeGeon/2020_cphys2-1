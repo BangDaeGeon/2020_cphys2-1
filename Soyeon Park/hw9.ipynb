{
 "cells": [
  {
   "cell_type": "markdown",
   "metadata": {
    "colab_type": "text",
    "id": "view-in-github"
   },
   "source": [
    "<a href=\"https://colab.research.google.com/github/soyeonpark11/2020_cphys2/blob/master/hw9.ipynb\" target=\"_parent\"><img src=\"https://colab.research.google.com/assets/colab-badge.svg\" alt=\"Open In Colab\"/></a>"
   ]
  },
  {
   "cell_type": "code",
   "execution_count": 1,
   "metadata": {
    "id": "41I3LjWLc4hd"
   },
   "outputs": [
    {
     "name": "stderr",
     "output_type": "stream",
     "text": [
      "Using TensorFlow backend.\n"
     ]
    }
   ],
   "source": [
    "import numpy as np\n",
    "from tensorflow import keras\n",
    "from keras import models \n",
    "from keras import layers\n",
    "from keras.datasets import mnist\n",
    "from keras.utils import to_categorical\n",
    "import matplotlib.pyplot as plt\n",
    "import tensorflow as tf"
   ]
  },
  {
   "cell_type": "code",
   "execution_count": 2,
   "metadata": {
    "colab": {
     "base_uri": "https://localhost:8080/",
     "height": 335
    },
    "id": "VrWojaZlc5HG",
    "outputId": "6b5b6b60-689b-45a8-e4af-2cb4e1e0a451"
   },
   "outputs": [
    {
     "name": "stdout",
     "output_type": "stream",
     "text": [
      "학습셋 : 60000 테스트셋:  10000\n"
     ]
    },
    {
     "data": {
      "image/png": "[encoded data removed]",
      "text/plain": [
       "<Figure size 432x288 with 1 Axes>"
      ]
     },
     "metadata": {
      "needs_background": "light"
     },
     "output_type": "display_data"
    },
    {
     "name": "stdout",
     "output_type": "stream",
     "text": [
      "9\n",
      "(60000, 28, 28) (10000, 28, 28)\n",
      "(60000, 28, 28, 1) (10000, 28, 28, 1)\n"
     ]
    }
   ],
   "source": [
    "fashion_mnist = tf.keras.datasets.fashion_mnist\n",
    "(train_X, train_Y), (test_X, test_Y) = fashion_mnist.load_data()\n",
    "print(\"학습셋 :\",len(train_X),\"테스트셋: \", len(test_X))\n",
    "plt.imshow(train_X[0], CMAP='gray')\n",
    "plt.show()\n",
    "print(train_Y[0])\n",
    "train_X = train_X/255.0\n",
    "test_X = test_X/255.0\n",
    "print(train_X.shape, test_X.shape)\n",
    "train_X = train_X.reshape(-1, 28, 28, 1)\n",
    "test_X = test_X.reshape(-1, 28, 28, 1)\n",
    "print(train_X.shape, test_X.shape)\n",
    "\n"
   ]
  },
  {
   "cell_type": "code",
   "execution_count": 3,
   "metadata": {
    "id": "bilTsKg1dAkd"
   },
   "outputs": [
    {
     "name": "stdout",
     "output_type": "stream",
     "text": [
      "WARNING:tensorflow:From C:\\Users\\kook\\Anaconda3\\lib\\site-packages\\tensorflow\\python\\ops\\init_ops.py:1251: calling VarianceScaling.__init__ (from tensorflow.python.ops.init_ops) with dtype is deprecated and will be removed in a future version.\n",
      "Instructions for updating:\n",
      "Call initializer instance with the dtype argument instead of passing it to the constructor\n"
     ]
    }
   ],
   "source": [
    "model = tf.keras.Sequential([\n",
    "    tf.keras.layers.Conv2D(input_shape=(28,28,1), kernel_size=(3,3), filters=16, activation='relu'),\n",
    "    tf.keras.layers.MaxPool2D(strides=(2,2)),\n",
    "    tf.keras.layers.Conv2D(kernel_size=(3,3), filters=32,activation='relu'),\n",
    "    tf.keras.layers.MaxPool2D(strides=(2,2)),\n",
    "    tf.keras.layers.Flatten(),\n",
    "    tf.keras.layers.Dense(units=128, activation='relu'),\n",
    "    tf.keras.layers.Dropout(rate=0.3),\n",
    "    tf.keras.layers.Dense(units=10, activation='softmax')\n",
    "                                                                                 \n",
    "])\n",
    "\n"
   ]
  },
  {
   "cell_type": "code",
   "execution_count": 4,
   "metadata": {
    "id": "3iweCrFtgsQ5"
   },
   "outputs": [],
   "source": [
    "model.compile(\n",
    "    optimizer = tf.keras.optimizers.Adam(),\n",
    "    loss='sparse_categorical_crossentropy',\n",
    "    metrics=['accuracy']\n",
    ")"
   ]
  },
  {
   "cell_type": "code",
   "execution_count": 5,
   "metadata": {
    "colab": {
     "base_uri": "https://localhost:8080/",
     "height": 996
    },
    "id": "D_GqLhX8kkt5",
    "outputId": "98bca86c-4014-4454-a537-9912284acea1"
   },
   "outputs": [
    {
     "name": "stdout",
     "output_type": "stream",
     "text": [
      "Train on 45000 samples, validate on 15000 samples\n",
      "Epoch 1/3\n",
      "45000/45000 [==============================] - 26s 574us/sample - loss: 0.5835 - acc: 0.7854 - val_loss: 0.3864 - val_acc: 0.8563\n",
      "Epoch 2/3\n",
      "45000/45000 [==============================] - 24s 540us/sample - loss: 0.3838 - acc: 0.8603 - val_loss: 0.3352 - val_acc: 0.8779\n",
      "Epoch 3/3\n",
      "45000/45000 [==============================] - 23s 516us/sample - loss: 0.3341 - acc: 0.8799 - val_loss: 0.3001 - val_acc: 0.8861\n"
     ]
    },
    {
     "data": {
      "text/plain": [
       "[0.3149373885154724, 0.8832]"
      ]
     },
     "execution_count": 5,
     "metadata": {},
     "output_type": "execute_result"
    },
    {
     "data": {
      "image/png": "[encoded data removed]",
      "text/plain": [
       "<Figure size 864x288 with 1 Axes>"
      ]
     },
     "metadata": {
      "needs_background": "light"
     },
     "output_type": "display_data"
    }
   ],
   "source": [
    "history = model.fit(train_X, train_Y, epochs=3, validation_split=0.25)\n",
    "plt.figure(figsize=(12,4))\n",
    "plt.subplot(1,2,1)\n",
    "plt.plot(history.history['loss'],'b-', label='loss')\n",
    "plt.plot(history.history['val_loss'], 'r--', label='val_loss')\n",
    "plt.xlabel('Epoch')\n",
    "plt.legend()\n",
    "model.evaluate(test_X, test_Y, verbose=0)\n"
   ]
  },
  {
   "cell_type": "code",
   "execution_count": 41,
   "metadata": {
    "colab": {
     "base_uri": "https://localhost:8080/"
    },
    "id": "EsJXDQFHvsaU",
    "outputId": "336edcdc-e5cb-4fd2-ad6d-7cb397011a08"
   },
   "outputs": [
    {
     "name": "stdout",
     "output_type": "stream",
     "text": [
      "Epoch 1/10\n",
      "782/782 [==============================] - 17s 21ms/step - loss: 0.5624 - acc: 0.8001 - val_loss: 0.4220 - val_acc: 0.8463\n",
      "Epoch 2/10\n",
      "782/782 [==============================] - 16s 21ms/step - loss: 0.3951 - acc: 0.8576 - val_loss: 0.3478 - val_acc: 0.8665\n",
      "Epoch 3/10\n",
      "782/782 [==============================] - 17s 21ms/step - loss: 0.3541 - acc: 0.8723 - val_loss: 0.4271 - val_acc: 0.8483\n",
      "Epoch 4/10\n",
      "782/782 [==============================] - 17s 21ms/step - loss: 0.3303 - acc: 0.8790 - val_loss: 0.3911 - val_acc: 0.8588\n",
      "Epoch 5/10\n",
      "782/782 [==============================] - 17s 21ms/step - loss: 0.3156 - acc: 0.8844 - val_loss: 0.3288 - val_acc: 0.8787\n",
      "Epoch 6/10\n",
      "782/782 [==============================] - 17s 21ms/step - loss: 0.2978 - acc: 0.8913 - val_loss: 0.3914 - val_acc: 0.8523\n",
      "Epoch 7/10\n",
      "782/782 [==============================] - 17s 21ms/step - loss: 0.2885 - acc: 0.8942 - val_loss: 0.3135 - val_acc: 0.8844\n",
      "Epoch 8/10\n",
      "782/782 [==============================] - 17s 22ms/step - loss: 0.2788 - acc: 0.8985 - val_loss: 0.2957 - val_acc: 0.8877\n",
      "Epoch 9/10\n",
      "782/782 [==============================] - 17s 22ms/step - loss: 0.2657 - acc: 0.9011 - val_loss: 0.3198 - val_acc: 0.8810\n",
      "Epoch 10/10\n",
      "782/782 [==============================] - 17s 21ms/step - loss: 0.2604 - acc: 0.9037 - val_loss: 0.3182 - val_acc: 0.8859\n",
      "313/313 [==============================] - 1s 3ms/step - loss: 0.3520 - acc: 0.8791\n"
     ]
    }
   ],
   "source": [
    "import numpy as np\n",
    "from tensorflow import keras\n",
    "from keras import models \n",
    "from keras import layers\n",
    "from keras.datasets import mnist\n",
    "from keras.utils import to_categorical\n",
    "import matplotlib.pyplot as plt\n",
    "import tensorflow as tf\n",
    "from keras.datasets import fashion_mnist\n",
    "from keras.utils import to_categorical\n",
    "\n",
    "(X_train, y_train), (X_test, y_test) = fashion_mnist.load_data()\n",
    "y_train=to_categorical(y_train)\n",
    "y_test=to_categorical(y_test)\n",
    "\n",
    "\n",
    "X_train = X_train.reshape((60000, 28*28))\n",
    "X_train = X_train/255\n",
    "\n",
    "X_test = X_test.reshape((10000, 28*28))\n",
    "X_test = X_test/255\n",
    "\n",
    "net = models.Sequential()\n",
    "net.add(layers.Dense(512, activation='relu', input_shape=(28*28,))) \n",
    "net.add(layers.Dense(512, activation='relu')) \n",
    "net.add(layers.Dropout(0.5))\n",
    "net.add(layers.Dense(512, activation='relu')) \n",
    "net.add(layers.Dropout(0.5))\n",
    "net.add(layers.Dense(10, activation='softmax')) \n",
    "net.compile(optimizer='nadam',loss='categorical_crossentropy',metrics=['acc'])\n",
    "X_val = X_train[:10000]\n",
    "partial_X_train = X_train[10000:]\n",
    "\n",
    "y_val = y_train[:10000]\n",
    "partial_y_train = y_train[10000:]\n",
    "\n",
    "val= net.fit(partial_X_train,partial_y_train,epochs=10, batch_size=64, validation_data=(X_val, y_val))\n",
    "\n",
    "test_loss, test_acc = net.evaluate(X_test,y_test)"
   ]
  },
  {
   "cell_type": "code",
   "execution_count": 42,
   "metadata": {
    "colab": {
     "base_uri": "https://localhost:8080/"
    },
    "id": "NP9aspfIzQ7l",
    "outputId": "0050541c-85b9-403e-9a0f-6bc53e57c709"
   },
   "outputs": [
    {
     "name": "stdout",
     "output_type": "stream",
     "text": [
      "Model: \"sequential_2\"\n",
      "_________________________________________________________________\n",
      "Layer (type)                 Output Shape              Param #   \n",
      "=================================================================\n",
      "dense_4 (Dense)              (None, 512)               401920    \n",
      "_________________________________________________________________\n",
      "dense_5 (Dense)              (None, 512)               262656    \n",
      "_________________________________________________________________\n",
      "dropout_1 (Dropout)          (None, 512)               0         \n",
      "_________________________________________________________________\n",
      "dense_6 (Dense)              (None, 512)               262656    \n",
      "_________________________________________________________________\n",
      "dropout_2 (Dropout)          (None, 512)               0         \n",
      "_________________________________________________________________\n",
      "dense_7 (Dense)              (None, 10)                5130      \n",
      "=================================================================\n",
      "Total params: 932,362\n",
      "Trainable params: 932,362\n",
      "Non-trainable params: 0\n",
      "_________________________________________________________________\n"
     ]
    }
   ],
   "source": [
    "net.summary()"
   ]
  },
  {
   "cell_type": "code",
   "execution_count": null,
   "metadata": {
    "id": "dUYFM-WZz7hx"
   },
   "outputs": [],
   "source": [
    "##MLP는 구조는 간단하지만 이미지 크기가 커지면 파라미터 개수가 기하급수적으로 증가하는 반면에 CONVOLUTION을 이용하면 파라미터도 많이 줄게되고 성능또한 증가함이 확인된다.그래서 CONVOLUTION은 가중치가 적게 필요하므로 이미지 처리에 적합함을 알 수 있었다."
   ]
  }
 ],
 "metadata": {
  "colab": {
   "authorship_tag": "ABX9TyM9vUJyxpJwo/GBD9jV0Pju",
   "include_colab_link": true,
   "name": "Untitled17.ipynb",
   "provenance": []
  },
  "kernelspec": {
   "display_name": "Python 3",
   "language": "python",
   "name": "python3"
  },
  "language_info": {
   "codemirror_mode": {
    "name": "ipython",
    "version": 3
   },
   "file_extension": ".py",
   "mimetype": "text/x-python",
   "name": "python",
   "nbconvert_exporter": "python",
   "pygments_lexer": "ipython3",
   "version": "3.7.3"
  }
 },
 "nbformat": 4,
 "nbformat_minor": 1
}
