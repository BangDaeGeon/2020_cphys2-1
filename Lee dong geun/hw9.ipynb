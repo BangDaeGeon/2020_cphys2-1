{
 "cells": [
  {
   "cell_type": "code",
   "execution_count": 1,
   "metadata": {
    "id": "JU_566a_Rrwb"
   },
   "outputs": [
    {
     "name": "stderr",
     "output_type": "stream",
     "text": [
      "Using TensorFlow backend.\n"
     ]
    }
   ],
   "source": [
    "from tensorflow import keras\n",
    "from keras import models \n",
    "from keras import layers\n",
    "import numpy as np\n",
    "import matplotlib.pyplot as plt\n",
    "from keras.utils import to_categorical\n",
    "from keras.datasets import fashion_mnist"
   ]
  },
  {
   "cell_type": "code",
   "execution_count": 2,
   "metadata": {
    "colab": {
     "base_uri": "https://localhost:8080/"
    },
    "id": "O_DSKPp5RwkL",
    "outputId": "93539491-d5f4-40e8-af95-5d090ba8a130"
   },
   "outputs": [],
   "source": [
    "(X_train, y_train), (X_test, y_test) = fashion_mnist.load_data()\n",
    "y_train=to_categorical(y_train)\n",
    "y_test=to_categorical(y_test)\n",
    "\n",
    "# preprocessing\n",
    "X_train = X_train.reshape((60000, 28*28))\n",
    "X_train = X_train/255\n",
    "\n",
    "X_test = X_test.reshape((10000, 28*28))\n",
    "X_test = X_test/255\n",
    "\n",
    "net = models.Sequential()\n",
    "net.add(layers.Dense(512, activation='relu', input_shape=(28*28,))) \n",
    "net.add(layers.Dense(512, activation='relu')) \n",
    "net.add(layers.Dropout(0.5))\n",
    "net.add(layers.Dense(512, activation='relu')) \n",
    "net.add(layers.Dropout(0.5))\n",
    "net.add(layers.Dense(10, activation='softmax')) \n",
    "net.compile(optimizer='nadam',loss='categorical_crossentropy',metrics=['acc'])"
   ]
  },
  {
   "cell_type": "code",
   "execution_count": 3,
   "metadata": {
    "id": "qWpnwT1YRyTb"
   },
   "outputs": [],
   "source": [
    "X_val = X_train[:10000]\n",
    "partial_X_train = X_train[10000:]\n",
    "\n",
    "y_val = y_train[:10000]\n",
    "partial_y_train = y_train[10000:]"
   ]
  },
  {
   "cell_type": "code",
   "execution_count": 4,
   "metadata": {
    "colab": {
     "base_uri": "https://localhost:8080/"
    },
    "id": "VrsUTP5uR6ip",
    "outputId": "43eaeea2-8948-49b6-b05d-316110b72cfe"
   },
   "outputs": [
    {
     "name": "stdout",
     "output_type": "stream",
     "text": [
      "Epoch 1/10\n",
      "782/782 [==============================] - 21s 27ms/step - loss: 0.5594 - acc: 0.8009 - val_loss: 0.4784 - val_acc: 0.8285\n",
      "Epoch 2/10\n",
      "782/782 [==============================] - 21s 27ms/step - loss: 0.3937 - acc: 0.8579 - val_loss: 0.3815 - val_acc: 0.8591\n",
      "Epoch 3/10\n",
      "782/782 [==============================] - 21s 27ms/step - loss: 0.3540 - acc: 0.8713 - val_loss: 0.3413 - val_acc: 0.8740\n",
      "Epoch 4/10\n",
      "782/782 [==============================] - 21s 27ms/step - loss: 0.3302 - acc: 0.8800 - val_loss: 0.3574 - val_acc: 0.8671\n",
      "Epoch 5/10\n",
      "782/782 [==============================] - 21s 27ms/step - loss: 0.3102 - acc: 0.8873 - val_loss: 0.3492 - val_acc: 0.8753\n",
      "Epoch 6/10\n",
      "782/782 [==============================] - 21s 27ms/step - loss: 0.2975 - acc: 0.8912 - val_loss: 0.3387 - val_acc: 0.8782\n",
      "Epoch 7/10\n",
      "782/782 [==============================] - 21s 27ms/step - loss: 0.2842 - acc: 0.8941 - val_loss: 0.3508 - val_acc: 0.8709\n",
      "Epoch 8/10\n",
      "782/782 [==============================] - 21s 26ms/step - loss: 0.2755 - acc: 0.8990 - val_loss: 0.3232 - val_acc: 0.8826\n",
      "Epoch 9/10\n",
      "782/782 [==============================] - 21s 27ms/step - loss: 0.2691 - acc: 0.9004 - val_loss: 0.3219 - val_acc: 0.8870\n",
      "Epoch 10/10\n",
      "782/782 [==============================] - 21s 27ms/step - loss: 0.2587 - acc: 0.9045 - val_loss: 0.3386 - val_acc: 0.8844\n"
     ]
    }
   ],
   "source": [
    "val= net.fit(partial_X_train,partial_y_train,epochs=10, batch_size=64, validation_data=(X_val, y_val))"
   ]
  },
  {
   "cell_type": "code",
   "execution_count": 5,
   "metadata": {
    "colab": {
     "base_uri": "https://localhost:8080/"
    },
    "id": "EpbStyU6SBrI",
    "outputId": "04f23278-4317-427b-b05a-8900e52e9b07"
   },
   "outputs": [
    {
     "name": "stdout",
     "output_type": "stream",
     "text": [
      "313/313 [==============================] - 1s 4ms/step - loss: 0.3654 - acc: 0.8757\n"
     ]
    }
   ],
   "source": [
    "test_loss, test_acc = net.evaluate(X_test,y_test)"
   ]
  },
  {
   "cell_type": "code",
   "execution_count": 4,
   "metadata": {
    "id": "zkWnAxDISDzK"
   },
   "outputs": [
    {
     "name": "stdout",
     "output_type": "stream",
     "text": [
      "WARNING:tensorflow:From C:\\Users\\kook\\Anaconda3\\lib\\site-packages\\keras\\backend\\tensorflow_backend.py:4070: The name tf.nn.max_pool is deprecated. Please use tf.nn.max_pool2d instead.\n",
      "\n"
     ]
    }
   ],
   "source": [
    "X_train = X_train.reshape((60000,28,28,1))\n",
    "X_train = X_train/255\n",
    "X_test = X_test.reshape((10000,28,28,1))\n",
    "X_test = X_test/255\n",
    "batch_size = 64\n",
    "num_classes = 10\n",
    "epochs = 15\n",
    "model = models.Sequential()\n",
    "model.add(layers.Conv2D(32,(3,3), activation='relu', input_shape=(28,28,1)))\n",
    "model.add(layers.MaxPooling2D((2,2)))\n",
    "model.add(layers.Dropout(0.25))\n",
    "model.add(layers.Conv2D(64,(3,3), activation='relu'))\n",
    "model.add(layers.MaxPooling2D((2,2)))\n",
    "model.add(layers.Dropout(0.25))\n",
    "model.add(layers.Flatten())\n",
    "model.add(layers.Dense(512, activation='relu'))\n",
    "model.add(layers.Dropout(0.5))\n",
    "model.add(layers.Dense(num_classes, activation='softmax')) \n",
    "model.compile(optimizer='nadam',loss='categorical_crossentropy',metrics=['acc'])\n",
    "\n"
   ]
  },
  {
   "cell_type": "code",
   "execution_count": 92,
   "metadata": {
    "colab": {
     "base_uri": "https://localhost:8080/"
    },
    "id": "uNK8PT6ydwpF",
    "outputId": "311177c2-2572-472d-ac34-2da0ec9d0c6e"
   },
   "outputs": [
    {
     "name": "stdout",
     "output_type": "stream",
     "text": [
      "Model: \"sequential_29\"\n",
      "_________________________________________________________________\n",
      "Layer (type)                 Output Shape              Param #   \n",
      "=================================================================\n",
      "conv2d_28 (Conv2D)           (None, 26, 26, 32)        320       \n",
      "_________________________________________________________________\n",
      "max_pooling2d_28 (MaxPooling (None, 13, 13, 32)        0         \n",
      "_________________________________________________________________\n",
      "dropout_34 (Dropout)         (None, 13, 13, 32)        0         \n",
      "_________________________________________________________________\n",
      "conv2d_29 (Conv2D)           (None, 11, 11, 64)        18496     \n",
      "_________________________________________________________________\n",
      "max_pooling2d_29 (MaxPooling (None, 5, 5, 64)          0         \n",
      "_________________________________________________________________\n",
      "dropout_35 (Dropout)         (None, 5, 5, 64)          0         \n",
      "_________________________________________________________________\n",
      "flatten_14 (Flatten)         (None, 1600)              0         \n",
      "_________________________________________________________________\n",
      "dense_31 (Dense)             (None, 512)               819712    \n",
      "_________________________________________________________________\n",
      "dropout_36 (Dropout)         (None, 512)               0         \n",
      "_________________________________________________________________\n",
      "dense_32 (Dense)             (None, 10)                5130      \n",
      "=================================================================\n",
      "Total params: 843,658\n",
      "Trainable params: 843,658\n",
      "Non-trainable params: 0\n",
      "_________________________________________________________________\n"
     ]
    }
   ],
   "source": [
    "model.summary()"
   ]
  },
  {
   "cell_type": "code",
   "execution_count": 5,
   "metadata": {
    "id": "e3lU2MVBeNdC"
   },
   "outputs": [],
   "source": [
    "X_val = X_train[:10000]\n",
    "part_X_train = X_train[10000:]\n",
    "\n",
    "y_val = y_train[:10000]\n",
    "part_y_train = y_train[10000:]"
   ]
  },
  {
   "cell_type": "code",
   "execution_count": null,
   "metadata": {
    "colab": {
     "base_uri": "https://localhost:8080/"
    },
    "id": "3yLpWgj9eSCt",
    "outputId": "27af2272-e7af-45cf-9be8-cad41e61b386"
   },
   "outputs": [
    {
     "name": "stdout",
     "output_type": "stream",
     "text": [
      "WARNING:tensorflow:From C:\\Users\\kook\\Anaconda3\\lib\\site-packages\\keras\\backend\\tensorflow_backend.py:422: The name tf.global_variables is deprecated. Please use tf.compat.v1.global_variables instead.\n",
      "\n",
      "Train on 50000 samples, validate on 10000 samples\n",
      "Epoch 1/15\n",
      "50000/50000 [==============================] - 70s 1ms/step - loss: 1.0692 - acc: 0.5966 - val_loss: 0.7348 - val_acc: 0.7248\n",
      "Epoch 2/15\n",
      "50000/50000 [==============================] - 71s 1ms/step - loss: 0.7616 - acc: 0.7099 - val_loss: 0.6676 - val_acc: 0.7423\n",
      "Epoch 3/15\n",
      "50000/50000 [==============================] - 70s 1ms/step - loss: 0.7000 - acc: 0.7328 - val_loss: 0.6309 - val_acc: 0.7452\n",
      "Epoch 4/15\n",
      "50000/50000 [==============================] - 69s 1ms/step - loss: 0.6573 - acc: 0.7482 - val_loss: 0.5640 - val_acc: 0.7800\n",
      "Epoch 5/15\n",
      "50000/50000 [==============================] - 66s 1ms/step - loss: 0.6259 - acc: 0.7605 - val_loss: 0.5458 - val_acc: 0.7921\n",
      "Epoch 6/15\n",
      "50000/50000 [==============================] - 71s 1ms/step - loss: 0.6022 - acc: 0.7720 - val_loss: 0.5349 - val_acc: 0.8022\n",
      "Epoch 7/15\n",
      "50000/50000 [==============================] - 70s 1ms/step - loss: 0.5806 - acc: 0.7792 - val_loss: 0.4945 - val_acc: 0.8169\n",
      "Epoch 8/15\n",
      "50000/50000 [==============================] - 68s 1ms/step - loss: 0.5619 - acc: 0.7878 - val_loss: 0.4797 - val_acc: 0.8201\n",
      "Epoch 9/15\n",
      " 7296/50000 [===>..........................] - ETA: 57s - loss: 0.5618 - acc: 0.7862"
     ]
    }
   ],
   "source": [
    "model.fit(part_X_train,part_y_train,epochs =epochs, batch_size =batch_size , validation_data=(X_val, y_val))"
   ]
  },
  {
   "cell_type": "code",
   "execution_count": 96,
   "metadata": {
    "colab": {
     "base_uri": "https://localhost:8080/"
    },
    "id": "RF1IO3DIeWOq",
    "outputId": "650b1dfe-cc3d-4f18-86da-7bd6f8e16a7e"
   },
   "outputs": [
    {
     "name": "stdout",
     "output_type": "stream",
     "text": [
      "313/313 [==============================] - 3s 11ms/step - loss: 0.2317 - acc: 0.9160\n"
     ]
    }
   ],
   "source": [
    "test_loss, test_acc = model.evaluate(X_test,y_test)"
   ]
  },
  {
   "cell_type": "code",
   "execution_count": null,
   "metadata": {
    "id": "Lm0x77hcec_-"
   },
   "outputs": [],
   "source": []
  }
 ],
 "metadata": {
  "colab": {
   "name": "Untitled9.ipynb",
   "provenance": []
  },
  "kernelspec": {
   "display_name": "Python 3",
   "language": "python",
   "name": "python3"
  },
  "language_info": {
   "codemirror_mode": {
    "name": "ipython",
    "version": 3
   },
   "file_extension": ".py",
   "mimetype": "text/x-python",
   "name": "python",
   "nbconvert_exporter": "python",
   "pygments_lexer": "ipython3",
   "version": "3.7.3"
  }
 },
 "nbformat": 4,
 "nbformat_minor": 1
}
