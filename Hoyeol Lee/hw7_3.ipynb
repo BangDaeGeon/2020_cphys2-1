{
 "cells": [
  {
   "cell_type": "markdown",
   "metadata": {
    "id": "47tvjtaiEwhr"
   },
   "source": [
    "### 3. Decision tree or Random forest"
   ]
  },
  {
   "cell_type": "code",
   "execution_count": null,
   "metadata": {
    "id": "W5PtM1diAC6s"
   },
   "outputs": [],
   "source": [
    "import numpy as np\n",
    "import pandas as pd\n",
    "from sklearn.ensemble import RandomForestClassifier\n",
    "from sklearn.model_selection import train_test_split\n",
    "from sklearn.metrics import classification_report, confusion_matrix\n",
    "from sklearn.model_selection import RandomizedSearchCV, GridSearchCV \n",
    "from sklearn.model_selection import cross_val_score"
   ]
  },
  {
   "cell_type": "code",
   "execution_count": null,
   "metadata": {
    "id": "8r8eTt7IAPsk"
   },
   "outputs": [],
   "source": [
    "from sklearn.datasets import fetch_openml\n",
    "\n",
    "mnist = fetch_openml('mnist_784',version=1)"
   ]
  },
  {
   "cell_type": "code",
   "execution_count": null,
   "metadata": {
    "id": "aMifw1gUAUjz"
   },
   "outputs": [],
   "source": [
    "X = mnist['data']\n",
    "y = mnist['target']\n",
    "\n",
    "X_train = X[:60000]\n",
    "y_train = y[:60000]\n",
    "\n",
    "X_test = X[:60000]\n",
    "y_test = X[:60000]"
   ]
  },
  {
   "cell_type": "code",
   "execution_count": null,
   "metadata": {
    "colab": {
     "base_uri": "https://localhost:8080/",
     "height": 161
    },
    "executionInfo": {
     "elapsed": 45394,
     "status": "ok",
     "timestamp": 1603634612275,
     "user": {
      "displayName": "이호열",
      "photoUrl": "https://lh4.googleusercontent.com/-nmheSFKr8fA/AAAAAAAAAAI/AAAAAAAAAKo/0Vn_S0NKNIY/s64/photo.jpg",
      "userId": "02861830437636305665"
     },
     "user_tz": -540
    },
    "id": "8WHrU-oNAmUx",
    "outputId": "0970ede1-9ece-443b-be5b-bf0bdec1564b"
   },
   "outputs": [
    {
     "data": {
      "text/plain": [
       "RandomForestClassifier(bootstrap=True, ccp_alpha=0.0, class_weight=None,\n",
       "                       criterion='gini', max_depth=None, max_features='auto',\n",
       "                       max_leaf_nodes=None, max_samples=None,\n",
       "                       min_impurity_decrease=0.0, min_impurity_split=None,\n",
       "                       min_samples_leaf=1, min_samples_split=2,\n",
       "                       min_weight_fraction_leaf=0.0, n_estimators=100,\n",
       "                       n_jobs=None, oob_score=False, random_state=None,\n",
       "                       verbose=0, warm_start=False)"
      ]
     },
     "execution_count": 4,
     "metadata": {
      "tags": []
     },
     "output_type": "execute_result"
    }
   ],
   "source": [
    "random_idx = np.random.permutation(60000)\n",
    "X_train = X_train[random_idx]\n",
    "y_train = y_train[random_idx]\n",
    "\n",
    "rf=RandomForestClassifier()\n",
    "rf.fit(X_train,y_train)"
   ]
  },
  {
   "cell_type": "code",
   "execution_count": null,
   "metadata": {
    "colab": {
     "base_uri": "https://localhost:8080/",
     "height": 35
    },
    "executionInfo": {
     "elapsed": 85090,
     "status": "ok",
     "timestamp": 1603634723045,
     "user": {
      "displayName": "이호열",
      "photoUrl": "https://lh4.googleusercontent.com/-nmheSFKr8fA/AAAAAAAAAAI/AAAAAAAAAKo/0Vn_S0NKNIY/s64/photo.jpg",
      "userId": "02861830437636305665"
     },
     "user_tz": -540
    },
    "id": "mvMYgQs_Arkq",
    "outputId": "fba9cd9a-9281-4c84-a3b4-1e6110ae0daf"
   },
   "outputs": [
    {
     "data": {
      "text/plain": [
       "array([0.966  , 0.96695, 0.96295])"
      ]
     },
     "execution_count": 5,
     "metadata": {
      "tags": []
     },
     "output_type": "execute_result"
    }
   ],
   "source": [
    "cross_val_score(rf,X_train,y_train,cv=3,scoring=\"accuracy\")"
   ]
  },
  {
   "cell_type": "markdown",
   "metadata": {
    "id": "JPoAKbYVMZx_"
   },
   "source": [
    "Softmax Regression 에서는 약 92% 정도의 정확성\n",
    "Support Vector Machine 에서는 약 87% 정도의 정확성\n",
    "Decision tree or Random forest 에서는 약 96% 정도의 정확성을 가짐을 알 수 있다."
   ]
  },
  {
   "cell_type": "code",
   "execution_count": 5,
   "metadata": {
    "executionInfo": {
     "elapsed": 533,
     "status": "ok",
     "timestamp": 1603638104888,
     "user": {
      "displayName": "이호열",
      "photoUrl": "https://lh4.googleusercontent.com/-nmheSFKr8fA/AAAAAAAAAAI/AAAAAAAAAKo/0Vn_S0NKNIY/s64/photo.jpg",
      "userId": "02861830437636305665"
     },
     "user_tz": -540
    },
    "id": "cPxMsrrgCm2p"
   },
   "outputs": [],
   "source": [
    "Decision tree or Random forest (-1) - mnist test data 를 이용하여 score를 얻는 것이 과제"
   ]
  },
  {
   "cell_type": "code",
   "execution_count": null,
   "metadata": {
    "id": "vFcwO-hVR5DZ"
   },
   "outputs": [],
   "source": []
  }
 ],
 "metadata": {
  "colab": {
   "authorship_tag": "ABX9TyMLrCTev2jqufRDx26T8qh3",
   "name": "Untitled16-3.ipynb",
   "provenance": []
  },
  "kernelspec": {
   "display_name": "Python 3",
   "language": "python",
   "name": "python3"
  },
  "language_info": {
   "codemirror_mode": {
    "name": "ipython",
    "version": 3
   },
   "file_extension": ".py",
   "mimetype": "text/x-python",
   "name": "python",
   "nbconvert_exporter": "python",
   "pygments_lexer": "ipython3",
   "version": "3.7.3"
  }
 },
 "nbformat": 4,
 "nbformat_minor": 1
}
