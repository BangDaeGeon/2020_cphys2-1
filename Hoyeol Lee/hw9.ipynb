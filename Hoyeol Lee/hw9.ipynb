{
 "cells": [
  {
   "cell_type": "markdown",
   "metadata": {},
   "source": [
    "# 2016017032 물리학과 이호열\n",
    "## hw9"
   ]
  },
  {
   "cell_type": "markdown",
   "metadata": {},
   "source": [
    "# Fashin MNIST\n",
    "## MNIST 패션 이미지를 CNN을 이용하여 분류하세요. CNN을 이용한 분류 결과를 MLP와 비교해보세요."
   ]
  },
  {
   "cell_type": "code",
   "execution_count": 2,
   "metadata": {},
   "outputs": [],
   "source": [
    "import tensorflow as tf\n",
    "from tensorflow import keras\n",
    "from keras import models \n",
    "from keras import layers\n",
    "import numpy as np\n",
    "import matplotlib.pyplot as plt\n",
    "from keras.utils import to_categorical\n",
    "from keras.datasets import fashion_mnist"
   ]
  },
  {
   "cell_type": "markdown",
   "metadata": {},
   "source": [
    "### Multi-Layer Perceptron (MLP)"
   ]
  },
  {
   "cell_type": "code",
   "execution_count": 3,
   "metadata": {},
   "outputs": [],
   "source": [
    "(X_train, y_train), (X_test, y_test) = fashion_mnist.load_data()\n",
    "y_train=to_categorical(y_train)\n",
    "y_test=to_categorical(y_test)\n",
    "\n",
    "# preprocessing\n",
    "X_train = X_train.reshape((60000, 28*28))\n",
    "X_train = X_train/255\n",
    "\n",
    "X_test = X_test.reshape((10000, 28*28))\n",
    "X_test = X_test/255\n",
    "\n",
    "net = models.Sequential()\n",
    "net.add(layers.Dense(512, activation='relu', input_shape=(28*28,))) \n",
    "net.add(layers.Dense(512, activation='relu')) \n",
    "net.add(layers.Dropout(0.5))\n",
    "net.add(layers.Dense(512, activation='relu')) \n",
    "net.add(layers.Dropout(0.5))\n",
    "net.add(layers.Dense(10, activation='softmax')) \n",
    "net.compile(optimizer='nadam',loss='categorical_crossentropy',metrics=['acc'])"
   ]
  },
  {
   "cell_type": "code",
   "execution_count": 4,
   "metadata": {},
   "outputs": [],
   "source": [
    "X_val = X_train[:10000]\n",
    "partial_X_train = X_train[10000:]\n",
    "\n",
    "y_val = y_train[:10000]\n",
    "partial_y_train = y_train[10000:]"
   ]
  },
  {
   "cell_type": "code",
   "execution_count": 5,
   "metadata": {},
   "outputs": [
    {
     "name": "stdout",
     "output_type": "stream",
     "text": [
      "Train on 50000 samples, validate on 10000 samples\n",
      "Epoch 1/10\n",
      "50000/50000 [==============================] - 15s 298us/step - loss: 0.5772 - acc: 0.7925 - val_loss: 0.4424 - val_acc: 0.8343\n",
      "Epoch 2/10\n",
      "50000/50000 [==============================] - 15s 292us/step - loss: 0.4189 - acc: 0.8525 - val_loss: 0.3810 - val_acc: 0.8611\n",
      "Epoch 3/10\n",
      "50000/50000 [==============================] - 14s 288us/step - loss: 0.3811 - acc: 0.8643 - val_loss: 0.3768 - val_acc: 0.8575\n",
      "Epoch 4/10\n",
      "50000/50000 [==============================] - 14s 289us/step - loss: 0.3631 - acc: 0.8718 - val_loss: 0.3687 - val_acc: 0.8660\n",
      "Epoch 5/10\n",
      "50000/50000 [==============================] - 15s 290us/step - loss: 0.3500 - acc: 0.8756 - val_loss: 0.3489 - val_acc: 0.8747\n",
      "Epoch 6/10\n",
      "50000/50000 [==============================] - 14s 289us/step - loss: 0.3382 - acc: 0.8800 - val_loss: 0.4126 - val_acc: 0.8542\n",
      "Epoch 7/10\n",
      "50000/50000 [==============================] - 15s 292us/step - loss: 0.3301 - acc: 0.8816 - val_loss: 0.3465 - val_acc: 0.8784\n",
      "Epoch 8/10\n",
      "50000/50000 [==============================] - 14s 289us/step - loss: 0.3214 - acc: 0.8856 - val_loss: 0.3594 - val_acc: 0.8705\n",
      "Epoch 9/10\n",
      "50000/50000 [==============================] - 14s 289us/step - loss: 0.3208 - acc: 0.8839 - val_loss: 0.3445 - val_acc: 0.8792\n",
      "Epoch 10/10\n",
      "50000/50000 [==============================] - 15s 292us/step - loss: 0.3149 - acc: 0.8882 - val_loss: 0.3751 - val_acc: 0.8689\n"
     ]
    }
   ],
   "source": [
    "val= net.fit(partial_X_train,partial_y_train,epochs=10, batch_size=64, validation_data=(X_val, y_val))"
   ]
  },
  {
   "cell_type": "code",
   "execution_count": 6,
   "metadata": {
    "scrolled": true
   },
   "outputs": [
    {
     "name": "stdout",
     "output_type": "stream",
     "text": [
      "10000/10000 [==============================] - 1s 73us/step\n"
     ]
    }
   ],
   "source": [
    "test_loss, test_acc = net.evaluate(X_test,y_test)"
   ]
  },
  {
   "cell_type": "code",
   "execution_count": 9,
   "metadata": {},
   "outputs": [
    {
     "name": "stdout",
     "output_type": "stream",
     "text": [
      "10000/10000 [==============================] - 1s 79us/step\n",
      "\n",
      " Test accuracy: 0.863099992275238\n"
     ]
    }
   ],
   "source": [
    "score = net.evaluate(X_test, y_test)\n",
    "\n",
    "print('\\n', 'Test accuracy:', score[1])"
   ]
  },
  {
   "cell_type": "markdown",
   "metadata": {},
   "source": [
    "### CNN"
   ]
  },
  {
   "cell_type": "code",
   "execution_count": 3,
   "metadata": {},
   "outputs": [
    {
     "name": "stdout",
     "output_type": "stream",
     "text": [
      "X_train shape: (60000, 28, 28) y_train shape: (60000,)\n"
     ]
    }
   ],
   "source": [
    "(X_train, y_train), (X_test, y_test) = fashion_mnist.load_data()\n",
    "\n",
    "print(\"X_train shape:\", X_train.shape, \"y_train shape:\", y_train.shape)"
   ]
  },
  {
   "cell_type": "code",
   "execution_count": 4,
   "metadata": {},
   "outputs": [
    {
     "name": "stdout",
     "output_type": "stream",
     "text": [
      "60000 10000\n"
     ]
    }
   ],
   "source": [
    "print(X_train.shape[0], X_test.shape[0])"
   ]
  },
  {
   "cell_type": "code",
   "execution_count": 5,
   "metadata": {},
   "outputs": [],
   "source": [
    "X_train = X_train.astype('float32') / 255\n",
    "X_test = X_test.astype('float32') / 255"
   ]
  },
  {
   "cell_type": "code",
   "execution_count": 6,
   "metadata": {},
   "outputs": [
    {
     "data": {
      "text/plain": [
       "<matplotlib.image.AxesImage at 0x1d629e3f848>"
      ]
     },
     "execution_count": 6,
     "metadata": {},
     "output_type": "execute_result"
    },
    {
     "data": {
      "image/png": "[encoded data removed]",
      "text/plain": [
       "<Figure size 432x288 with 3 Axes>"
      ]
     },
     "metadata": {
      "needs_background": "light"
     },
     "output_type": "display_data"
    }
   ],
   "source": [
    "plt.subplot(131)\n",
    "plt.imshow(X_train[0])\n",
    "plt.subplot(132)\n",
    "plt.imshow(X_train[1])\n",
    "plt.subplot(133)\n",
    "plt.imshow(X_train[2])"
   ]
  },
  {
   "cell_type": "code",
   "execution_count": 7,
   "metadata": {},
   "outputs": [
    {
     "data": {
      "text/plain": [
       "9"
      ]
     },
     "execution_count": 7,
     "metadata": {},
     "output_type": "execute_result"
    }
   ],
   "source": [
    "y_train[0]"
   ]
  },
  {
   "cell_type": "markdown",
   "metadata": {},
   "source": [
    "|#|category|\n",
    "|:---:|:---:|\n",
    "|0|T-shirt/top|\n",
    "|1|Trouser|\n",
    "|2|Pullover|\n",
    "|3|Dress|\n",
    "|4|Coat|\n",
    "|5|Sandal|\n",
    "|6|Shirt|\n",
    "|7|Sneaker|\n",
    "|8|Bag|\n",
    "|9|Ankle boot|"
   ]
  },
  {
   "cell_type": "code",
   "execution_count": 8,
   "metadata": {},
   "outputs": [],
   "source": [
    "X_val = X_train[:10000]\n",
    "partial_X_train = X_train[10000:]\n",
    "\n",
    "y_val = y_train[:10000]\n",
    "partial_y_train = y_train[10000:]\n",
    "\n",
    "X_train = X_train.reshape(X_train.shape[0], 28, 28, 1)\n",
    "X_val = X_val.reshape(X_val.shape[0], 28, 28, 1)\n",
    "X_test = X_test.reshape(X_test.shape[0], 28, 28, 1)\n",
    "\n",
    "y_train = to_categorical(y_train, 10)\n",
    "y_val = to_categorical(y_val, 10)\n",
    "y_test = to_categorical(y_test, 10)"
   ]
  },
  {
   "cell_type": "code",
   "execution_count": 9,
   "metadata": {
    "scrolled": true
   },
   "outputs": [
    {
     "name": "stdout",
     "output_type": "stream",
     "text": [
      "X_train shape: (60000, 28, 28, 1) y_train shape: (60000, 10)\n"
     ]
    }
   ],
   "source": [
    "print(\"X_train shape:\", X_train.shape, \"y_train shape:\", y_train.shape)"
   ]
  },
  {
   "cell_type": "code",
   "execution_count": 10,
   "metadata": {},
   "outputs": [
    {
     "name": "stdout",
     "output_type": "stream",
     "text": [
      "60000 10000 10000\n"
     ]
    }
   ],
   "source": [
    "print(X_train.shape[0], X_val.shape[0], X_test.shape[0])"
   ]
  },
  {
   "cell_type": "code",
   "execution_count": 11,
   "metadata": {},
   "outputs": [],
   "source": [
    "model = models.Sequential()\n",
    "\n",
    "model.add(layers.Conv2D(64, (2,2), padding='same', activation='relu', input_shape=(28,28,1))) \n",
    "model.add(layers.MaxPooling2D((2,2)))\n",
    "model.add(layers.Conv2D(64,(2,2), activation='relu'))\n",
    "\n",
    "model.add(layers.Flatten())\n",
    "model.add(layers.Dense(512, activation='relu')) \n",
    "model.add(layers.Dropout(0.5)) \n",
    "model.add(layers.Dense(64, activation='relu')) \n",
    "model.add(layers.Dropout(0.5)) \n",
    "model.add(layers.Dense(10, activation='softmax')) \n",
    "\n",
    "model.compile(optimizer='nadam',loss='categorical_crossentropy',metrics=['acc'])"
   ]
  },
  {
   "cell_type": "code",
   "execution_count": 12,
   "metadata": {
    "scrolled": true
   },
   "outputs": [
    {
     "name": "stdout",
     "output_type": "stream",
     "text": [
      "Train on 60000 samples, validate on 10000 samples\n",
      "Epoch 1/10\n",
      "60000/60000 [==============================] - 112s 2ms/step - loss: 0.5321 - acc: 0.8192 - val_loss: 0.3034 - val_acc: 0.8833\n",
      "\n",
      "Epoch 00001: val_loss improved from inf to 0.30344, saving model to model.weights.best.hdf5\n",
      "Epoch 2/10\n",
      "60000/60000 [==============================] - 111s 2ms/step - loss: 0.3353 - acc: 0.8839 - val_loss: 0.2272 - val_acc: 0.9149\n",
      "\n",
      "Epoch 00002: val_loss improved from 0.30344 to 0.22725, saving model to model.weights.best.hdf5\n",
      "Epoch 3/10\n",
      "60000/60000 [==============================] - 112s 2ms/step - loss: 0.2782 - acc: 0.9027 - val_loss: 0.1667 - val_acc: 0.9378\n",
      "\n",
      "Epoch 00003: val_loss improved from 0.22725 to 0.16670, saving model to model.weights.best.hdf5\n",
      "Epoch 4/10\n",
      "60000/60000 [==============================] - 111s 2ms/step - loss: 0.2460 - acc: 0.9125 - val_loss: 0.1530 - val_acc: 0.9440\n",
      "\n",
      "Epoch 00004: val_loss improved from 0.16670 to 0.15298, saving model to model.weights.best.hdf5\n",
      "Epoch 5/10\n",
      "60000/60000 [==============================] - 112s 2ms/step - loss: 0.2133 - acc: 0.9234 - val_loss: 0.1277 - val_acc: 0.9512\n",
      "\n",
      "Epoch 00005: val_loss improved from 0.15298 to 0.12774, saving model to model.weights.best.hdf5\n",
      "Epoch 6/10\n",
      "60000/60000 [==============================] - 113s 2ms/step - loss: 0.1918 - acc: 0.9329 - val_loss: 0.1238 - val_acc: 0.9583\n",
      "\n",
      "Epoch 00006: val_loss improved from 0.12774 to 0.12382, saving model to model.weights.best.hdf5\n",
      "Epoch 7/10\n",
      "60000/60000 [==============================] - 113s 2ms/step - loss: 0.1727 - acc: 0.9377 - val_loss: 0.0981 - val_acc: 0.9641\n",
      "\n",
      "Epoch 00007: val_loss improved from 0.12382 to 0.09810, saving model to model.weights.best.hdf5\n",
      "Epoch 8/10\n",
      "60000/60000 [==============================] - 113s 2ms/step - loss: 0.1594 - acc: 0.9439 - val_loss: 0.0802 - val_acc: 0.9716\n",
      "\n",
      "Epoch 00008: val_loss improved from 0.09810 to 0.08024, saving model to model.weights.best.hdf5\n",
      "Epoch 9/10\n",
      "60000/60000 [==============================] - 112s 2ms/step - loss: 0.1436 - acc: 0.9486 - val_loss: 0.0694 - val_acc: 0.9755\n",
      "\n",
      "Epoch 00009: val_loss improved from 0.08024 to 0.06942, saving model to model.weights.best.hdf5\n",
      "Epoch 10/10\n",
      "60000/60000 [==============================] - 113s 2ms/step - loss: 0.1303 - acc: 0.9548 - val_loss: 0.0559 - val_acc: 0.9798\n",
      "\n",
      "Epoch 00010: val_loss improved from 0.06942 to 0.05590, saving model to model.weights.best.hdf5\n"
     ]
    },
    {
     "data": {
      "text/plain": [
       "<keras.callbacks.callbacks.History at 0x1d6308f4448>"
      ]
     },
     "execution_count": 12,
     "metadata": {},
     "output_type": "execute_result"
    }
   ],
   "source": [
    "from keras.callbacks import ModelCheckpoint\n",
    "\n",
    "checkpointer = ModelCheckpoint(filepath='model.weights.best.hdf5', verbose = 1, save_best_only=True)\n",
    "\n",
    "model.fit(X_train, y_train, batch_size=64, epochs=10, validation_data=(X_val, y_val), callbacks=[checkpointer])"
   ]
  },
  {
   "cell_type": "code",
   "execution_count": 13,
   "metadata": {},
   "outputs": [
    {
     "name": "stdout",
     "output_type": "stream",
     "text": [
      "10000/10000 [==============================] - 3s 290us/step\n"
     ]
    }
   ],
   "source": [
    "test_loss, test_acc = model.evaluate(X_test,y_test)"
   ]
  },
  {
   "cell_type": "code",
   "execution_count": 14,
   "metadata": {},
   "outputs": [
    {
     "name": "stdout",
     "output_type": "stream",
     "text": [
      "\n",
      " Test accuracy: 0.9186999797821045\n"
     ]
    }
   ],
   "source": [
    "score = model.evaluate(X_test, y_test, verbose=0)\n",
    "\n",
    "print('\\n', 'Test accuracy:', score[1])"
   ]
  },
  {
   "cell_type": "markdown",
   "metadata": {},
   "source": [
    "MLP는 여러 문제를 풀기에 좋지만 영상이나 이미지를 처리하는데 문제가 있다.\n",
    "이미지 인식과 같은 분야에서 MLP를 사용하게 되면 MLP는 모든 입력이 위치와 상관없이 동일한 수준의 중요도를 갖는다고 보기 때문에 MLP를 이용해 fully-connected neural network를 구성하게 되면 파라미터의 크기가 엄청나게 커진다. \n",
    "\n",
    "반면에 CNN은 데이터의 특징을 추출하여 특징들의 패턴을 파악하는 구조이며  Convolution 과정과 Pooling 과정을 통해 진행되기에 CNN을 사용하게 된다면 파라미터의 크기를 MLP와 비교하여 엄청나게 줄일 수 있으며 이미지 전체에서 대표할 수 있는 불변하는 특징을 얻을 수 있기 때문에 이 특징을 학습시켜서 높은 인식 능력을 갖을 수 있다.\n",
    "\n",
    "위의 데이터의 결과로 볼 수 있듯이 MLP는 정확도가 86% 정도인 것에 반해 CNN으로 분류하였을 때는 90%가 넘는 정확도를 보여준다."
   ]
  },
  {
   "cell_type": "code",
   "execution_count": null,
   "metadata": {},
   "outputs": [],
   "source": [
    "감점요소는 아니지만 partial_X_train 을 학습시켜야 하지 않나요"
   ]
  }
 ],
 "metadata": {
  "kernelspec": {
   "display_name": "Python 3",
   "language": "python",
   "name": "python3"
  },
  "language_info": {
   "codemirror_mode": {
    "name": "ipython",
    "version": 3
   },
   "file_extension": ".py",
   "mimetype": "text/x-python",
   "name": "python",
   "nbconvert_exporter": "python",
   "pygments_lexer": "ipython3",
   "version": "3.7.3"
  }
 },
 "nbformat": 4,
 "nbformat_minor": 4
}
