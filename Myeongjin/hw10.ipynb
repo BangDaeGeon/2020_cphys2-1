{
 "cells": [
  {
   "cell_type": "markdown",
   "metadata": {},
   "source": [
    "## IMDB Datasets"
   ]
  },
  {
   "cell_type": "code",
   "execution_count": 1,
   "metadata": {},
   "outputs": [
    {
     "name": "stderr",
     "output_type": "stream",
     "text": [
      "<__array_function__ internals>:5: VisibleDeprecationWarning: Creating an ndarray from ragged nested sequences (which is a list-or-tuple of lists-or-tuples-or ndarrays with different lengths or shapes) is deprecated. If you meant to do this, you must specify 'dtype=object' when creating the ndarray\n",
      "C:\\Users\\Astrocyte\\anaconda3\\envs\\GPU\\lib\\site-packages\\tensorflow\\python\\keras\\datasets\\imdb.py:159: VisibleDeprecationWarning: Creating an ndarray from ragged nested sequences (which is a list-or-tuple of lists-or-tuples-or ndarrays with different lengths or shapes) is deprecated. If you meant to do this, you must specify 'dtype=object' when creating the ndarray\n",
      "  x_train, y_train = np.array(xs[:idx]), np.array(labels[:idx])\n",
      "C:\\Users\\Astrocyte\\anaconda3\\envs\\GPU\\lib\\site-packages\\tensorflow\\python\\keras\\datasets\\imdb.py:160: VisibleDeprecationWarning: Creating an ndarray from ragged nested sequences (which is a list-or-tuple of lists-or-tuples-or ndarrays with different lengths or shapes) is deprecated. If you meant to do this, you must specify 'dtype=object' when creating the ndarray\n",
      "  x_test, y_test = np.array(xs[idx:]), np.array(labels[idx:])\n"
     ]
    }
   ],
   "source": [
    "import numpy as np\n",
    "from tensorflow import keras\n",
    "from keras import models \n",
    "from keras import layers\n",
    "import matplotlib.pyplot as plt\n",
    "\n",
    "from keras.datasets import imdb\n",
    "# https://www.imdb.com/\n",
    "(X, y_train), (X_test, y_test) = imdb.load_data(num_words=10000)"
   ]
  },
  {
   "cell_type": "code",
   "execution_count": 2,
   "metadata": {},
   "outputs": [],
   "source": [
    "# text to vector\n",
    "def vect(seq, dim=10000):\n",
    "    x=np.zeros((len(seq),dim))\n",
    "    for n, i in enumerate(seq):\n",
    "        x[n, i] = 1\n",
    "    return x\n",
    "\n",
    "X_train=vect(X)\n",
    "X_test=vect(X_test)"
   ]
  },
  {
   "cell_type": "code",
   "execution_count": 3,
   "metadata": {},
   "outputs": [
    {
     "data": {
      "text/plain": [
       "array([0., 1., 1., ..., 0., 0., 0.])"
      ]
     },
     "execution_count": 3,
     "metadata": {},
     "output_type": "execute_result"
    }
   ],
   "source": [
    "X_train[0]"
   ]
  },
  {
   "cell_type": "code",
   "execution_count": 4,
   "metadata": {},
   "outputs": [
    {
     "name": "stdout",
     "output_type": "stream",
     "text": [
      "Epoch 1/5\n",
      "118/118 [==============================] - 8s 64ms/step - loss: 0.5886 - acc: 0.6754 - val_loss: 0.4021 - val_acc: 0.8657\n",
      "Epoch 2/5\n",
      "118/118 [==============================] - 5s 46ms/step - loss: 0.3824 - acc: 0.8420 - val_loss: 0.2885 - val_acc: 0.8877\n",
      "Epoch 3/5\n",
      "118/118 [==============================] - 5s 43ms/step - loss: 0.2873 - acc: 0.8949 - val_loss: 0.2761 - val_acc: 0.8870\n",
      "Epoch 4/5\n",
      "118/118 [==============================] - 6s 48ms/step - loss: 0.2322 - acc: 0.9147 - val_loss: 0.2836 - val_acc: 0.8869\n",
      "Epoch 5/5\n",
      "118/118 [==============================] - 5s 46ms/step - loss: 0.2000 - acc: 0.9283 - val_loss: 0.3051 - val_acc: 0.8878\n"
     ]
    }
   ],
   "source": [
    "net = models.Sequential()\n",
    "net.add(layers.Dense(16, activation='relu', input_shape=(10000,)))\n",
    "net.add(layers.Dropout(0.5))\n",
    "net.add(layers.Dense(16, activation='relu'))\n",
    "net.add(layers.Dropout(0.5))\n",
    "net.add(layers.Dense(1, activation='sigmoid'))\n",
    "net.compile(optimizer='nadam', loss='binary_crossentropy', metrics = ['acc'])\n",
    "\n",
    "X_val = X_train[:10000]\n",
    "partial_X_train = X_train[10000:]\n",
    "\n",
    "y_val = y_train[:10000]\n",
    "partial_y_train = y_train[10000:]\n",
    "\n",
    "val = net.fit(partial_X_train\n",
    "              , partial_y_train\n",
    "              , epochs=5, batch_size=128\n",
    "              , validation_data=(X_val, y_val))"
   ]
  },
  {
   "cell_type": "code",
   "execution_count": 5,
   "metadata": {},
   "outputs": [
    {
     "data": {
      "text/plain": [
       "[<matplotlib.lines.Line2D at 0x29f16203730>]"
      ]
     },
     "execution_count": 5,
     "metadata": {},
     "output_type": "execute_result"
    },
    {
     "data": {
      "image/png": "[encoded data removed]",
      "text/plain": [
       "<Figure size 432x288 with 1 Axes>"
      ]
     },
     "metadata": {
      "needs_background": "light"
     },
     "output_type": "display_data"
    }
   ],
   "source": [
    "val_dict = val.history\n",
    "loss = val_dict['loss']\n",
    "val_loss = val_dict['val_loss']\n",
    "x = np.arange(0,len(loss))\n",
    "\n",
    "plt.plot(x,loss,'-')\n",
    "plt.plot(x,val_loss,'o')"
   ]
  },
  {
   "cell_type": "code",
   "execution_count": 6,
   "metadata": {},
   "outputs": [
    {
     "name": "stdout",
     "output_type": "stream",
     "text": [
      "782/782 [==============================] - 3s 4ms/step - loss: 0.3279 - acc: 0.8784\n"
     ]
    },
    {
     "data": {
      "text/plain": [
       "[0.327887624502182, 0.8784400224685669]"
      ]
     },
     "execution_count": 6,
     "metadata": {},
     "output_type": "execute_result"
    }
   ],
   "source": [
    "net.evaluate(X_test,y_test)"
   ]
  },
  {
   "cell_type": "markdown",
   "metadata": {},
   "source": [
    "#### IMDB Classification using simple RNN"
   ]
  },
  {
   "cell_type": "code",
   "execution_count": 7,
   "metadata": {},
   "outputs": [
    {
     "name": "stderr",
     "output_type": "stream",
     "text": [
      "<__array_function__ internals>:5: VisibleDeprecationWarning: Creating an ndarray from ragged nested sequences (which is a list-or-tuple of lists-or-tuples-or ndarrays with different lengths or shapes) is deprecated. If you meant to do this, you must specify 'dtype=object' when creating the ndarray\n",
      "C:\\Users\\Astrocyte\\anaconda3\\envs\\GPU\\lib\\site-packages\\tensorflow\\python\\keras\\datasets\\imdb.py:159: VisibleDeprecationWarning: Creating an ndarray from ragged nested sequences (which is a list-or-tuple of lists-or-tuples-or ndarrays with different lengths or shapes) is deprecated. If you meant to do this, you must specify 'dtype=object' when creating the ndarray\n",
      "  x_train, y_train = np.array(xs[:idx]), np.array(labels[:idx])\n",
      "C:\\Users\\Astrocyte\\anaconda3\\envs\\GPU\\lib\\site-packages\\tensorflow\\python\\keras\\datasets\\imdb.py:160: VisibleDeprecationWarning: Creating an ndarray from ragged nested sequences (which is a list-or-tuple of lists-or-tuples-or ndarrays with different lengths or shapes) is deprecated. If you meant to do this, you must specify 'dtype=object' when creating the ndarray\n",
      "  x_test, y_test = np.array(xs[idx:]), np.array(labels[idx:])\n"
     ]
    }
   ],
   "source": [
    "from keras.preprocessing import sequence\n",
    "\n",
    "max_words=10000 \n",
    "(X_train, y_train), (X_test, y_test) = imdb.load_data(num_words=max_words)\n",
    "\n",
    "maxlen = 100 # sequence length\n",
    "X_train = sequence.pad_sequences(X_train, maxlen=maxlen)\n",
    "X_test = sequence.pad_sequences(X_test, maxlen=maxlen)"
   ]
  },
  {
   "cell_type": "code",
   "execution_count": 8,
   "metadata": {},
   "outputs": [],
   "source": [
    "word2index=imdb.get_word_index()\n",
    "index2word={y:x for x,y in word2index.items()}\n",
    "index2word[0]=''"
   ]
  },
  {
   "cell_type": "code",
   "execution_count": 9,
   "metadata": {},
   "outputs": [
    {
     "name": "stdout",
     "output_type": "stream",
     "text": [
      "i'm plot something and was worker in character in of here was brother such redemption came i i of lawyer today something instantly we movie monster and and to and of little movies believe more than good very front of adams br is gonna watchable but despite than his expanded that's this think by becomes but either kills quickly i i his by br called and and understand movie in got called and end all died for too this us on i i little to love 19th cult of solid narrator including than is amanda what exploitative considered i i\n"
     ]
    },
    {
     "data": {
      "text/plain": [
       "(array([ 143,  111,  139,    2,   13, 3501,    8,  106,    8,    4,  130,\n",
       "          13,  594,  138, 3262,  382,   10,   10,    4, 2405,  636,  139,\n",
       "        3502,   72,   17,  966,    2,    2,    5,    2,    4,  114,   99,\n",
       "         261,   50,   71,   49,   52, 1008,    4, 4598,    7,    6, 2143,\n",
       "        1750,   18,  463,   71,   24, 9187,  195,   11,  101,   31,  458,\n",
       "          18,  342, 1095,  943,   10,   10,   24,   31,    7,  443,    2,\n",
       "           2,  388,   17,    8,  185,  443,    2,  127,   29, 1128,   15,\n",
       "          96,   11,  175,   20,   10,   10,  114,    5,  116, 5266, 1212,\n",
       "           4, 1153, 3867,  584,   71,    6, 4428,   48, 7527, 1189,   10,\n",
       "          10]),\n",
       " 0)"
      ]
     },
     "execution_count": 9,
     "metadata": {},
     "output_type": "execute_result"
    }
   ],
   "source": [
    "review_index=513\n",
    "print(\" \".join([index2word[idx] for idx in X_train[review_index]]))\n",
    "X_train[review_index],y_train[review_index]"
   ]
  },
  {
   "cell_type": "code",
   "execution_count": 10,
   "metadata": {},
   "outputs": [],
   "source": [
    "X_val_rnn = X_train[:10000]\n",
    "partial_X_train_rnn = X_train[10000:]\n",
    "\n",
    "y_val_rnn = y_train[:10000]\n",
    "partial_y_train_rnn = y_train[10000:]"
   ]
  },
  {
   "cell_type": "code",
   "execution_count": 11,
   "metadata": {},
   "outputs": [],
   "source": [
    "rnn = models.Sequential()\n",
    "rnn.add(layers.Embedding(max_words, 16))# 각각의 단어를 n=16 차원 공간에 올리기\n",
    "rnn.add(layers.Dropout(0.5))\n",
    "rnn.add(layers.SimpleRNN(16,return_sequences='True'))\n",
    "rnn.add(layers.Dropout(0.5))\n",
    "rnn.add(layers.SimpleRNN(64,return_sequences='True'))\n",
    "rnn.add(layers.Dropout(0.5))\n",
    "rnn.add(layers.SimpleRNN(128))\n",
    "rnn.add(layers.Dense(128,activation='relu'))\n",
    "rnn.add(layers.Dense(128,activation='relu'))\n",
    "rnn.add(layers.Dense(1, activation='sigmoid'))\n",
    "rnn.compile(optimizer='nadam', loss='binary_crossentropy', metrics = ['acc'])"
   ]
  },
  {
   "cell_type": "code",
   "execution_count": 12,
   "metadata": {},
   "outputs": [
    {
     "name": "stdout",
     "output_type": "stream",
     "text": [
      "Model: \"sequential_1\"\n",
      "_________________________________________________________________\n",
      "Layer (type)                 Output Shape              Param #   \n",
      "=================================================================\n",
      "embedding (Embedding)        (None, None, 16)          160000    \n",
      "_________________________________________________________________\n",
      "dropout_2 (Dropout)          (None, None, 16)          0         \n",
      "_________________________________________________________________\n",
      "simple_rnn (SimpleRNN)       (None, None, 16)          528       \n",
      "_________________________________________________________________\n",
      "dropout_3 (Dropout)          (None, None, 16)          0         \n",
      "_________________________________________________________________\n",
      "simple_rnn_1 (SimpleRNN)     (None, None, 64)          5184      \n",
      "_________________________________________________________________\n",
      "dropout_4 (Dropout)          (None, None, 64)          0         \n",
      "_________________________________________________________________\n",
      "simple_rnn_2 (SimpleRNN)     (None, 128)               24704     \n",
      "_________________________________________________________________\n",
      "dense_3 (Dense)              (None, 128)               16512     \n",
      "_________________________________________________________________\n",
      "dense_4 (Dense)              (None, 128)               16512     \n",
      "_________________________________________________________________\n",
      "dense_5 (Dense)              (None, 1)                 129       \n",
      "=================================================================\n",
      "Total params: 223,569\n",
      "Trainable params: 223,569\n",
      "Non-trainable params: 0\n",
      "_________________________________________________________________\n"
     ]
    }
   ],
   "source": [
    "rnn.summary()"
   ]
  },
  {
   "cell_type": "code",
   "execution_count": 13,
   "metadata": {},
   "outputs": [
    {
     "name": "stdout",
     "output_type": "stream",
     "text": [
      "Epoch 1/5\n",
      "118/118 [==============================] - 38s 319ms/step - loss: 0.6965 - acc: 0.5079 - val_loss: 0.7197 - val_acc: 0.5055\n",
      "Epoch 2/5\n",
      "118/118 [==============================] - 38s 319ms/step - loss: 0.5730 - acc: 0.7063 - val_loss: 0.5070 - val_acc: 0.8026\n",
      "Epoch 3/5\n",
      "118/118 [==============================] - 37s 315ms/step - loss: 0.4283 - acc: 0.8148 - val_loss: 0.7475 - val_acc: 0.7920\n",
      "Epoch 4/5\n",
      "118/118 [==============================] - 38s 320ms/step - loss: 0.3629 - acc: 0.8520 - val_loss: 0.4557 - val_acc: 0.7843\n",
      "Epoch 5/5\n",
      "118/118 [==============================] - 37s 311ms/step - loss: 0.3228 - acc: 0.8694 - val_loss: 0.3744 - val_acc: 0.8384\n"
     ]
    }
   ],
   "source": [
    "val2=rnn.fit(partial_X_train_rnn\n",
    "            ,partial_y_train_rnn\n",
    "            , epochs=5, batch_size=128\n",
    "            , validation_data=(X_val_rnn, y_val_rnn))"
   ]
  },
  {
   "cell_type": "code",
   "execution_count": 14,
   "metadata": {},
   "outputs": [
    {
     "name": "stdout",
     "output_type": "stream",
     "text": [
      "782/782 [==============================] - 25s 31ms/step - loss: 0.3838 - acc: 0.8361\n"
     ]
    },
    {
     "data": {
      "text/plain": [
       "[0.3837985098361969, 0.836080014705658]"
      ]
     },
     "execution_count": 14,
     "metadata": {},
     "output_type": "execute_result"
    }
   ],
   "source": [
    "rnn.evaluate(X_test,y_test)"
   ]
  },
  {
   "cell_type": "code",
   "execution_count": 15,
   "metadata": {},
   "outputs": [
    {
     "data": {
      "text/plain": [
       "[<matplotlib.lines.Line2D at 0x29f145e6b80>]"
      ]
     },
     "execution_count": 15,
     "metadata": {},
     "output_type": "execute_result"
    },
    {
     "data": {
      "image/png": "[encoded data removed]",
      "text/plain": [
       "<Figure size 432x288 with 1 Axes>"
      ]
     },
     "metadata": {
      "needs_background": "light"
     },
     "output_type": "display_data"
    }
   ],
   "source": [
    "val2_dict = val2.history\n",
    "loss = val2_dict['acc']\n",
    "val_loss = val2_dict['val_acc']\n",
    "x = np.arange(0,len(loss))\n",
    "\n",
    "plt.plot(x,loss,'-')\n",
    "plt.plot(x,val_loss,'o')"
   ]
  },
  {
   "cell_type": "markdown",
   "metadata": {},
   "source": [
    "기존의 Neural Network와 달리 검색을 통해 얻을 수 있는 Model Achitecture가 거의 없었다. 따라서 직접적으로 그 경향성을 파악하여 모델을 구성해보기로 하였다."
   ]
  },
  {
   "cell_type": "markdown",
   "metadata": {},
   "source": [
    "\n",
    "|Model Achitecture  |epochs|Trained Accuracy|Validated Accuracy |Test Accuracy |\n",
    "|:----------------: |:----:|:--------------:|:-----------------:|:------------:|\n",
    "|MLP                |5     |94.03 %         | 88.60 %           |87.48 %       |\n",
    "|RNN(16)            |5     |92.82 %         | 82.10 %           |81.58 %       |\n",
    "|RNN(16,16)         |5     |98.85 %         | 80.94 %           |80.14 %       |\n",
    "|RNN(16,16,16)      |5     |96.14 %         | 82.02 %           |81.46 %       |\n",
    "|RNN(16,16,16,16)   |5     |95.47 %         | 76.14 %           |76.05 %       |\n",
    "|RNN(32)            |5     |96.55 %         | 81.08 %           |80.52 %       |\n",
    "|RNN(32,32)         |5     |97.27 %         | 73.09 %           |72.66 %       |\n",
    "|RNN(32,32,32)      |5     |98.19 %         | 80.38 %           |79.40 %       |\n",
    "|RNN(32,32,32,32)   |5     |91.36 %         | 80.11 %           |79.24 %       |\n",
    "|RNN(32,32,32,32,32)|5     |90.65 %         | 80.74 %           |80.51 %       |\n",
    "|RNN(32,32,32,32,32,32)|5  |81.23 %         | 73.00 %           |72.23 %       |\n",
    "|RNN(64)            |5     |93.19 %         | 80.63 %           |80.07 %       |\n",
    "|RNN(64,64)         |5     |97.35 %         | 75.06 %           |74.76 %       |\n",
    "|RNN(64,64,64)      |5     |95.17 %         | 55.07 %           |54.57 %       |\n",
    "|RNN(128)           |5     |85.85 %         | 80.74 %           |80.89 %       |\n",
    "|RNN(128,128)       |5     |90.87 %         | 55.97 %           |55.54 %       |\n",
    "|RNN(128,128,128)   |5     |51.19 %         | 50.55 %           |50.54 %       |\n",
    "|RNN(254)           |5     |61.91 %         | 57.43 %           |57.43 %       |"
   ]
  },
  {
   "cell_type": "markdown",
   "metadata": {},
   "source": [
    "단순하게 RNN만 가지고 model를 설정한 경우를 비교해 보았다. 그랬을 때 정확도가 가장 높은 것은 node 16개인 RNN를 1 layer만 설정한 것이다. 그 다음으로 node 16개인 RNN을 3 layer 설정한 것이 좋았다. model의 overfitting을 고려하면, test data에 대한 정확도가 높으면서도, trained data에 대한 정확도와 별로 차이가 나지 않는 것이 좋다. 128 node RNN을 1 layer만 model, 16 node RNN을 1 layer만 설정한 모델, 32 node RNN을 5layer만 설정한 모델이 좋다. 따라서 이 3가지를 기준으로 모델을 다시 설계하였다. Dense net 넣으면 1퍼 정도 정확도가 늘어나지만, 그 이상의 효과를 보기는 힘들었다."
   ]
  },
  {
   "cell_type": "markdown",
   "metadata": {},
   "source": [
    "#### 번외: CNN + RNN"
   ]
  },
  {
   "cell_type": "code",
   "execution_count": 16,
   "metadata": {},
   "outputs": [],
   "source": [
    "cornn=models.Sequential()\n",
    "cornn.add(layers.Embedding(max_words, 16))\n",
    "cornn.add(layers.Dropout(0.5))\n",
    "cornn.add(layers.Conv1D(filters=32,kernel_size=3,padding='same',activation='relu'))\n",
    "cornn.add(layers.Dropout(0.5))\n",
    "cornn.add(layers.MaxPooling1D(pool_size=2))\n",
    "cornn.add(layers.SimpleRNN(128))\n",
    "cornn.add(layers.Dense(1,activation='sigmoid'))\n",
    "cornn.compile(optimizer='nadam', loss='binary_crossentropy', metrics = ['acc'])"
   ]
  },
  {
   "cell_type": "code",
   "execution_count": null,
   "metadata": {},
   "outputs": [],
   "source": [
    "cornn.summary()"
   ]
  },
  {
   "cell_type": "code",
   "execution_count": 17,
   "metadata": {},
   "outputs": [
    {
     "name": "stdout",
     "output_type": "stream",
     "text": [
      "Epoch 1/9\n",
      "235/235 [==============================] - 15s 65ms/step - loss: 0.6956 - acc: 0.5128 - val_loss: 0.6867 - val_acc: 0.5597\n",
      "Epoch 2/9\n",
      "235/235 [==============================] - 15s 63ms/step - loss: 0.6320 - acc: 0.6368 - val_loss: 0.6198 - val_acc: 0.6705\n",
      "Epoch 3/9\n",
      "235/235 [==============================] - 15s 63ms/step - loss: 0.4677 - acc: 0.7842 - val_loss: 0.4576 - val_acc: 0.8026\n",
      "Epoch 4/9\n",
      "235/235 [==============================] - 15s 63ms/step - loss: 0.3930 - acc: 0.8282 - val_loss: 0.3872 - val_acc: 0.8331\n",
      "Epoch 5/9\n",
      "235/235 [==============================] - 15s 66ms/step - loss: 0.3415 - acc: 0.8565 - val_loss: 0.3748 - val_acc: 0.8367\n",
      "Epoch 6/9\n",
      "235/235 [==============================] - 15s 65ms/step - loss: 0.3555 - acc: 0.8517 - val_loss: 0.3908 - val_acc: 0.8293\n",
      "Epoch 7/9\n",
      "235/235 [==============================] - 15s 65ms/step - loss: 0.3048 - acc: 0.8766 - val_loss: 0.3612 - val_acc: 0.8443\n",
      "Epoch 8/9\n",
      "235/235 [==============================] - 15s 65ms/step - loss: 0.2697 - acc: 0.8902 - val_loss: 0.3971 - val_acc: 0.8338\n",
      "Epoch 9/9\n",
      "235/235 [==============================] - 15s 64ms/step - loss: 0.2506 - acc: 0.8989 - val_loss: 0.3821 - val_acc: 0.8316\n"
     ]
    }
   ],
   "source": [
    "val3 =cornn.fit(partial_X_train_rnn\n",
    "                ,partial_y_train_rnn\n",
    "                , epochs=9, batch_size=64\n",
    "                , validation_data=(X_val_rnn, y_val_rnn))"
   ]
  },
  {
   "cell_type": "code",
   "execution_count": 18,
   "metadata": {},
   "outputs": [
    {
     "name": "stdout",
     "output_type": "stream",
     "text": [
      "782/782 [==============================] - 6s 8ms/step - loss: 0.3862 - acc: 0.8281\n"
     ]
    },
    {
     "data": {
      "text/plain": [
       "[0.38624078035354614, 0.8281199932098389]"
      ]
     },
     "execution_count": 18,
     "metadata": {},
     "output_type": "execute_result"
    }
   ],
   "source": [
    "cornn.evaluate(X_test,y_test)"
   ]
  },
  {
   "cell_type": "code",
   "execution_count": 19,
   "metadata": {},
   "outputs": [
    {
     "data": {
      "text/plain": [
       "[<matplotlib.lines.Line2D at 0x29f18086070>]"
      ]
     },
     "execution_count": 19,
     "metadata": {},
     "output_type": "execute_result"
    },
    {
     "data": {
      "image/png": "[encoded data removed]",
      "text/plain": [
       "<Figure size 432x288 with 1 Axes>"
      ]
     },
     "metadata": {
      "needs_background": "light"
     },
     "output_type": "display_data"
    }
   ],
   "source": [
    "val3_dict = val3.history\n",
    "loss = val3_dict['acc']\n",
    "val_loss = val3_dict['val_acc']\n",
    "x = np.arange(0,len(loss))\n",
    "\n",
    "plt.plot(x,loss,'-')\n",
    "plt.plot(x,val_loss,'o')"
   ]
  },
  {
   "cell_type": "markdown",
   "metadata": {},
   "source": [
    "### Result"
   ]
  },
  {
   "cell_type": "markdown",
   "metadata": {},
   "source": [
    "여러 가지 모델을 테스트해보고, 인터넷 서칭도 해보았으나, MLP의 결과 87%를 넘어서는 SimpleRNN model을 찾을 수 없었다. Simple RNN의 경우 전체 데이터 Sequence에서 주로 근처의 data만 영향을 미쳐서,사람처럼 문장 전체를 이해하기 힘들다고 한다. 따라서 과거의 sequence를 잘 기억하는 LSTM, GRU 같은 model들이 그 성능이 좋다고 한다. (참고로 현재 이 dataset에 대한 가장 정확한 모델은 \"NB-weighted-BON + dv-cosine\"이고, 정확도는 97.4%라고 한다.) 또한, LSTM도 좋아야 88%의 정확도를 가진다고 한다. 따라서 MLP에서 이용한 특정 단어가 등장하는 횟수로 감정을 평가하는 것은 실제로 꽤 의미있다는 것을 말해준다.\\\n",
    "Sentiment Analysis on IMDb Dataset Benchmark: https://paperswithcode.com/sota/sentiment-analysis-on-imdb"
   ]
  },
  {
   "cell_type": "code",
   "execution_count": 40,
   "metadata": {},
   "outputs": [],
   "source": [
    "#출처: https://wikidocs.net/24586\n",
    "\n",
    "import re\n",
    "\n",
    "def sentiment_predict(new_sentence,model):\n",
    "    new_sentence = re.sub('[^0-9a-zA-Z ]', '', new_sentence).lower()\n",
    "    encoded = []\n",
    "    for word in new_sentence.split():\n",
    "        try :\n",
    "            if word2index[word] <= 10000:\n",
    "                encoded.append(word2index[word]+3)\n",
    "            else:\n",
    "                encoded.append(2)\n",
    "        except KeyError:\n",
    "            encoded.append(2)\n",
    "    if model == net:\n",
    "        pad_new = vect([encoded])\n",
    "    else:\n",
    "        pad_new = sequence.pad_sequences([encoded], maxlen = max_words) # 패딩\n",
    "    score = float(model.predict(pad_new)) # 예측\n",
    "    if(score > 0.5):\n",
    "        print(\"{:.2f}% 확률로 긍정 리뷰입니다.\".format(score * 100))\n",
    "    else:\n",
    "        print(\"{:.2f}% 확률로 부정 리뷰입니다.\".format((1 - score) * 100))"
   ]
  },
  {
   "cell_type": "code",
   "execution_count": 1,
   "metadata": {},
   "outputs": [
    {
     "data": {
      "text/plain": [
       "\"I've said it 100 times, and I'll say it again. This is the best film ever made. If you know me, you know how much I adore it. I'll keep this short but you could say so much about this film. I've seen it maybe 15 times and it still has the same effect on me.The cast is stunning and so perfect. Cate Blanchett is obviously iconic and can play any role, but just seems to fit Carol so well. Mara, Paulson and Chandler are also A+. The SOUNDTRACK... breath taking. Carter Burwell has truly done it again. Chuck a few 50s classics in there and you literally can't beat it. Cinematography, set design, costume, script - all amazing. No wonder it took about 100 years to get on to our screens. If you like Sirk or melodrama in general, this will be up your alley.Todd Haynes, you are a bloody genius.\""
      ]
     },
     "execution_count": 1,
     "metadata": {},
     "output_type": "execute_result"
    }
   ],
   "source": [
    "Review1=\"I've said it 100 times, and I'll say it again. This is the best film ever made. If you know me, you know how much I adore it. I'll keep this short but you could say so much about this film. I've seen it maybe 15 times and it still has the same effect on me.The cast is stunning and so perfect. Cate Blanchett is obviously iconic and can play any role, but just seems to fit Carol so well. Mara, Paulson and Chandler are also A+. The SOUNDTRACK... breath taking. Carter Burwell has truly done it again. Chuck a few 50s classics in there and you literally can't beat it. Cinematography, set design, costume, script - all amazing. No wonder it took about 100 years to get on to our screens. If you like Sirk or melodrama in general, this will be up your alley.Todd Haynes, you are a bloody genius.\"\n",
    "Review1 #영화 \"carol\" 10점 리뷰. 장르: 멜로, 로맨스"
   ]
  },
  {
   "cell_type": "code",
   "execution_count": 28,
   "metadata": {},
   "outputs": [
    {
     "name": "stdout",
     "output_type": "stream",
     "text": [
      "--- MLP ---\n",
      "99.58% 확률로 긍정 리뷰입니다.\n",
      "--- RNN ---\n",
      "97.82% 확률로 긍정 리뷰입니다.\n",
      "--- CNN + RNN ---\n",
      "90.16% 확률로 긍정 리뷰입니다.\n"
     ]
    }
   ],
   "source": [
    "print('--- MLP ---')\n",
    "sentiment_predict(Review1,net)\n",
    "print('--- RNN ---')\n",
    "sentiment_predict(Review1,rnn)\n",
    "print('--- CNN + RNN ---')\n",
    "sentiment_predict(Review1,cornn)"
   ]
  },
  {
   "cell_type": "code",
   "execution_count": 30,
   "metadata": {},
   "outputs": [
    {
     "data": {
      "text/plain": [
       "'The art of good film making has been lost in the last decade. A whole lot of structural and continuity issues here with a weak script that gives JJ Abrams the opportunity to sell games and merchandise. The main actress has only one expression like she is angry at herself, as well as the audience. Suggestion: there are only 6 episodes of Star Wars ever and only 3 of them are good.|'"
      ]
     },
     "execution_count": 30,
     "metadata": {},
     "output_type": "execute_result"
    }
   ],
   "source": [
    "Review2=\"The art of good film making has been lost in the last decade. A whole lot of structural and continuity issues here with a weak script that gives JJ Abrams the opportunity to sell games and merchandise. The main actress has only one expression like she is angry at herself, as well as the audience. Suggestion: there are only 6 episodes of Star Wars ever and only 3 of them are good.|\"\n",
    "Review2 # 영화 \"Star Wars: Episode IX - The Rise of Skywalker\" 1점 리뷰, 장르 액션 영화"
   ]
  },
  {
   "cell_type": "code",
   "execution_count": 32,
   "metadata": {},
   "outputs": [
    {
     "name": "stdout",
     "output_type": "stream",
     "text": [
      "--- MLP ---\n",
      "92.90% 확률로 부정 리뷰입니다.\n",
      "--- RNN ---\n",
      "81.27% 확률로 부정 리뷰입니다.\n",
      "--- CNN + RNN ---\n",
      "92.26% 확률로 부정 리뷰입니다.\n"
     ]
    }
   ],
   "source": [
    "print('--- MLP ---')\n",
    "sentiment_predict(Review2,net)\n",
    "print('--- RNN ---')\n",
    "sentiment_predict(Review2,rnn)\n",
    "print('--- CNN + RNN ---')\n",
    "sentiment_predict(Review2,cornn)"
   ]
  },
  {
   "cell_type": "code",
   "execution_count": 33,
   "metadata": {},
   "outputs": [
    {
     "data": {
      "text/plain": [
       "\"A mentally retarded man, Sam, fights for custody of his 7-year-old daughter, and in the process teaches his cold-hearted lawyer the value of love and family. This film reached my expectations but it didn't overcame it. It was kinda disappointing, if you think about it. This film is not very good but it's good without getting bad but this is a great film all about loving people. The acting by Sean Penn and Michelle Pfeiffer were exceptionally great, while others like Dakota Fanning and Loretta Devine were okay. The cinematography was good. It shows how Sam's world is, using quick cuts between one who is retarded might feel like.Although not a better film than I thought it would be, this film is predictable but good but kinda too long.\""
      ]
     },
     "execution_count": 33,
     "metadata": {},
     "output_type": "execute_result"
    }
   ],
   "source": [
    "Review3=\"A mentally retarded man, Sam, fights for custody of his 7-year-old daughter, and in the process teaches his cold-hearted lawyer the value of love and family. This film reached my expectations but it didn't overcame it. It was kinda disappointing, if you think about it. This film is not very good but it's good without getting bad but this is a great film all about loving people. The acting by Sean Penn and Michelle Pfeiffer were exceptionally great, while others like Dakota Fanning and Loretta Devine were okay. The cinematography was good. It shows how Sam's world is, using quick cuts between one who is retarded might feel like.Although not a better film than I thought it would be, this film is predictable but good but kinda too long.\"\n",
    "Review3 #영화 \"I Am Sam\" 5점 리뷰, 장르: 드라마"
   ]
  },
  {
   "cell_type": "code",
   "execution_count": 35,
   "metadata": {},
   "outputs": [
    {
     "name": "stdout",
     "output_type": "stream",
     "text": [
      "--- MLP ---\n",
      "88.05% 확률로 긍정 리뷰입니다.\n",
      "--- RNN ---\n",
      "59.12% 확률로 긍정 리뷰입니다.\n",
      "--- CNN + RNN ---\n",
      "58.13% 확률로 부정 리뷰입니다.\n"
     ]
    }
   ],
   "source": [
    "print('--- MLP ---')\n",
    "sentiment_predict(Review3,net)\n",
    "print('--- RNN ---')\n",
    "sentiment_predict(Review3,rnn)\n",
    "print('--- CNN + RNN ---')\n",
    "sentiment_predict(Review3,cornn)"
   ]
  },
  {
   "cell_type": "code",
   "execution_count": 38,
   "metadata": {},
   "outputs": [
    {
     "data": {
      "text/plain": [
       "\"From the very first scene, having no socks made absolutely no sense. Ok the premise is shoes are loud, but why no socks? The kid runs around on tile barefoot In the very first scene. That's super loud in comparison to some of the other Actions they take. Socks would deaden the sound and keep their feet warmer. I couldn't get past that choice and it drove me nuts. The entire movie. There were other flaws too. The random nail on the step going up through the stair in a direction that meant someone had to deliberately put it that way. It's not a nail that worked it's way out. Or the silo where the way they slid under the corn was inconsistent and not realistic. I can suspend some disbelief but I wish movies would spend more time with physics and other science.\""
      ]
     },
     "execution_count": 38,
     "metadata": {},
     "output_type": "execute_result"
    }
   ],
   "source": [
    "Review4=\"From the very first scene, having no socks made absolutely no sense. Ok the premise is shoes are loud, but why no socks? The kid runs around on tile barefoot In the very first scene. That's super loud in comparison to some of the other Actions they take. Socks would deaden the sound and keep their feet warmer. I couldn't get past that choice and it drove me nuts. The entire movie. There were other flaws too. The random nail on the step going up through the stair in a direction that meant someone had to deliberately put it that way. It's not a nail that worked it's way out. Or the silo where the way they slid under the corn was inconsistent and not realistic. I can suspend some disbelief but I wish movies would spend more time with physics and other science.\"\n",
    "Review4 #영화 \"A Quiet Place\" 5점 리뷰, 장르: 공포 영화"
   ]
  },
  {
   "cell_type": "code",
   "execution_count": 41,
   "metadata": {},
   "outputs": [
    {
     "name": "stdout",
     "output_type": "stream",
     "text": [
      "--- MLP ---\n",
      "99.14% 확률로 부정 리뷰입니다.\n",
      "--- RNN ---\n",
      "71.72% 확률로 부정 리뷰입니다.\n",
      "--- CNN + RNN ---\n",
      "75.21% 확률로 부정 리뷰입니다.\n"
     ]
    }
   ],
   "source": [
    "print('--- MLP ---')\n",
    "sentiment_predict(Review4,net)\n",
    "print('--- RNN ---')\n",
    "sentiment_predict(Review4,rnn)\n",
    "print('--- CNN + RNN ---')\n",
    "sentiment_predict(Review4,cornn)"
   ]
  },
  {
   "cell_type": "code",
   "execution_count": 2,
   "metadata": {},
   "outputs": [
    {
     "data": {
      "text/plain": [
       "\"Red Dead Redemption 2 is as much an experience as it is a game. It will completely immerse you in the Old West, giving you an understanding for what life was like during the end of the 19th Century and making you appreciate what it must feel like when your way of life is coming to an end in a changing world. Rockstar has outdone itself in creating such a rich and deep virtual world, and you'll love every minute that you spend exploring it.\""
      ]
     },
     "execution_count": 2,
     "metadata": {},
     "output_type": "execute_result"
    }
   ],
   "source": [
    "GameReview=\"Red Dead Redemption 2 is as much an experience as it is a game. It will completely immerse you in the Old West, giving you an understanding for what life was like during the end of the 19th Century and making you appreciate what it must feel like when your way of life is coming to an end in a changing world. Rockstar has outdone itself in creating such a rich and deep virtual world, and you'll love every minute that you spend exploring it.\"\n",
    "GameReview #게임 \"Red Dead Redepmtion 2\" 96점 리뷰 (metacritic), 장르: 액션 어드벤쳐."
   ]
  },
  {
   "cell_type": "code",
   "execution_count": 46,
   "metadata": {},
   "outputs": [
    {
     "name": "stdout",
     "output_type": "stream",
     "text": [
      "--- MLP ---\n",
      "82.42% 확률로 긍정 리뷰입니다.\n",
      "--- RNN ---\n",
      "97.67% 확률로 긍정 리뷰입니다.\n",
      "--- CNN + RNN ---\n",
      "86.23% 확률로 긍정 리뷰입니다.\n"
     ]
    }
   ],
   "source": [
    "print('--- MLP ---')\n",
    "sentiment_predict(GameReview,net)\n",
    "print('--- RNN ---')\n",
    "sentiment_predict(GameReview,rnn)\n",
    "print('--- CNN + RNN ---')\n",
    "sentiment_predict(GameReview,cornn)"
   ]
  },
  {
   "cell_type": "markdown",
   "metadata": {},
   "source": [
    "임의의 리뷰를 가지고 와서 감정을 평가해보았다. 먼저, 10점이나 1점 리뷰 같이 극단적인 경우에서는 잘 맞춘다. 하지만, 5점 리뷰에 두가지에 대해서는 MLP의 경우 다른 결과를 주었고, 나머지 두 model에서는 \"부정\"을 주었다. 또한, 영화 장르가 영향을 미치는 보기 위해서 부정적 단어가 많이 나올 것이라고 예상한 공포영화의 리뷰에서는 모두 부정적인 평가를 하였다. 번외로 영화 리뷰가 아닌 게임 리뷰에 대해서는 어떻게 평가하는 궁금해서 살펴본 결과, 영화 리뷰보다는 그 확률이 약간 낮지만, 그래도 나름 잘 맞추는 것 같다."
   ]
  },
  {
   "cell_type": "code",
   "execution_count": null,
   "metadata": {},
   "outputs": [],
   "source": [
    "고생 많으셨습니다.\n",
    "학생에겐 한 학기동안 제가 배우고 갑니다."
   ]
  }
 ],
 "metadata": {
  "kernelspec": {
   "display_name": "Python 3",
   "language": "python",
   "name": "python3"
  },
  "language_info": {
   "codemirror_mode": {
    "name": "ipython",
    "version": 3
   },
   "file_extension": ".py",
   "mimetype": "text/x-python",
   "name": "python",
   "nbconvert_exporter": "python",
   "pygments_lexer": "ipython3",
   "version": "3.7.3"
  }
 },
 "nbformat": 4,
 "nbformat_minor": 4
}
