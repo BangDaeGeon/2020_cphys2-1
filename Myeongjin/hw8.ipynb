{
 "cells": [
  {
   "cell_type": "markdown",
   "metadata": {},
   "source": [
    "## 1. MNIST Digits\n",
    "#### MNIST 손글씨 이미지를 딥러닝을 이용하여 분류하시오."
   ]
  },
  {
   "cell_type": "code",
   "execution_count": 1,
   "metadata": {},
   "outputs": [],
   "source": [
    "from keras.datasets import mnist\n",
    "from tensorflow import keras\n",
    "from keras import models \n",
    "from keras import layers\n",
    "import numpy as np\n",
    "import matplotlib.pyplot as plt\n",
    "from keras.utils import to_categorical\n",
    "import time\n",
    "\n",
    "(X, y), (X_test, y_test) = mnist.load_data()"
   ]
  },
  {
   "cell_type": "code",
   "execution_count": 2,
   "metadata": {},
   "outputs": [
    {
     "name": "stdout",
     "output_type": "stream",
     "text": [
      "(60000, 28, 28)\n",
      "(60000,)\n",
      "(10000, 28, 28)\n",
      "(10000,)\n",
      "y values:\t [5 0 4 ... 5 6 8]\n",
      "y_test values:\t [7 2 1 ... 4 5 6]\n"
     ]
    }
   ],
   "source": [
    "print(np.shape(X))\n",
    "print(np.shape(y))\n",
    "print(np.shape(X_test))\n",
    "print(np.shape(y_test))\n",
    "print('y values:\\t',y)\n",
    "print('y_test values:\\t',y_test)"
   ]
  },
  {
   "cell_type": "code",
   "execution_count": 3,
   "metadata": {},
   "outputs": [],
   "source": [
    "#Data Processing\n",
    "#raveled\n",
    "X_train=X.reshape(np.shape(X)[0],-1)\n",
    "X_test=X_test.reshape(np.shape(X_test)[0],-1)\n",
    "\n",
    "\n",
    "#Normalized\n",
    "X_train=X_train/255\n",
    "X_test=X_test/255\n",
    "\n",
    "#vectorized\n",
    "y_train=to_categorical(y)\n",
    "y_test=to_categorical(y_test)"
   ]
  },
  {
   "cell_type": "code",
   "execution_count": 4,
   "metadata": {},
   "outputs": [],
   "source": [
    "#model setting\n",
    "net = models.Sequential()\n",
    "net.add(layers.Dense(512, activation='relu', input_shape=(28*28,))) #RELU is to handle.\n",
    "net.add(layers.Dropout(0.3)) #For protecting overfitting. 0.3 is recommanded\n",
    "net.add(layers.Dense(512, activation='relu')) \n",
    "net.add(layers.Dropout(0.3))\n",
    "net.add(layers.Dense(512, activation='relu'))\n",
    "net.add(layers.Dropout(0.3))\n",
    "net.add(layers.Dense(10, activation='softmax')) \n",
    "net.compile(optimizer='nadam', #adam, nadam are recommanded\n",
    "            loss='categorical_crossentropy', #For Classifiation\n",
    "            metrics=['acc']) #accuarcy is good for classifiation"
   ]
  },
  {
   "cell_type": "code",
   "execution_count": 5,
   "metadata": {},
   "outputs": [
    {
     "name": "stdout",
     "output_type": "stream",
     "text": [
      "Epoch 1/20\n",
      "375/375 [==============================] - 3s 9ms/step - loss: 0.3222 - acc: 0.8999 - val_loss: 0.1255 - val_acc: 0.9613\n",
      "Epoch 2/20\n",
      "375/375 [==============================] - 3s 9ms/step - loss: 0.1319 - acc: 0.9604 - val_loss: 0.0972 - val_acc: 0.9707\n",
      "Epoch 3/20\n",
      "375/375 [==============================] - 3s 9ms/step - loss: 0.0999 - acc: 0.9689 - val_loss: 0.0837 - val_acc: 0.9768\n",
      "Epoch 4/20\n",
      "375/375 [==============================] - 3s 9ms/step - loss: 0.0801 - acc: 0.9752 - val_loss: 0.0827 - val_acc: 0.9749\n",
      "Epoch 5/20\n",
      "375/375 [==============================] - 3s 9ms/step - loss: 0.0670 - acc: 0.9792 - val_loss: 0.0868 - val_acc: 0.9738\n",
      "Epoch 6/20\n",
      "375/375 [==============================] - 3s 8ms/step - loss: 0.0594 - acc: 0.9817 - val_loss: 0.0747 - val_acc: 0.9783\n",
      "Epoch 7/20\n",
      "375/375 [==============================] - 3s 8ms/step - loss: 0.0543 - acc: 0.9824 - val_loss: 0.0774 - val_acc: 0.9772\n",
      "Epoch 8/20\n",
      "375/375 [==============================] - 3s 8ms/step - loss: 0.0503 - acc: 0.9844 - val_loss: 0.0727 - val_acc: 0.9803\n",
      "Epoch 9/20\n",
      "375/375 [==============================] - 3s 8ms/step - loss: 0.0464 - acc: 0.9854 - val_loss: 0.0903 - val_acc: 0.9762\n",
      "Epoch 10/20\n",
      "375/375 [==============================] - 3s 7ms/step - loss: 0.0438 - acc: 0.9861 - val_loss: 0.0731 - val_acc: 0.9805\n",
      "Epoch 11/20\n",
      "375/375 [==============================] - 3s 7ms/step - loss: 0.0402 - acc: 0.9875 - val_loss: 0.0807 - val_acc: 0.9788\n",
      "Epoch 12/20\n",
      "375/375 [==============================] - 3s 7ms/step - loss: 0.0374 - acc: 0.9882 - val_loss: 0.0856 - val_acc: 0.9789\n",
      "Epoch 13/20\n",
      "375/375 [==============================] - 3s 7ms/step - loss: 0.0359 - acc: 0.9892 - val_loss: 0.0801 - val_acc: 0.9808\n",
      "Epoch 14/20\n",
      "375/375 [==============================] - 3s 7ms/step - loss: 0.0337 - acc: 0.9894 - val_loss: 0.0816 - val_acc: 0.9803\n",
      "Epoch 15/20\n",
      "375/375 [==============================] - 3s 7ms/step - loss: 0.0319 - acc: 0.9898 - val_loss: 0.0835 - val_acc: 0.9810\n",
      "Epoch 16/20\n",
      "375/375 [==============================] - 3s 7ms/step - loss: 0.0308 - acc: 0.9898 - val_loss: 0.0826 - val_acc: 0.9797\n",
      "Epoch 17/20\n",
      "375/375 [==============================] - 3s 7ms/step - loss: 0.0297 - acc: 0.9908 - val_loss: 0.0895 - val_acc: 0.9798\n",
      "Epoch 18/20\n",
      "375/375 [==============================] - 3s 7ms/step - loss: 0.0293 - acc: 0.9910 - val_loss: 0.0780 - val_acc: 0.9818\n",
      "Epoch 19/20\n",
      "375/375 [==============================] - 3s 7ms/step - loss: 0.0272 - acc: 0.9916 - val_loss: 0.0832 - val_acc: 0.9805\n",
      "Epoch 20/20\n",
      "375/375 [==============================] - 3s 7ms/step - loss: 0.0295 - acc: 0.9910 - val_loss: 0.0854 - val_acc: 0.9808\n",
      "spending time: 0.9990425109863281  [min]\n"
     ]
    }
   ],
   "source": [
    "#fitting\n",
    "start=time.time()\n",
    "\n",
    "net_val=net.fit(X_train,y_train,epochs=20, batch_size=128, validation_split=0.2)\n",
    "\n",
    "print(\"spending time:\",abs(start-time.time())/60, ' [min]')"
   ]
  },
  {
   "cell_type": "code",
   "execution_count": 6,
   "metadata": {},
   "outputs": [
    {
     "name": "stdout",
     "output_type": "stream",
     "text": [
      "313/313 [==============================] - 1s 3ms/step - loss: 0.0880 - acc: 0.9809\n"
     ]
    }
   ],
   "source": [
    "test_loss, test_acc = net.evaluate(X_test,y_test)"
   ]
  },
  {
   "cell_type": "markdown",
   "metadata": {},
   "source": [
    "### Results"
   ]
  },
  {
   "cell_type": "code",
   "execution_count": 7,
   "metadata": {},
   "outputs": [
    {
     "name": "stdout",
     "output_type": "stream",
     "text": [
      "Model: \"sequential\"\n",
      "_________________________________________________________________\n",
      "Layer (type)                 Output Shape              Param #   \n",
      "=================================================================\n",
      "dense (Dense)                (None, 512)               401920    \n",
      "_________________________________________________________________\n",
      "dropout (Dropout)            (None, 512)               0         \n",
      "_________________________________________________________________\n",
      "dense_1 (Dense)              (None, 512)               262656    \n",
      "_________________________________________________________________\n",
      "dropout_1 (Dropout)          (None, 512)               0         \n",
      "_________________________________________________________________\n",
      "dense_2 (Dense)              (None, 512)               262656    \n",
      "_________________________________________________________________\n",
      "dropout_2 (Dropout)          (None, 512)               0         \n",
      "_________________________________________________________________\n",
      "dense_3 (Dense)              (None, 10)                5130      \n",
      "=================================================================\n",
      "Total params: 932,362\n",
      "Trainable params: 932,362\n",
      "Non-trainable params: 0\n",
      "_________________________________________________________________\n"
     ]
    }
   ],
   "source": [
    "net.summary()"
   ]
  },
  {
   "cell_type": "code",
   "execution_count": 8,
   "metadata": {},
   "outputs": [
    {
     "data": {
      "text/plain": [
       "<matplotlib.legend.Legend at 0x1f0d0361640>"
      ]
     },
     "execution_count": 8,
     "metadata": {},
     "output_type": "execute_result"
    },
    {
     "data": {
      "image/png": "[encoded data removed]",
      "text/plain": [
       "<Figure size 432x288 with 1 Axes>"
      ]
     },
     "metadata": {
      "needs_background": "light"
     },
     "output_type": "display_data"
    },
    {
     "data": {
      "image/png": "[encoded data removed]",
      "text/plain": [
       "<Figure size 432x288 with 1 Axes>"
      ]
     },
     "metadata": {
      "needs_background": "light"
     },
     "output_type": "display_data"
    }
   ],
   "source": [
    "val_dict = net_val.history\n",
    "loss = val_dict['loss']\n",
    "val_loss = val_dict['val_loss']\n",
    "acc=val_dict['acc']\n",
    "val_acc =val_dict['val_acc']\n",
    "\n",
    "plt.figure('loss')\n",
    "x = np.arange(0,len(loss))\n",
    "plt.title(\"loss by epoches\")\n",
    "plt.xlabel(\"epoches\") ; plt.ylabel('loss')\n",
    "plt.plot(x,loss,'bo',label='E')\n",
    "plt.plot(x,val_loss,'ro',label='$E_v$')\n",
    "plt.legend()\n",
    "\n",
    "plt.figure('acc')\n",
    "x = np.arange(0,len(loss))\n",
    "plt.title(\"accruary by epoches\")\n",
    "plt.xlabel(\"epoches\") ; plt.ylabel('accruracy [%]')\n",
    "plt.plot(x,acc,'bo',label='E')\n",
    "plt.plot(x,val_acc,'ro',label='$E_v$')\n",
    "plt.legend()"
   ]
  },
  {
   "cell_type": "code",
   "execution_count": 9,
   "metadata": {},
   "outputs": [],
   "source": [
    "results=net.predict(X_test)"
   ]
  },
  {
   "cell_type": "code",
   "execution_count": 10,
   "metadata": {},
   "outputs": [
    {
     "name": "stdout",
     "output_type": "stream",
     "text": [
      "accuracy: 98.089998960495 %\n"
     ]
    },
    {
     "data": {
      "text/html": [
       "<div>\n",
       "<style scoped>\n",
       "    .dataframe tbody tr th:only-of-type {\n",
       "        vertical-align: middle;\n",
       "    }\n",
       "\n",
       "    .dataframe tbody tr th {\n",
       "        vertical-align: top;\n",
       "    }\n",
       "\n",
       "    .dataframe thead th {\n",
       "        text-align: right;\n",
       "    }\n",
       "</style>\n",
       "<table border=\"1\" class=\"dataframe\">\n",
       "  <thead>\n",
       "    <tr style=\"text-align: right;\">\n",
       "      <th></th>\n",
       "      <th>answer</th>\n",
       "      <th>Predicted</th>\n",
       "    </tr>\n",
       "  </thead>\n",
       "  <tbody>\n",
       "    <tr>\n",
       "      <th>0</th>\n",
       "      <td>7</td>\n",
       "      <td>7</td>\n",
       "    </tr>\n",
       "    <tr>\n",
       "      <th>1</th>\n",
       "      <td>2</td>\n",
       "      <td>2</td>\n",
       "    </tr>\n",
       "    <tr>\n",
       "      <th>2</th>\n",
       "      <td>1</td>\n",
       "      <td>1</td>\n",
       "    </tr>\n",
       "    <tr>\n",
       "      <th>3</th>\n",
       "      <td>0</td>\n",
       "      <td>0</td>\n",
       "    </tr>\n",
       "    <tr>\n",
       "      <th>4</th>\n",
       "      <td>4</td>\n",
       "      <td>4</td>\n",
       "    </tr>\n",
       "    <tr>\n",
       "      <th>...</th>\n",
       "      <td>...</td>\n",
       "      <td>...</td>\n",
       "    </tr>\n",
       "    <tr>\n",
       "      <th>9995</th>\n",
       "      <td>2</td>\n",
       "      <td>2</td>\n",
       "    </tr>\n",
       "    <tr>\n",
       "      <th>9996</th>\n",
       "      <td>3</td>\n",
       "      <td>3</td>\n",
       "    </tr>\n",
       "    <tr>\n",
       "      <th>9997</th>\n",
       "      <td>4</td>\n",
       "      <td>4</td>\n",
       "    </tr>\n",
       "    <tr>\n",
       "      <th>9998</th>\n",
       "      <td>5</td>\n",
       "      <td>5</td>\n",
       "    </tr>\n",
       "    <tr>\n",
       "      <th>9999</th>\n",
       "      <td>6</td>\n",
       "      <td>6</td>\n",
       "    </tr>\n",
       "  </tbody>\n",
       "</table>\n",
       "<p>10000 rows × 2 columns</p>\n",
       "</div>"
      ],
      "text/plain": [
       "      answer  Predicted\n",
       "0          7          7\n",
       "1          2          2\n",
       "2          1          1\n",
       "3          0          0\n",
       "4          4          4\n",
       "...      ...        ...\n",
       "9995       2          2\n",
       "9996       3          3\n",
       "9997       4          4\n",
       "9998       5          5\n",
       "9999       6          6\n",
       "\n",
       "[10000 rows x 2 columns]"
      ]
     },
     "execution_count": 10,
     "metadata": {},
     "output_type": "execute_result"
    }
   ],
   "source": [
    "import pandas as pd\n",
    "\n",
    "df=pd.DataFrame({\"answer\":np.argmax(y_test,axis=1),\"Predicted\":np.argmax(results,axis=1)})\n",
    "\n",
    "print(\"accuracy:\", test_acc*100,'%')\n",
    "df"
   ]
  },
  {
   "cell_type": "code",
   "execution_count": 11,
   "metadata": {},
   "outputs": [
    {
     "data": {
      "image/png": "[encoded data removed]",
      "text/plain": [
       "<Figure size 432x288 with 25 Axes>"
      ]
     },
     "metadata": {},
     "output_type": "display_data"
    }
   ],
   "source": [
    "Wrong_arg=[]\n",
    "for idx,val in enumerate(df.answer!=df.Predicted):\n",
    "    if val ==1:\n",
    "        Wrong_arg.append(idx)\n",
    "Wrong_img=X_test[Wrong_arg].reshape(-1,28,28)\n",
    "\n",
    "num_show=5**2 #the amount of image that you wanna see. should be squre of nature number.\n",
    "for count,(arg,img) in enumerate(zip(Wrong_arg[:num_show],Wrong_img[:num_show])):\n",
    "    plt.subplot(int(np.sqrt(num_show)),int(np.sqrt(num_show)),count+1)\n",
    "    plt.xticks([]); plt.yticks([])\n",
    "    plt.grid(False)\n",
    "    plt.xlabel('A:'+str(df.answer[arg])+'/P:'+str(df.Predicted[arg]))\n",
    "    plt.imshow(img,cmap='binary')\n",
    "\n",
    "plt.suptitle(\"Wrong Images\",fontsize=20)\n",
    "plt.tight_layout()\n",
    "plt.show()"
   ]
  },
  {
   "cell_type": "markdown",
   "metadata": {},
   "source": [
    "정확도가 98%로 기존의 Softmax regression 보다 성능이 훨씬 좋아졌다. 하지만 그만큼 더 많은 시간이 걸린다. 그래도 Support Vector Machine, Random Forest, Decision Tree 같은 model 보다는 훨씬 빠르다.\\\n",
    "한편, 틀린 이미지를 보면, 확실히 구분이 어려운 이미지가 있는 가하면, 구분하기 쉬운 이미지도 있다. 따라서 아직도 모델을 발전시킬 가능성은 있어보인다. (A가 answer를 뜻하며, P가 Prediction을 뜻한다.)"
   ]
  },
  {
   "cell_type": "code",
   "execution_count": 12,
   "metadata": {},
   "outputs": [
    {
     "data": {
      "image/png": "[encoded data removed]",
      "text/plain": [
       "<Figure size 432x288 with 1 Axes>"
      ]
     },
     "metadata": {
      "needs_background": "light"
     },
     "output_type": "display_data"
    },
    {
     "name": "stdout",
     "output_type": "stream",
     "text": [
      "Total wrong Number: 191\n"
     ]
    }
   ],
   "source": [
    "plt.title(\"Wrong Prediction Histogram by Number\")\n",
    "plt.xlabel(\"Labeled Number\")\n",
    "plt.ylabel(\"Wrong Prediction Count [%]\")\n",
    "plt.xticks(range(0,11))\n",
    "plt.hist(df.answer[Wrong_arg],bins=range(0,11),align='left',rwidth=0.5,density=True)\n",
    "plt.grid(axis=\"y\")\n",
    "plt.show()\n",
    "\n",
    "print(\"Total wrong Number:\",np.sum(df.answer!=df.Predicted))"
   ]
  },
  {
   "cell_type": "markdown",
   "metadata": {},
   "source": [
    "위 모델에서는 숫자 9가 제일 맞추기 어려운 숫자이고, 숫자 6이 제일 맞추기 쉬운 숫자로 나온다. 실제로 사람 글씨를 생각해보면, 5와 4, 8과9가 필기체에 따라 햇갈리는 경우가 종종 있다. 실제로 나도 5를 9나 8로 자주 오해를 받아서 필기체를 고친 적이 있다."
   ]
  },
  {
   "cell_type": "markdown",
   "metadata": {},
   "source": [
    "## 2. Fashion MNIST\n",
    "### MNIST 패션 이미지를 딥러닝을 이용하여 분류하시오.\n",
    "MNIST 패션데이터는 10종류의 60000개 패션 학습데이터와 10000개의 테스트 데이터로 구성되어 있습니다. 각각의 레이블의 의미는 다음과 같습니다.\n",
    "\n",
    "|label|\tDescription|\n",
    "|----|------------|\n",
    "|0\t|T-shirt/top|\n",
    "|1\t|Trouser|\n",
    "|2\t|Pullover|\n",
    "|3\t|Dress|\n",
    "|4\t|Coat|\n",
    "|5\t|Sandal|\n",
    "|6\t|Shirt|\n",
    "|7\t|Sneaker|\n",
    "|8\t|Bag|\n",
    "|9\t|Ankle boot|\n",
    "\n",
    "손글씨 데이터 분류처럼 패션 데이터를 딥러닝을 이용하여 분류하시오."
   ]
  },
  {
   "cell_type": "code",
   "execution_count": 13,
   "metadata": {},
   "outputs": [],
   "source": [
    "from keras.datasets import fashion_mnist\n",
    "\n",
    "(X2, y2), (X2_test, y2_test) = fashion_mnist.load_data()"
   ]
  },
  {
   "cell_type": "code",
   "execution_count": 14,
   "metadata": {},
   "outputs": [
    {
     "name": "stdout",
     "output_type": "stream",
     "text": [
      "(60000, 28, 28)\n",
      "(60000,)\n",
      "(10000, 28, 28)\n",
      "(10000,)\n",
      "y values:\t [9 0 0 ... 3 0 5]\n",
      "y_test values:\t [9 2 1 ... 8 1 5]\n"
     ]
    }
   ],
   "source": [
    "print(np.shape(X2))\n",
    "print(np.shape(y2))\n",
    "print(np.shape(X2_test))\n",
    "print(np.shape(y2_test))\n",
    "print('y values:\\t',y2)\n",
    "print('y_test values:\\t',y2_test)"
   ]
  },
  {
   "cell_type": "code",
   "execution_count": 15,
   "metadata": {},
   "outputs": [],
   "source": [
    "#Data Processing\n",
    "#raveled\n",
    "X2_train=X2.reshape(X2.shape[0],-1)\n",
    "X2_test=X2_test.reshape(X2_test.shape[0],-1)\n",
    "\n",
    "#Normalized\n",
    "X2_train=X2_train.astype('float32')/255.0\n",
    "X2_test=X2_test.astype('float32')/255.0\n",
    "\n",
    "#vectorized\n",
    "y2_train=to_categorical(y2)\n",
    "y2_test=to_categorical(y2_test)"
   ]
  },
  {
   "cell_type": "code",
   "execution_count": 16,
   "metadata": {},
   "outputs": [],
   "source": [
    "#model setting\n",
    "net2 = models.Sequential()\n",
    "net2.add(layers.Dense(512, activation='relu',input_shape=(28*28,)))\n",
    "net2.add(layers.Dropout(0.3))\n",
    "net2.add(layers.Dense(512, activation='relu'))\n",
    "net2.add(layers.Dropout(0.3))\n",
    "net2.add(layers.Dense(512, activation='relu'))\n",
    "net2.add(layers.Dropout(0.3))\n",
    "net2.add(layers.Dense(10, activation='softmax')) \n",
    "net2.compile(optimizer='nadam',\n",
    "            loss='categorical_crossentropy',\n",
    "            metrics=['acc'])"
   ]
  },
  {
   "cell_type": "code",
   "execution_count": 17,
   "metadata": {},
   "outputs": [
    {
     "name": "stdout",
     "output_type": "stream",
     "text": [
      "Epoch 1/20\n",
      "375/375 [==============================] - 3s 8ms/step - loss: 0.5964 - acc: 0.7829 - val_loss: 0.3936 - val_acc: 0.8554\n",
      "Epoch 2/20\n",
      "375/375 [==============================] - 3s 7ms/step - loss: 0.4177 - acc: 0.8450 - val_loss: 0.3705 - val_acc: 0.8642\n",
      "Epoch 3/20\n",
      "375/375 [==============================] - 3s 7ms/step - loss: 0.3816 - acc: 0.8617 - val_loss: 0.3487 - val_acc: 0.8756\n",
      "Epoch 4/20\n",
      "375/375 [==============================] - 3s 7ms/step - loss: 0.3561 - acc: 0.8705 - val_loss: 0.3346 - val_acc: 0.8810\n",
      "Epoch 5/20\n",
      "375/375 [==============================] - 3s 7ms/step - loss: 0.3375 - acc: 0.8761 - val_loss: 0.3260 - val_acc: 0.8777\n",
      "Epoch 6/20\n",
      "375/375 [==============================] - 3s 7ms/step - loss: 0.3224 - acc: 0.8809 - val_loss: 0.3232 - val_acc: 0.8813\n",
      "Epoch 7/20\n",
      "375/375 [==============================] - 3s 7ms/step - loss: 0.3149 - acc: 0.8827 - val_loss: 0.3270 - val_acc: 0.8801\n",
      "Epoch 8/20\n",
      "375/375 [==============================] - 3s 7ms/step - loss: 0.3054 - acc: 0.8868 - val_loss: 0.3183 - val_acc: 0.8867\n",
      "Epoch 9/20\n",
      "375/375 [==============================] - 3s 7ms/step - loss: 0.2926 - acc: 0.8904 - val_loss: 0.3079 - val_acc: 0.8883\n",
      "Epoch 10/20\n",
      "375/375 [==============================] - 3s 7ms/step - loss: 0.2888 - acc: 0.8915 - val_loss: 0.3107 - val_acc: 0.8883\n",
      "Epoch 11/20\n",
      "375/375 [==============================] - 3s 7ms/step - loss: 0.2832 - acc: 0.8943 - val_loss: 0.3222 - val_acc: 0.8855\n",
      "Epoch 12/20\n",
      "375/375 [==============================] - 3s 7ms/step - loss: 0.2747 - acc: 0.8978 - val_loss: 0.3088 - val_acc: 0.8905\n",
      "Epoch 13/20\n",
      "375/375 [==============================] - 3s 7ms/step - loss: 0.2700 - acc: 0.8984 - val_loss: 0.3046 - val_acc: 0.8912\n",
      "Epoch 14/20\n",
      "375/375 [==============================] - 3s 7ms/step - loss: 0.2636 - acc: 0.9004 - val_loss: 0.3160 - val_acc: 0.8883\n",
      "Epoch 15/20\n",
      "375/375 [==============================] - 3s 8ms/step - loss: 0.2620 - acc: 0.9022 - val_loss: 0.3007 - val_acc: 0.8951\n",
      "Epoch 16/20\n",
      "375/375 [==============================] - 3s 8ms/step - loss: 0.2583 - acc: 0.9036 - val_loss: 0.3016 - val_acc: 0.8924\n",
      "Epoch 17/20\n",
      "375/375 [==============================] - 3s 8ms/step - loss: 0.2529 - acc: 0.9039 - val_loss: 0.3094 - val_acc: 0.8899\n",
      "Epoch 18/20\n",
      "375/375 [==============================] - 3s 7ms/step - loss: 0.2479 - acc: 0.9073 - val_loss: 0.3035 - val_acc: 0.8934\n",
      "Epoch 19/20\n",
      "375/375 [==============================] - 3s 8ms/step - loss: 0.2459 - acc: 0.9058 - val_loss: 0.2947 - val_acc: 0.8960\n",
      "Epoch 20/20\n",
      "375/375 [==============================] - 3s 8ms/step - loss: 0.2411 - acc: 0.9094 - val_loss: 0.2986 - val_acc: 0.8938\n",
      "spending time: 0.9404672543207805  [min]\n"
     ]
    }
   ],
   "source": [
    "#fitting\n",
    "start=time.time()\n",
    "\n",
    "net_val2=net2.fit(X2_train,y2_train,batch_size=128,epochs=20,validation_split=0.2)\n",
    "\n",
    "print(\"spending time:\",abs(start-time.time())/60, ' [min]')"
   ]
  },
  {
   "cell_type": "code",
   "execution_count": 18,
   "metadata": {},
   "outputs": [
    {
     "name": "stdout",
     "output_type": "stream",
     "text": [
      "313/313 [==============================] - 1s 3ms/step - loss: 0.3253 - acc: 0.8859\n"
     ]
    }
   ],
   "source": [
    "test_loss2, test_acc2 = net2.evaluate(X2_test,y2_test)"
   ]
  },
  {
   "cell_type": "markdown",
   "metadata": {},
   "source": [
    "\n",
    "|Layer array        |Accuracy|time    |epoch|batch size|\n",
    "|:-----------------:|:------:|:------:|:---:|:--------:|\n",
    "|Softmax            |84.55%  |0.32 min|20   |128       |\n",
    "|D(128,r) $\\to$ S   |88.08%  |0.42 min|20   |128       |\n",
    "|D(/2,r)x5 $\\to$ S  |87.57%  |1.10 min|20   |    64    |\n",
    "|D(/2,r)x3 $\\to$ S  |88.00%  |1.10 min|20   |    64    |\n",
    "|D(392,r)x3 $\\to$ S |88.34%  |2.68 min|20   |    64    |\n",
    "|D(128,r)x3 $\\to$ S |88.90%  |0.49 min|20   |    128   |\n",
    "|D(128,sp)x3 $\\to$ S|88.45%  |0.71 min|20   |    128   |\n",
    "|D(128,ss)x3 $\\to$ S|87.96%  |0.53 min|20   |    128   |\n",
    "|D(128,th)x3 $\\to$ S|88.32%  |0.51 min|20   |    128   |\n",
    "|D(128,se)x3 $\\to$ S|88.42%  |0.57 min|20   |    128   |\n",
    "|D(128,er)x3 $\\to$ S|88.70%  |0.57 min|20   |    128   |\n",
    "\n",
    "\n",
    "D():Dense S: softmax r : RELU  sp:softplus  ss: softsign  th: tanh se: SELU er:ELU"
   ]
  },
  {
   "cell_type": "markdown",
   "metadata": {},
   "source": [
    "D(/2,r)는 28x28 input을 layer가 진행될 때마다 node를 1/2 한 것이다. r는 activation function으로 RELU를 사용했다는 것을 말한다.\n",
    "즉. D(node number, activation function) x (layer number)를 말한다.\n",
    "\n",
    "한편, 여러 조합을 시도해보았지만, 89% 이상으로 정확도가 올라가지 않는다. 인터넷으로 여러 글을 찾아본 결과 현재 이미징 분류에 최적합하다는 CNN(Convolution Neural Network)도 92~94%의 성능을 내는 것 같다. Fashion MNIST는 MNIST Digits 보다 분류가 까다로운 dataset 같다. 확실히 epoch를 100까지 올려보았을 때, 성능이 89%까지 나왔지만, 그 이상 돌려도 큰 변화는 찾아볼 수가 없었다."
   ]
  },
  {
   "cell_type": "markdown",
   "metadata": {},
   "source": [
    "### Results"
   ]
  },
  {
   "cell_type": "code",
   "execution_count": 19,
   "metadata": {},
   "outputs": [
    {
     "name": "stdout",
     "output_type": "stream",
     "text": [
      "Model: \"sequential_1\"\n",
      "_________________________________________________________________\n",
      "Layer (type)                 Output Shape              Param #   \n",
      "=================================================================\n",
      "dense_4 (Dense)              (None, 512)               401920    \n",
      "_________________________________________________________________\n",
      "dropout_3 (Dropout)          (None, 512)               0         \n",
      "_________________________________________________________________\n",
      "dense_5 (Dense)              (None, 512)               262656    \n",
      "_________________________________________________________________\n",
      "dropout_4 (Dropout)          (None, 512)               0         \n",
      "_________________________________________________________________\n",
      "dense_6 (Dense)              (None, 512)               262656    \n",
      "_________________________________________________________________\n",
      "dropout_5 (Dropout)          (None, 512)               0         \n",
      "_________________________________________________________________\n",
      "dense_7 (Dense)              (None, 10)                5130      \n",
      "=================================================================\n",
      "Total params: 932,362\n",
      "Trainable params: 932,362\n",
      "Non-trainable params: 0\n",
      "_________________________________________________________________\n"
     ]
    }
   ],
   "source": [
    "net2.summary()"
   ]
  },
  {
   "cell_type": "code",
   "execution_count": 20,
   "metadata": {},
   "outputs": [
    {
     "data": {
      "text/plain": [
       "<matplotlib.legend.Legend at 0x1f28eca3490>"
      ]
     },
     "execution_count": 20,
     "metadata": {},
     "output_type": "execute_result"
    },
    {
     "data": {
      "image/png": "[encoded data removed]",
      "text/plain": [
       "<Figure size 432x288 with 1 Axes>"
      ]
     },
     "metadata": {
      "needs_background": "light"
     },
     "output_type": "display_data"
    },
    {
     "data": {
      "image/png": "[encoded data removed]",
      "text/plain": [
       "<Figure size 432x288 with 1 Axes>"
      ]
     },
     "metadata": {
      "needs_background": "light"
     },
     "output_type": "display_data"
    }
   ],
   "source": [
    "val_dict2 = net_val2.history\n",
    "loss2 = val_dict2['loss']\n",
    "val_loss2 = val_dict2['val_loss']\n",
    "acc2=val_dict2['acc']\n",
    "val_acc2 =val_dict2['val_acc']\n",
    "\n",
    "plt.figure('loss2')\n",
    "x = np.arange(0,len(loss2))\n",
    "plt.title(\"loss by epoches\")\n",
    "plt.xlabel(\"epoches\") ; plt.ylabel('loss')\n",
    "plt.plot(x,loss2,'bo',label='E')\n",
    "plt.plot(x,val_loss2,'ro',label='$E_v$')\n",
    "plt.legend()\n",
    "\n",
    "plt.figure('acc2')\n",
    "x = np.arange(0,len(loss2))\n",
    "plt.title(\"accruary by epoches\")\n",
    "plt.xlabel(\"epoches\") ; plt.ylabel('accruracy [%]')\n",
    "plt.plot(x,acc2,'bo',label='E')\n",
    "plt.plot(x,val_acc2,'ro',label='$E_v$')\n",
    "plt.legend()"
   ]
  },
  {
   "cell_type": "code",
   "execution_count": 21,
   "metadata": {},
   "outputs": [
    {
     "data": {
      "text/html": [
       "<div>\n",
       "<style scoped>\n",
       "    .dataframe tbody tr th:only-of-type {\n",
       "        vertical-align: middle;\n",
       "    }\n",
       "\n",
       "    .dataframe tbody tr th {\n",
       "        vertical-align: top;\n",
       "    }\n",
       "\n",
       "    .dataframe thead th {\n",
       "        text-align: right;\n",
       "    }\n",
       "</style>\n",
       "<table border=\"1\" class=\"dataframe\">\n",
       "  <thead>\n",
       "    <tr style=\"text-align: right;\">\n",
       "      <th></th>\n",
       "      <th>answer</th>\n",
       "      <th>Predicted</th>\n",
       "    </tr>\n",
       "  </thead>\n",
       "  <tbody>\n",
       "    <tr>\n",
       "      <th>0</th>\n",
       "      <td>9</td>\n",
       "      <td>9</td>\n",
       "    </tr>\n",
       "    <tr>\n",
       "      <th>1</th>\n",
       "      <td>2</td>\n",
       "      <td>2</td>\n",
       "    </tr>\n",
       "    <tr>\n",
       "      <th>2</th>\n",
       "      <td>1</td>\n",
       "      <td>1</td>\n",
       "    </tr>\n",
       "    <tr>\n",
       "      <th>3</th>\n",
       "      <td>1</td>\n",
       "      <td>1</td>\n",
       "    </tr>\n",
       "    <tr>\n",
       "      <th>4</th>\n",
       "      <td>6</td>\n",
       "      <td>0</td>\n",
       "    </tr>\n",
       "    <tr>\n",
       "      <th>...</th>\n",
       "      <td>...</td>\n",
       "      <td>...</td>\n",
       "    </tr>\n",
       "    <tr>\n",
       "      <th>9995</th>\n",
       "      <td>9</td>\n",
       "      <td>9</td>\n",
       "    </tr>\n",
       "    <tr>\n",
       "      <th>9996</th>\n",
       "      <td>1</td>\n",
       "      <td>1</td>\n",
       "    </tr>\n",
       "    <tr>\n",
       "      <th>9997</th>\n",
       "      <td>8</td>\n",
       "      <td>8</td>\n",
       "    </tr>\n",
       "    <tr>\n",
       "      <th>9998</th>\n",
       "      <td>1</td>\n",
       "      <td>1</td>\n",
       "    </tr>\n",
       "    <tr>\n",
       "      <th>9999</th>\n",
       "      <td>5</td>\n",
       "      <td>5</td>\n",
       "    </tr>\n",
       "  </tbody>\n",
       "</table>\n",
       "<p>10000 rows × 2 columns</p>\n",
       "</div>"
      ],
      "text/plain": [
       "      answer  Predicted\n",
       "0          9          9\n",
       "1          2          2\n",
       "2          1          1\n",
       "3          1          1\n",
       "4          6          0\n",
       "...      ...        ...\n",
       "9995       9          9\n",
       "9996       1          1\n",
       "9997       8          8\n",
       "9998       1          1\n",
       "9999       5          5\n",
       "\n",
       "[10000 rows x 2 columns]"
      ]
     },
     "execution_count": 21,
     "metadata": {},
     "output_type": "execute_result"
    }
   ],
   "source": [
    "results2=net2.predict(X2_test)\n",
    "\n",
    "df2=pd.DataFrame({\"answer\":np.argmax(y2_test,axis=1),\"Predicted\":np.argmax(results2,axis=1)})\n",
    "\n",
    "df2"
   ]
  },
  {
   "cell_type": "code",
   "execution_count": 22,
   "metadata": {},
   "outputs": [
    {
     "data": {
      "image/png": "[encoded data removed]",
      "text/plain": [
       "<Figure size 360x360 with 25 Axes>"
      ]
     },
     "metadata": {},
     "output_type": "display_data"
    }
   ],
   "source": [
    "name=[\"T-Shirt\",\"Trouser\",\"Pullover\",'Dress','Coat','Sandal','Shirt','Sneaker',\"Bag\",\"Ankle boot\"]\n",
    "\n",
    "Wrong_arg2=[]\n",
    "for idx,val in enumerate(df2.answer!=df2.Predicted):\n",
    "    if val ==1:\n",
    "        Wrong_arg2.append(idx)\n",
    "Wrong_img2=X2_test[Wrong_arg2].reshape(-1,28,28)\n",
    "\n",
    "num_show=5**2 #the amount of image that you wanna see. should be squre of nature number.\n",
    "plt.figure(figsize=(int(np.sqrt(num_show)),int(np.sqrt(num_show))))\n",
    "for count,(arg,img) in enumerate(zip(Wrong_arg2[:num_show],Wrong_img2[:num_show])):\n",
    "    plt.subplot(int(np.sqrt(num_show)),int(np.sqrt(num_show)),count+1)\n",
    "    plt.xticks([]); plt.yticks([])\n",
    "    plt.grid(False)\n",
    "    plt.title('A:'+name[df2.answer[arg]],fontsize=10)\n",
    "    plt.xlabel('P:'+name[df2.Predicted[arg]])\n",
    "    plt.imshow(img,cmap='binary')\n",
    "\n",
    "plt.suptitle(\"Wrong Images\",fontsize=20)\n",
    "plt.tight_layout()\n",
    "plt.show()"
   ]
  },
  {
   "cell_type": "markdown",
   "metadata": {},
   "source": [
    "맞추지 못한 항목들을 보면, 사람이 분류했다고 하면 믿기 않을 항목도 있다. 확실히 해당 분야의 분류에 관해서는 모델을 더 발전 시킬 필요가 있어 보인다. 특히, 이미지 분류에 성능이 좋다는 CNN을 사용하면 더 좋은 스코어를 줄 것 같다. (여기서 CNN의 Convolution은 kernel을 이용해서 이미지를 filtering 하는 것을 말한다.)"
   ]
  },
  {
   "cell_type": "code",
   "execution_count": 23,
   "metadata": {},
   "outputs": [
    {
     "data": {
      "image/png": "[encoded data removed]",
      "text/plain": [
       "<Figure size 720x360 with 1 Axes>"
      ]
     },
     "metadata": {
      "needs_background": "light"
     },
     "output_type": "display_data"
    },
    {
     "name": "stdout",
     "output_type": "stream",
     "text": [
      "Total wrong Number: 1141\n"
     ]
    }
   ],
   "source": [
    "plt.figure(figsize=(10,5))\n",
    "plt.title(\"Wrong Prediction Histogram\")\n",
    "plt.xlabel(\"Labeled Fashion items\")\n",
    "plt.ylabel(\"Wrong Prediction Count [%]\")\n",
    "plt.hist(df2.answer[Wrong_arg2],bins=range(0,11),align='left',rwidth=0.5,density=True)\n",
    "plt.xticks(range(0,10),name)\n",
    "plt.grid(axis=\"y\")\n",
    "plt.show()\n",
    "\n",
    "print(\"Total wrong Number:\",np.sum(df2.answer!=df2.Predicted))"
   ]
  },
  {
   "cell_type": "markdown",
   "metadata": {},
   "source": [
    "해당 모델에서는 Shirt가 맞추기 가장 힘든 항목이며, Trouser, Sandal, Sneaker, Bag, Ankle boot는 비교적 분류하기 쉬운 항목인 것 같다."
   ]
  },
  {
   "cell_type": "markdown",
   "metadata": {},
   "source": [
    "딥러닝을 통한 분류는 데이터 양이 많더라도 빠르게 진행되며, 코드의 작성도 keras 모듈 덕에 굉장히 쉽다. 또한, 교수님의 말씀대로 hidden layer가 어느 정도 data를 engineering 해준다. 그렇지만, data를 어떻게 engineering을 해주는지 알 수 없어서 (layer 수, node 개수, activation function 종류, batch size)등을 아무런 기준도 없이 조합해 봐야 한다는 단점이 있다. 이는 단지 특정 형태는 어떤 데이터와 잘 맞는다 라는 경험적인 추측이 한계인 것 같다. 따라서 경험이 없이는 어떤 기준으로 layer를 설계해야 하는지 전혀 감이 잡히질 않는다는 단점이 있는 것 같다."
   ]
  },
  {
   "cell_type": "code",
   "execution_count": null,
   "metadata": {},
   "outputs": [],
   "source": []
  }
 ],
 "metadata": {
  "kernelspec": {
   "display_name": "Python 3",
   "language": "python",
   "name": "python3"
  },
  "language_info": {
   "codemirror_mode": {
    "name": "ipython",
    "version": 3
   },
   "file_extension": ".py",
   "mimetype": "text/x-python",
   "name": "python",
   "nbconvert_exporter": "python",
   "pygments_lexer": "ipython3",
   "version": "3.7.3"
  }
 },
 "nbformat": 4,
 "nbformat_minor": 4
}
